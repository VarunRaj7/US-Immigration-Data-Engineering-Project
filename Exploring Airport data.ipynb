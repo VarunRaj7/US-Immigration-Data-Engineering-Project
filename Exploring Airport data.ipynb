{
 "cells": [
  {
   "cell_type": "markdown",
   "metadata": {
    "editable": true
   },
   "source": [
    "### Exploring Airport data"
   ]
  },
  {
   "cell_type": "markdown",
   "metadata": {
    "editable": true
   },
   "source": [
    "#### Loading the Airport codes data"
   ]
  },
  {
   "cell_type": "code",
   "execution_count": 20,
   "metadata": {
    "editable": true
   },
   "outputs": [],
   "source": [
    "import pandas as pd\n",
    "import numpy as np\n",
    "\n",
    "pd.set_option(\"display.max_columns\", 500)"
   ]
  },
  {
   "cell_type": "code",
   "execution_count": 1,
   "metadata": {
    "editable": true
   },
   "outputs": [],
   "source": [
    "from pyspark.sql import SparkSession\n",
    "from pyspark.sql.window import Window\n",
    "import pyspark.sql.functions as F\n",
    "import pyspark.sql.types as T\n",
    "from unidecode import unidecode\n",
    "import re\n",
    "import datetime as dt"
   ]
  },
  {
   "cell_type": "code",
   "execution_count": 2,
   "metadata": {
    "editable": true
   },
   "outputs": [],
   "source": [
    "spark = SparkSession \\\n",
    "        .builder \\\n",
    "        .config(\"spark.jars.packages\", \"org.apache.hadoop:hadoop-aws:2.7.0\") \\\n",
    "        .getOrCreate()"
   ]
  },
  {
   "cell_type": "code",
   "execution_count": 4,
   "metadata": {
    "editable": true
   },
   "outputs": [],
   "source": [
    "df_apc =  spark.read.options(delimiter=\",\", header=True) \\\n",
    "                    .csv(\"Cleaned Data/I94_ports.csv\")"
   ]
  },
  {
   "cell_type": "code",
   "execution_count": 34,
   "metadata": {
    "editable": true
   },
   "outputs": [],
   "source": [
    "df_apc = df_apc.withColumn(\"province\", F.col(\"state\"))\n",
    "df_apc = df_apc.drop(\"state\")\n",
    "df_apc = df_apc.withColumn(\"territory\", F.col(\"country\"))\n",
    "df_apc = df_apc.drop(\"country\")"
   ]
  },
  {
   "cell_type": "code",
   "execution_count": 36,
   "metadata": {
    "editable": true
   },
   "outputs": [
    {
     "data": {
      "text/html": [
       "<div>\n",
       "<style scoped>\n",
       "    .dataframe tbody tr th:only-of-type {\n",
       "        vertical-align: middle;\n",
       "    }\n",
       "\n",
       "    .dataframe tbody tr th {\n",
       "        vertical-align: top;\n",
       "    }\n",
       "\n",
       "    .dataframe thead th {\n",
       "        text-align: right;\n",
       "    }\n",
       "</style>\n",
       "<table border=\"1\" class=\"dataframe\">\n",
       "  <thead>\n",
       "    <tr style=\"text-align: right;\">\n",
       "      <th></th>\n",
       "      <th>code</th>\n",
       "      <th>port</th>\n",
       "      <th>locality</th>\n",
       "      <th>province</th>\n",
       "      <th>territory</th>\n",
       "    </tr>\n",
       "  </thead>\n",
       "  <tbody>\n",
       "    <tr>\n",
       "      <th>0</th>\n",
       "      <td>CLG</td>\n",
       "      <td>None</td>\n",
       "      <td>Calgary</td>\n",
       "      <td>Alberta</td>\n",
       "      <td>Canada</td>\n",
       "    </tr>\n",
       "    <tr>\n",
       "      <th>1</th>\n",
       "      <td>EDA</td>\n",
       "      <td>None</td>\n",
       "      <td>Edmonton</td>\n",
       "      <td>Alberta</td>\n",
       "      <td>Canada</td>\n",
       "    </tr>\n",
       "    <tr>\n",
       "      <th>2</th>\n",
       "      <td>YHC</td>\n",
       "      <td>None</td>\n",
       "      <td>Hakai pass</td>\n",
       "      <td>British Columbia</td>\n",
       "      <td>Canada</td>\n",
       "    </tr>\n",
       "    <tr>\n",
       "      <th>3</th>\n",
       "      <td>HAL</td>\n",
       "      <td>None</td>\n",
       "      <td>Halifax</td>\n",
       "      <td>Nova Scotia</td>\n",
       "      <td>Canada</td>\n",
       "    </tr>\n",
       "    <tr>\n",
       "      <th>4</th>\n",
       "      <td>MON</td>\n",
       "      <td>None</td>\n",
       "      <td>Montreal</td>\n",
       "      <td>Quebec</td>\n",
       "      <td>Canada</td>\n",
       "    </tr>\n",
       "  </tbody>\n",
       "</table>\n",
       "</div>"
      ],
      "text/plain": [
       "  code  port    locality          province territory\n",
       "0  CLG  None     Calgary           Alberta    Canada\n",
       "1  EDA  None    Edmonton           Alberta    Canada\n",
       "2  YHC  None  Hakai pass  British Columbia    Canada\n",
       "3  HAL  None     Halifax       Nova Scotia    Canada\n",
       "4  MON  None    Montreal            Quebec    Canada"
      ]
     },
     "execution_count": 36,
     "metadata": {},
     "output_type": "execute_result"
    }
   ],
   "source": [
    "df_apc.limit(5).toPandas()"
   ]
  },
  {
   "cell_type": "markdown",
   "metadata": {
    "editable": true
   },
   "source": [
    "#### Loading the Airport data"
   ]
  },
  {
   "cell_type": "code",
   "execution_count": 14,
   "metadata": {
    "editable": true
   },
   "outputs": [],
   "source": [
    "df_apd =  spark.read.options(delimiter=\"|\", header=True, encoding=\"ISO-8859-1\") \\\n",
    "                    .csv(\"Cleaned Data/Airports_Data/*.csv\")"
   ]
  },
  {
   "cell_type": "code",
   "execution_count": 35,
   "metadata": {
    "editable": true
   },
   "outputs": [
    {
     "data": {
      "text/html": [
       "<div>\n",
       "<style scoped>\n",
       "    .dataframe tbody tr th:only-of-type {\n",
       "        vertical-align: middle;\n",
       "    }\n",
       "\n",
       "    .dataframe tbody tr th {\n",
       "        vertical-align: top;\n",
       "    }\n",
       "\n",
       "    .dataframe thead th {\n",
       "        text-align: right;\n",
       "    }\n",
       "</style>\n",
       "<table border=\"1\" class=\"dataframe\">\n",
       "  <thead>\n",
       "    <tr style=\"text-align: right;\">\n",
       "      <th></th>\n",
       "      <th>ident</th>\n",
       "      <th>type</th>\n",
       "      <th>elevation_ft</th>\n",
       "      <th>continent</th>\n",
       "      <th>iso_country</th>\n",
       "      <th>iso_region</th>\n",
       "      <th>gps_code</th>\n",
       "      <th>iata_code</th>\n",
       "      <th>local_code</th>\n",
       "      <th>coordinates</th>\n",
       "      <th>nameL</th>\n",
       "      <th>municipalityL</th>\n",
       "      <th>nameE</th>\n",
       "      <th>municipalityE</th>\n",
       "      <th>country</th>\n",
       "      <th>state</th>\n",
       "    </tr>\n",
       "  </thead>\n",
       "  <tbody>\n",
       "    <tr>\n",
       "      <th>0</th>\n",
       "      <td>00A</td>\n",
       "      <td>heliport</td>\n",
       "      <td>11</td>\n",
       "      <td>NA</td>\n",
       "      <td>US</td>\n",
       "      <td>US-PA</td>\n",
       "      <td>00A</td>\n",
       "      <td>None</td>\n",
       "      <td>00A</td>\n",
       "      <td>-74.93360137939453, 40.07080078125</td>\n",
       "      <td>Total Rf Heliport</td>\n",
       "      <td>Bensalem</td>\n",
       "      <td>Total Rf Heliport</td>\n",
       "      <td>Bensalem</td>\n",
       "      <td>United States</td>\n",
       "      <td>Pennsylvania</td>\n",
       "    </tr>\n",
       "    <tr>\n",
       "      <th>1</th>\n",
       "      <td>00AA</td>\n",
       "      <td>small_airport</td>\n",
       "      <td>3435</td>\n",
       "      <td>NA</td>\n",
       "      <td>US</td>\n",
       "      <td>US-KS</td>\n",
       "      <td>00AA</td>\n",
       "      <td>None</td>\n",
       "      <td>00AA</td>\n",
       "      <td>-101.473911, 38.704022</td>\n",
       "      <td>Aero B Ranch Airport</td>\n",
       "      <td>Leoti</td>\n",
       "      <td>Aero B Ranch Airport</td>\n",
       "      <td>Leoti</td>\n",
       "      <td>United States</td>\n",
       "      <td>Kansas</td>\n",
       "    </tr>\n",
       "    <tr>\n",
       "      <th>2</th>\n",
       "      <td>00AK</td>\n",
       "      <td>small_airport</td>\n",
       "      <td>450</td>\n",
       "      <td>NA</td>\n",
       "      <td>US</td>\n",
       "      <td>US-AK</td>\n",
       "      <td>00AK</td>\n",
       "      <td>None</td>\n",
       "      <td>00AK</td>\n",
       "      <td>-151.695999146, 59.94919968</td>\n",
       "      <td>Lowell Field</td>\n",
       "      <td>Anchor Point</td>\n",
       "      <td>Lowell Field</td>\n",
       "      <td>Anchor Point</td>\n",
       "      <td>United States</td>\n",
       "      <td>Alaska</td>\n",
       "    </tr>\n",
       "    <tr>\n",
       "      <th>3</th>\n",
       "      <td>00AL</td>\n",
       "      <td>small_airport</td>\n",
       "      <td>820</td>\n",
       "      <td>NA</td>\n",
       "      <td>US</td>\n",
       "      <td>US-AL</td>\n",
       "      <td>00AL</td>\n",
       "      <td>None</td>\n",
       "      <td>00AL</td>\n",
       "      <td>-86.77030181884766, 34.86479949951172</td>\n",
       "      <td>Epps Airpark</td>\n",
       "      <td>Harvest</td>\n",
       "      <td>Epps Airpark</td>\n",
       "      <td>Harvest</td>\n",
       "      <td>United States</td>\n",
       "      <td>Alabama</td>\n",
       "    </tr>\n",
       "    <tr>\n",
       "      <th>4</th>\n",
       "      <td>00AR</td>\n",
       "      <td>closed</td>\n",
       "      <td>237</td>\n",
       "      <td>NA</td>\n",
       "      <td>US</td>\n",
       "      <td>US-AR</td>\n",
       "      <td>None</td>\n",
       "      <td>None</td>\n",
       "      <td>None</td>\n",
       "      <td>-91.254898, 35.6087</td>\n",
       "      <td>Newport Hospital &amp; Clinic Heliport</td>\n",
       "      <td>Newport</td>\n",
       "      <td>Newport Hospital &amp; Clinic Heliport</td>\n",
       "      <td>Newport</td>\n",
       "      <td>United States</td>\n",
       "      <td>Arkansas</td>\n",
       "    </tr>\n",
       "  </tbody>\n",
       "</table>\n",
       "</div>"
      ],
      "text/plain": [
       "  ident           type elevation_ft continent iso_country iso_region gps_code  \\\n",
       "0   00A       heliport           11        NA          US      US-PA      00A   \n",
       "1  00AA  small_airport         3435        NA          US      US-KS     00AA   \n",
       "2  00AK  small_airport          450        NA          US      US-AK     00AK   \n",
       "3  00AL  small_airport          820        NA          US      US-AL     00AL   \n",
       "4  00AR         closed          237        NA          US      US-AR     None   \n",
       "\n",
       "  iata_code local_code                            coordinates  \\\n",
       "0      None        00A     -74.93360137939453, 40.07080078125   \n",
       "1      None       00AA                 -101.473911, 38.704022   \n",
       "2      None       00AK            -151.695999146, 59.94919968   \n",
       "3      None       00AL  -86.77030181884766, 34.86479949951172   \n",
       "4      None       None                    -91.254898, 35.6087   \n",
       "\n",
       "                                nameL municipalityL  \\\n",
       "0                   Total Rf Heliport      Bensalem   \n",
       "1                Aero B Ranch Airport         Leoti   \n",
       "2                        Lowell Field  Anchor Point   \n",
       "3                        Epps Airpark       Harvest   \n",
       "4  Newport Hospital & Clinic Heliport       Newport   \n",
       "\n",
       "                                nameE municipalityE        country  \\\n",
       "0                   Total Rf Heliport      Bensalem  United States   \n",
       "1                Aero B Ranch Airport         Leoti  United States   \n",
       "2                        Lowell Field  Anchor Point  United States   \n",
       "3                        Epps Airpark       Harvest  United States   \n",
       "4  Newport Hospital & Clinic Heliport       Newport  United States   \n",
       "\n",
       "          state  \n",
       "0  Pennsylvania  \n",
       "1        Kansas  \n",
       "2        Alaska  \n",
       "3       Alabama  \n",
       "4      Arkansas  "
      ]
     },
     "execution_count": 35,
     "metadata": {},
     "output_type": "execute_result"
    }
   ],
   "source": [
    "df_apd.limit(5).toPandas()"
   ]
  },
  {
   "cell_type": "code",
   "execution_count": 16,
   "metadata": {
    "editable": true
   },
   "outputs": [
    {
     "data": {
      "text/html": [
       "<div>\n",
       "<style scoped>\n",
       "    .dataframe tbody tr th:only-of-type {\n",
       "        vertical-align: middle;\n",
       "    }\n",
       "\n",
       "    .dataframe tbody tr th {\n",
       "        vertical-align: top;\n",
       "    }\n",
       "\n",
       "    .dataframe thead th {\n",
       "        text-align: right;\n",
       "    }\n",
       "</style>\n",
       "<table border=\"1\" class=\"dataframe\">\n",
       "  <thead>\n",
       "    <tr style=\"text-align: right;\">\n",
       "      <th></th>\n",
       "      <th>ident</th>\n",
       "      <th>type</th>\n",
       "      <th>elevation_ft</th>\n",
       "      <th>continent</th>\n",
       "      <th>iso_country</th>\n",
       "      <th>iso_region</th>\n",
       "      <th>gps_code</th>\n",
       "      <th>iata_code</th>\n",
       "      <th>local_code</th>\n",
       "      <th>coordinates</th>\n",
       "      <th>nameL</th>\n",
       "      <th>municipalityL</th>\n",
       "      <th>nameE</th>\n",
       "      <th>municipalityE</th>\n",
       "      <th>country</th>\n",
       "      <th>state</th>\n",
       "    </tr>\n",
       "  </thead>\n",
       "  <tbody>\n",
       "    <tr>\n",
       "      <th>0</th>\n",
       "      <td>AMC</td>\n",
       "      <td>small_airport</td>\n",
       "      <td>71</td>\n",
       "      <td>NA</td>\n",
       "      <td>MX</td>\n",
       "      <td>MX-SON</td>\n",
       "      <td>MMPE</td>\n",
       "      <td>PPE</td>\n",
       "      <td>83550</td>\n",
       "      <td>-113.305177, 31.351987</td>\n",
       "      <td>Mar de Cortés International Airport</td>\n",
       "      <td>Puerto Peñasco</td>\n",
       "      <td>Mar de Cortes International Airport</td>\n",
       "      <td>Puerto Penasco</td>\n",
       "      <td>Mexico</td>\n",
       "      <td>Sonora</td>\n",
       "    </tr>\n",
       "    <tr>\n",
       "      <th>1</th>\n",
       "      <td>BHL</td>\n",
       "      <td>small_airport</td>\n",
       "      <td>34</td>\n",
       "      <td>NA</td>\n",
       "      <td>MX</td>\n",
       "      <td>MX-BCN</td>\n",
       "      <td>None</td>\n",
       "      <td>BHL</td>\n",
       "      <td>BAX</td>\n",
       "      <td>-113.560997, 28.9786</td>\n",
       "      <td>Bahía de los Ángeles Airport</td>\n",
       "      <td>Bahía de los Ángeles</td>\n",
       "      <td>Bahia de los Angeles Airport</td>\n",
       "      <td>Bahia de los Angeles</td>\n",
       "      <td>Mexico</td>\n",
       "      <td>Baja California</td>\n",
       "    </tr>\n",
       "    <tr>\n",
       "      <th>2</th>\n",
       "      <td>BLM</td>\n",
       "      <td>small_airport</td>\n",
       "      <td>33</td>\n",
       "      <td>NA</td>\n",
       "      <td>MX</td>\n",
       "      <td>MX-BCN</td>\n",
       "      <td>None</td>\n",
       "      <td>None</td>\n",
       "      <td>BLM</td>\n",
       "      <td>-113.528723717, 28.891952244799995</td>\n",
       "      <td>Bahia De Los Angelos South</td>\n",
       "      <td>None</td>\n",
       "      <td>Bahia De Los Angelos South</td>\n",
       "      <td>None</td>\n",
       "      <td>Mexico</td>\n",
       "      <td>Baja California</td>\n",
       "    </tr>\n",
       "    <tr>\n",
       "      <th>3</th>\n",
       "      <td>CYD</td>\n",
       "      <td>small_airport</td>\n",
       "      <td>575</td>\n",
       "      <td>NA</td>\n",
       "      <td>MX</td>\n",
       "      <td>MX-BCS</td>\n",
       "      <td>None</td>\n",
       "      <td>None</td>\n",
       "      <td>None</td>\n",
       "      <td>-112.8851, 27.2906</td>\n",
       "      <td>San Ignacio Downtown Airstrip</td>\n",
       "      <td>Mulegé</td>\n",
       "      <td>San Ignacio Downtown Airstrip</td>\n",
       "      <td>Mulege</td>\n",
       "      <td>Mexico</td>\n",
       "      <td>Baja California Sur</td>\n",
       "    </tr>\n",
       "    <tr>\n",
       "      <th>4</th>\n",
       "      <td>LOM</td>\n",
       "      <td>small_airport</td>\n",
       "      <td>6227</td>\n",
       "      <td>NA</td>\n",
       "      <td>MX</td>\n",
       "      <td>MX-JAL</td>\n",
       "      <td>None</td>\n",
       "      <td>LOM</td>\n",
       "      <td>LMO</td>\n",
       "      <td>-101.9441, 21.2581</td>\n",
       "      <td>Francisco Primo de Verdad y Ramos Airport</td>\n",
       "      <td>Lagos de Moreno</td>\n",
       "      <td>Francisco Primo de Verdad y Ramos Airport</td>\n",
       "      <td>Lagos de Moreno</td>\n",
       "      <td>Mexico</td>\n",
       "      <td>Jalisco</td>\n",
       "    </tr>\n",
       "  </tbody>\n",
       "</table>\n",
       "</div>"
      ],
      "text/plain": [
       "  ident           type elevation_ft continent iso_country iso_region gps_code  \\\n",
       "0   AMC  small_airport           71        NA          MX     MX-SON     MMPE   \n",
       "1   BHL  small_airport           34        NA          MX     MX-BCN     None   \n",
       "2   BLM  small_airport           33        NA          MX     MX-BCN     None   \n",
       "3   CYD  small_airport          575        NA          MX     MX-BCS     None   \n",
       "4   LOM  small_airport         6227        NA          MX     MX-JAL     None   \n",
       "\n",
       "  iata_code local_code                         coordinates  \\\n",
       "0       PPE      83550              -113.305177, 31.351987   \n",
       "1       BHL        BAX                -113.560997, 28.9786   \n",
       "2      None        BLM  -113.528723717, 28.891952244799995   \n",
       "3      None       None                  -112.8851, 27.2906   \n",
       "4       LOM        LMO                  -101.9441, 21.2581   \n",
       "\n",
       "                                       nameL         municipalityL  \\\n",
       "0        Mar de Cortés International Airport        Puerto Peñasco   \n",
       "1               Bahía de los Ángeles Airport  Bahía de los Ángeles   \n",
       "2                 Bahia De Los Angelos South                  None   \n",
       "3              San Ignacio Downtown Airstrip                Mulegé   \n",
       "4  Francisco Primo de Verdad y Ramos Airport       Lagos de Moreno   \n",
       "\n",
       "                                       nameE         municipalityE country  \\\n",
       "0        Mar de Cortes International Airport        Puerto Penasco  Mexico   \n",
       "1               Bahia de los Angeles Airport  Bahia de los Angeles  Mexico   \n",
       "2                 Bahia De Los Angelos South                  None  Mexico   \n",
       "3              San Ignacio Downtown Airstrip                Mulege  Mexico   \n",
       "4  Francisco Primo de Verdad y Ramos Airport       Lagos de Moreno  Mexico   \n",
       "\n",
       "                 state  \n",
       "0               Sonora  \n",
       "1      Baja California  \n",
       "2      Baja California  \n",
       "3  Baja California Sur  \n",
       "4              Jalisco  "
      ]
     },
     "execution_count": 16,
     "metadata": {},
     "output_type": "execute_result"
    }
   ],
   "source": [
    "df_apd.filter(F.col(\"iso_country\")==\"MX\").limit(5).toPandas()"
   ]
  },
  {
   "cell_type": "markdown",
   "metadata": {
    "editable": true
   },
   "source": [
    "    Merging both the dataframes by the city. state, and country"
   ]
  },
  {
   "cell_type": "code",
   "execution_count": 37,
   "metadata": {
    "editable": true
   },
   "outputs": [],
   "source": [
    "cond = [df_apc.locality==df_apd.municipalityE, df_apc.province==df_apd.state, df_apc.territory==df_apd.country]\n",
    "df_merged = df_apd.join(F.broadcast(df_apc), cond, \"inner\")"
   ]
  },
  {
   "cell_type": "code",
   "execution_count": 38,
   "metadata": {
    "editable": true
   },
   "outputs": [
    {
     "data": {
      "text/html": [
       "<div>\n",
       "<style scoped>\n",
       "    .dataframe tbody tr th:only-of-type {\n",
       "        vertical-align: middle;\n",
       "    }\n",
       "\n",
       "    .dataframe tbody tr th {\n",
       "        vertical-align: top;\n",
       "    }\n",
       "\n",
       "    .dataframe thead th {\n",
       "        text-align: right;\n",
       "    }\n",
       "</style>\n",
       "<table border=\"1\" class=\"dataframe\">\n",
       "  <thead>\n",
       "    <tr style=\"text-align: right;\">\n",
       "      <th></th>\n",
       "      <th>ident</th>\n",
       "      <th>type</th>\n",
       "      <th>elevation_ft</th>\n",
       "      <th>continent</th>\n",
       "      <th>iso_country</th>\n",
       "      <th>iso_region</th>\n",
       "      <th>gps_code</th>\n",
       "      <th>iata_code</th>\n",
       "      <th>local_code</th>\n",
       "      <th>coordinates</th>\n",
       "      <th>nameL</th>\n",
       "      <th>municipalityL</th>\n",
       "      <th>nameE</th>\n",
       "      <th>municipalityE</th>\n",
       "      <th>country</th>\n",
       "      <th>state</th>\n",
       "      <th>code</th>\n",
       "      <th>port</th>\n",
       "      <th>locality</th>\n",
       "      <th>province</th>\n",
       "      <th>territory</th>\n",
       "    </tr>\n",
       "  </thead>\n",
       "  <tbody>\n",
       "    <tr>\n",
       "      <th>0</th>\n",
       "      <td>CA-0005</td>\n",
       "      <td>closed</td>\n",
       "      <td>None</td>\n",
       "      <td>NA</td>\n",
       "      <td>CA</td>\n",
       "      <td>CA-AB</td>\n",
       "      <td>None</td>\n",
       "      <td>None</td>\n",
       "      <td>None</td>\n",
       "      <td>-114.13300323486328, 51.0093994140625</td>\n",
       "      <td>RCAF Station Lincoln Park</td>\n",
       "      <td>Calgary</td>\n",
       "      <td>RCAF Station Lincoln Park</td>\n",
       "      <td>Calgary</td>\n",
       "      <td>Canada</td>\n",
       "      <td>Alberta</td>\n",
       "      <td>CLG</td>\n",
       "      <td>None</td>\n",
       "      <td>Calgary</td>\n",
       "      <td>Alberta</td>\n",
       "      <td>Canada</td>\n",
       "    </tr>\n",
       "    <tr>\n",
       "      <th>1</th>\n",
       "      <td>CA-0088</td>\n",
       "      <td>small_airport</td>\n",
       "      <td>210</td>\n",
       "      <td>NA</td>\n",
       "      <td>CA</td>\n",
       "      <td>CA-ON</td>\n",
       "      <td>None</td>\n",
       "      <td>None</td>\n",
       "      <td>None</td>\n",
       "      <td>-75.29694366455078, 45.391666412353516</td>\n",
       "      <td>Navan Bearbrook Airport</td>\n",
       "      <td>Ottawa</td>\n",
       "      <td>Navan Bearbrook Airport</td>\n",
       "      <td>Ottawa</td>\n",
       "      <td>Canada</td>\n",
       "      <td>Ontario</td>\n",
       "      <td>OTT</td>\n",
       "      <td>None</td>\n",
       "      <td>Ottawa</td>\n",
       "      <td>Ontario</td>\n",
       "      <td>Canada</td>\n",
       "    </tr>\n",
       "    <tr>\n",
       "      <th>2</th>\n",
       "      <td>CA-0125</td>\n",
       "      <td>closed</td>\n",
       "      <td>2225</td>\n",
       "      <td>NA</td>\n",
       "      <td>CA</td>\n",
       "      <td>CA-AB</td>\n",
       "      <td>None</td>\n",
       "      <td>None</td>\n",
       "      <td>FR3</td>\n",
       "      <td>-113.233002, 53.583302</td>\n",
       "      <td>Bremner Airport</td>\n",
       "      <td>Edmonton</td>\n",
       "      <td>Bremner Airport</td>\n",
       "      <td>Edmonton</td>\n",
       "      <td>Canada</td>\n",
       "      <td>Alberta</td>\n",
       "      <td>EDA</td>\n",
       "      <td>None</td>\n",
       "      <td>Edmonton</td>\n",
       "      <td>Alberta</td>\n",
       "      <td>Canada</td>\n",
       "    </tr>\n",
       "    <tr>\n",
       "      <th>3</th>\n",
       "      <td>CA-0126</td>\n",
       "      <td>closed</td>\n",
       "      <td>None</td>\n",
       "      <td>NA</td>\n",
       "      <td>CA</td>\n",
       "      <td>CA-AB</td>\n",
       "      <td>None</td>\n",
       "      <td>None</td>\n",
       "      <td>None</td>\n",
       "      <td>-113.46700286865234, 53.68330001831055</td>\n",
       "      <td>Namao Airport</td>\n",
       "      <td>Edmonton</td>\n",
       "      <td>Namao Airport</td>\n",
       "      <td>Edmonton</td>\n",
       "      <td>Canada</td>\n",
       "      <td>Alberta</td>\n",
       "      <td>EDA</td>\n",
       "      <td>None</td>\n",
       "      <td>Edmonton</td>\n",
       "      <td>Alberta</td>\n",
       "      <td>Canada</td>\n",
       "    </tr>\n",
       "    <tr>\n",
       "      <th>4</th>\n",
       "      <td>CA-0396</td>\n",
       "      <td>closed</td>\n",
       "      <td>None</td>\n",
       "      <td>NA</td>\n",
       "      <td>CA</td>\n",
       "      <td>CA-BC</td>\n",
       "      <td>None</td>\n",
       "      <td>None</td>\n",
       "      <td>None</td>\n",
       "      <td>-122.933339775, 49.2691976954</td>\n",
       "      <td>Burnaby (Terminal) Heliport</td>\n",
       "      <td>Vancouver</td>\n",
       "      <td>Burnaby (Terminal) Heliport</td>\n",
       "      <td>Vancouver</td>\n",
       "      <td>Canada</td>\n",
       "      <td>British Columbia</td>\n",
       "      <td>VCV</td>\n",
       "      <td>None</td>\n",
       "      <td>Vancouver</td>\n",
       "      <td>British Columbia</td>\n",
       "      <td>Canada</td>\n",
       "    </tr>\n",
       "  </tbody>\n",
       "</table>\n",
       "</div>"
      ],
      "text/plain": [
       "     ident           type elevation_ft continent iso_country iso_region  \\\n",
       "0  CA-0005         closed         None        NA          CA      CA-AB   \n",
       "1  CA-0088  small_airport          210        NA          CA      CA-ON   \n",
       "2  CA-0125         closed         2225        NA          CA      CA-AB   \n",
       "3  CA-0126         closed         None        NA          CA      CA-AB   \n",
       "4  CA-0396         closed         None        NA          CA      CA-BC   \n",
       "\n",
       "  gps_code iata_code local_code                             coordinates  \\\n",
       "0     None      None       None   -114.13300323486328, 51.0093994140625   \n",
       "1     None      None       None  -75.29694366455078, 45.391666412353516   \n",
       "2     None      None        FR3                  -113.233002, 53.583302   \n",
       "3     None      None       None  -113.46700286865234, 53.68330001831055   \n",
       "4     None      None       None           -122.933339775, 49.2691976954   \n",
       "\n",
       "                         nameL municipalityL                        nameE  \\\n",
       "0    RCAF Station Lincoln Park       Calgary    RCAF Station Lincoln Park   \n",
       "1      Navan Bearbrook Airport        Ottawa      Navan Bearbrook Airport   \n",
       "2              Bremner Airport      Edmonton              Bremner Airport   \n",
       "3                Namao Airport      Edmonton                Namao Airport   \n",
       "4  Burnaby (Terminal) Heliport     Vancouver  Burnaby (Terminal) Heliport   \n",
       "\n",
       "  municipalityE country             state code  port   locality  \\\n",
       "0       Calgary  Canada           Alberta  CLG  None    Calgary   \n",
       "1        Ottawa  Canada           Ontario  OTT  None     Ottawa   \n",
       "2      Edmonton  Canada           Alberta  EDA  None   Edmonton   \n",
       "3      Edmonton  Canada           Alberta  EDA  None   Edmonton   \n",
       "4     Vancouver  Canada  British Columbia  VCV  None  Vancouver   \n",
       "\n",
       "           province territory  \n",
       "0           Alberta    Canada  \n",
       "1           Ontario    Canada  \n",
       "2           Alberta    Canada  \n",
       "3           Alberta    Canada  \n",
       "4  British Columbia    Canada  "
      ]
     },
     "execution_count": 38,
     "metadata": {},
     "output_type": "execute_result"
    }
   ],
   "source": [
    "df_merged.limit(5).toPandas()"
   ]
  },
  {
   "cell_type": "code",
   "execution_count": 39,
   "metadata": {
    "editable": true
   },
   "outputs": [
    {
     "data": {
      "text/plain": [
       "194"
      ]
     },
     "execution_count": 39,
     "metadata": {},
     "output_type": "execute_result"
    }
   ],
   "source": [
    "df_merged.count()"
   ]
  },
  {
   "cell_type": "code",
   "execution_count": 40,
   "metadata": {
    "editable": true
   },
   "outputs": [
    {
     "data": {
      "text/plain": [
       "['ident',\n",
       " 'type',\n",
       " 'elevation_ft',\n",
       " 'continent',\n",
       " 'iso_country',\n",
       " 'iso_region',\n",
       " 'gps_code',\n",
       " 'iata_code',\n",
       " 'local_code',\n",
       " 'coordinates',\n",
       " 'nameL',\n",
       " 'municipalityL',\n",
       " 'nameE',\n",
       " 'municipalityE',\n",
       " 'country',\n",
       " 'state',\n",
       " 'code',\n",
       " 'port',\n",
       " 'locality',\n",
       " 'province',\n",
       " 'territory']"
      ]
     },
     "execution_count": 40,
     "metadata": {},
     "output_type": "execute_result"
    }
   ],
   "source": [
    "df_merged.columns"
   ]
  },
  {
   "cell_type": "code",
   "execution_count": 41,
   "metadata": {
    "editable": true
   },
   "outputs": [
    {
     "ename": "AnalysisException",
     "evalue": "\"cannot resolve '`name`' given input columns: [municipalityL, port, municipalityE, nameE, type, state, iso_country, nameL, coordinates, iata_code, locality, country, code, territory, iso_region, ident, local_code, gps_code, continent, elevation_ft, province];;\\n'Filter ('name = )\\n+- Join Inner, (((locality#12 = municipalityE#148) && (province#609 = state#150)) && (territory#621 = country#149))\\n   :- Relation[ident#135,type#136,elevation_ft#137,continent#138,iso_country#139,iso_region#140,gps_code#141,iata_code#142,local_code#143,coordinates#144,nameL#145,municipalityL#146,nameE#147,municipalityE#148,country#149,state#150] csv\\n   +- ResolvedHint (broadcast)\\n      +- Project [code#10, port#11, locality#12, province#609, territory#621]\\n         +- Project [code#10, port#11, locality#12, country#14, province#609, country#14 AS territory#621]\\n            +- Project [code#10, port#11, locality#12, country#14, province#609]\\n               +- Project [code#10, port#11, locality#12, state#13, country#14, state#13 AS province#609]\\n                  +- Relation[code#10,port#11,locality#12,state#13,country#14] csv\\n\"",
     "output_type": "error",
     "traceback": [
      "\u001b[0;31m---------------------------------------------------------------------------\u001b[0m",
      "\u001b[0;31mPy4JJavaError\u001b[0m                             Traceback (most recent call last)",
      "\u001b[0;32m/opt/spark-2.4.3-bin-hadoop2.7/python/pyspark/sql/utils.py\u001b[0m in \u001b[0;36mdeco\u001b[0;34m(*a, **kw)\u001b[0m\n\u001b[1;32m     62\u001b[0m         \u001b[0;32mtry\u001b[0m\u001b[0;34m:\u001b[0m\u001b[0;34m\u001b[0m\u001b[0m\n\u001b[0;32m---> 63\u001b[0;31m             \u001b[0;32mreturn\u001b[0m \u001b[0mf\u001b[0m\u001b[0;34m(\u001b[0m\u001b[0;34m*\u001b[0m\u001b[0ma\u001b[0m\u001b[0;34m,\u001b[0m \u001b[0;34m**\u001b[0m\u001b[0mkw\u001b[0m\u001b[0;34m)\u001b[0m\u001b[0;34m\u001b[0m\u001b[0m\n\u001b[0m\u001b[1;32m     64\u001b[0m         \u001b[0;32mexcept\u001b[0m \u001b[0mpy4j\u001b[0m\u001b[0;34m.\u001b[0m\u001b[0mprotocol\u001b[0m\u001b[0;34m.\u001b[0m\u001b[0mPy4JJavaError\u001b[0m \u001b[0;32mas\u001b[0m \u001b[0me\u001b[0m\u001b[0;34m:\u001b[0m\u001b[0;34m\u001b[0m\u001b[0m\n",
      "\u001b[0;32m/opt/spark-2.4.3-bin-hadoop2.7/python/lib/py4j-0.10.7-src.zip/py4j/protocol.py\u001b[0m in \u001b[0;36mget_return_value\u001b[0;34m(answer, gateway_client, target_id, name)\u001b[0m\n\u001b[1;32m    327\u001b[0m                     \u001b[0;34m\"An error occurred while calling {0}{1}{2}.\\n\"\u001b[0m\u001b[0;34m.\u001b[0m\u001b[0;34m\u001b[0m\u001b[0m\n\u001b[0;32m--> 328\u001b[0;31m                     format(target_id, \".\", name), value)\n\u001b[0m\u001b[1;32m    329\u001b[0m             \u001b[0;32melse\u001b[0m\u001b[0;34m:\u001b[0m\u001b[0;34m\u001b[0m\u001b[0m\n",
      "\u001b[0;31mPy4JJavaError\u001b[0m: An error occurred while calling o388.filter.\n: org.apache.spark.sql.AnalysisException: cannot resolve '`name`' given input columns: [municipalityL, port, municipalityE, nameE, type, state, iso_country, nameL, coordinates, iata_code, locality, country, code, territory, iso_region, ident, local_code, gps_code, continent, elevation_ft, province];;\n'Filter ('name = )\n+- Join Inner, (((locality#12 = municipalityE#148) && (province#609 = state#150)) && (territory#621 = country#149))\n   :- Relation[ident#135,type#136,elevation_ft#137,continent#138,iso_country#139,iso_region#140,gps_code#141,iata_code#142,local_code#143,coordinates#144,nameL#145,municipalityL#146,nameE#147,municipalityE#148,country#149,state#150] csv\n   +- ResolvedHint (broadcast)\n      +- Project [code#10, port#11, locality#12, province#609, territory#621]\n         +- Project [code#10, port#11, locality#12, country#14, province#609, country#14 AS territory#621]\n            +- Project [code#10, port#11, locality#12, country#14, province#609]\n               +- Project [code#10, port#11, locality#12, state#13, country#14, state#13 AS province#609]\n                  +- Relation[code#10,port#11,locality#12,state#13,country#14] csv\n\n\tat org.apache.spark.sql.catalyst.analysis.package$AnalysisErrorAt.failAnalysis(package.scala:42)\n\tat org.apache.spark.sql.catalyst.analysis.CheckAnalysis$$anonfun$checkAnalysis$1$$anonfun$apply$3.applyOrElse(CheckAnalysis.scala:110)\n\tat org.apache.spark.sql.catalyst.analysis.CheckAnalysis$$anonfun$checkAnalysis$1$$anonfun$apply$3.applyOrElse(CheckAnalysis.scala:107)\n\tat org.apache.spark.sql.catalyst.trees.TreeNode$$anonfun$transformUp$1.apply(TreeNode.scala:278)\n\tat org.apache.spark.sql.catalyst.trees.TreeNode$$anonfun$transformUp$1.apply(TreeNode.scala:278)\n\tat org.apache.spark.sql.catalyst.trees.CurrentOrigin$.withOrigin(TreeNode.scala:70)\n\tat org.apache.spark.sql.catalyst.trees.TreeNode.transformUp(TreeNode.scala:277)\n\tat org.apache.spark.sql.catalyst.trees.TreeNode$$anonfun$3.apply(TreeNode.scala:275)\n\tat org.apache.spark.sql.catalyst.trees.TreeNode$$anonfun$3.apply(TreeNode.scala:275)\n\tat org.apache.spark.sql.catalyst.trees.TreeNode$$anonfun$4.apply(TreeNode.scala:326)\n\tat org.apache.spark.sql.catalyst.trees.TreeNode.mapProductIterator(TreeNode.scala:187)\n\tat org.apache.spark.sql.catalyst.trees.TreeNode.mapChildren(TreeNode.scala:324)\n\tat org.apache.spark.sql.catalyst.trees.TreeNode.transformUp(TreeNode.scala:275)\n\tat org.apache.spark.sql.catalyst.plans.QueryPlan$$anonfun$transformExpressionsUp$1.apply(QueryPlan.scala:93)\n\tat org.apache.spark.sql.catalyst.plans.QueryPlan$$anonfun$transformExpressionsUp$1.apply(QueryPlan.scala:93)\n\tat org.apache.spark.sql.catalyst.plans.QueryPlan$$anonfun$1.apply(QueryPlan.scala:105)\n\tat org.apache.spark.sql.catalyst.plans.QueryPlan$$anonfun$1.apply(QueryPlan.scala:105)\n\tat org.apache.spark.sql.catalyst.trees.CurrentOrigin$.withOrigin(TreeNode.scala:70)\n\tat org.apache.spark.sql.catalyst.plans.QueryPlan.transformExpression$1(QueryPlan.scala:104)\n\tat org.apache.spark.sql.catalyst.plans.QueryPlan.org$apache$spark$sql$catalyst$plans$QueryPlan$$recursiveTransform$1(QueryPlan.scala:116)\n\tat org.apache.spark.sql.catalyst.plans.QueryPlan$$anonfun$2.apply(QueryPlan.scala:126)\n\tat org.apache.spark.sql.catalyst.trees.TreeNode.mapProductIterator(TreeNode.scala:187)\n\tat org.apache.spark.sql.catalyst.plans.QueryPlan.mapExpressions(QueryPlan.scala:126)\n\tat org.apache.spark.sql.catalyst.plans.QueryPlan.transformExpressionsUp(QueryPlan.scala:93)\n\tat org.apache.spark.sql.catalyst.analysis.CheckAnalysis$$anonfun$checkAnalysis$1.apply(CheckAnalysis.scala:107)\n\tat org.apache.spark.sql.catalyst.analysis.CheckAnalysis$$anonfun$checkAnalysis$1.apply(CheckAnalysis.scala:85)\n\tat org.apache.spark.sql.catalyst.trees.TreeNode.foreachUp(TreeNode.scala:127)\n\tat org.apache.spark.sql.catalyst.analysis.CheckAnalysis$class.checkAnalysis(CheckAnalysis.scala:85)\n\tat org.apache.spark.sql.catalyst.analysis.Analyzer.checkAnalysis(Analyzer.scala:95)\n\tat org.apache.spark.sql.catalyst.analysis.Analyzer$$anonfun$executeAndCheck$1.apply(Analyzer.scala:108)\n\tat org.apache.spark.sql.catalyst.analysis.Analyzer$$anonfun$executeAndCheck$1.apply(Analyzer.scala:105)\n\tat org.apache.spark.sql.catalyst.plans.logical.AnalysisHelper$.markInAnalyzer(AnalysisHelper.scala:201)\n\tat org.apache.spark.sql.catalyst.analysis.Analyzer.executeAndCheck(Analyzer.scala:105)\n\tat org.apache.spark.sql.execution.QueryExecution.analyzed$lzycompute(QueryExecution.scala:57)\n\tat org.apache.spark.sql.execution.QueryExecution.analyzed(QueryExecution.scala:55)\n\tat org.apache.spark.sql.execution.QueryExecution.assertAnalyzed(QueryExecution.scala:47)\n\tat org.apache.spark.sql.Dataset.<init>(Dataset.scala:176)\n\tat org.apache.spark.sql.Dataset.<init>(Dataset.scala:182)\n\tat org.apache.spark.sql.Dataset$.apply(Dataset.scala:64)\n\tat org.apache.spark.sql.Dataset.withTypedPlan(Dataset.scala:3411)\n\tat org.apache.spark.sql.Dataset.filter(Dataset.scala:1484)\n\tat sun.reflect.NativeMethodAccessorImpl.invoke0(Native Method)\n\tat sun.reflect.NativeMethodAccessorImpl.invoke(NativeMethodAccessorImpl.java:62)\n\tat sun.reflect.DelegatingMethodAccessorImpl.invoke(DelegatingMethodAccessorImpl.java:43)\n\tat java.lang.reflect.Method.invoke(Method.java:498)\n\tat py4j.reflection.MethodInvoker.invoke(MethodInvoker.java:244)\n\tat py4j.reflection.ReflectionEngine.invoke(ReflectionEngine.java:357)\n\tat py4j.Gateway.invoke(Gateway.java:282)\n\tat py4j.commands.AbstractCommand.invokeMethod(AbstractCommand.java:132)\n\tat py4j.commands.CallCommand.execute(CallCommand.java:79)\n\tat py4j.GatewayConnection.run(GatewayConnection.java:238)\n\tat java.lang.Thread.run(Thread.java:748)\n",
      "\nDuring handling of the above exception, another exception occurred:\n",
      "\u001b[0;31mAnalysisException\u001b[0m                         Traceback (most recent call last)",
      "\u001b[0;32m<ipython-input-41-74d5de61d65f>\u001b[0m in \u001b[0;36m<module>\u001b[0;34m()\u001b[0m\n\u001b[0;32m----> 1\u001b[0;31m \u001b[0mdf_merged\u001b[0m\u001b[0;34m.\u001b[0m\u001b[0mfilter\u001b[0m\u001b[0;34m(\u001b[0m\u001b[0mF\u001b[0m\u001b[0;34m.\u001b[0m\u001b[0mcol\u001b[0m\u001b[0;34m(\u001b[0m\u001b[0;34m\"name\"\u001b[0m\u001b[0;34m)\u001b[0m\u001b[0;34m==\u001b[0m\u001b[0;34m\"\"\u001b[0m\u001b[0;34m)\u001b[0m\u001b[0;34m.\u001b[0m\u001b[0mlimit\u001b[0m\u001b[0;34m(\u001b[0m\u001b[0;36m10\u001b[0m\u001b[0;34m)\u001b[0m\u001b[0;34m.\u001b[0m\u001b[0mtoPandas\u001b[0m\u001b[0;34m(\u001b[0m\u001b[0;34m)\u001b[0m\u001b[0;34m\u001b[0m\u001b[0m\n\u001b[0m",
      "\u001b[0;32m/opt/spark-2.4.3-bin-hadoop2.7/python/pyspark/sql/dataframe.py\u001b[0m in \u001b[0;36mfilter\u001b[0;34m(self, condition)\u001b[0m\n\u001b[1;32m   1358\u001b[0m             \u001b[0mjdf\u001b[0m \u001b[0;34m=\u001b[0m \u001b[0mself\u001b[0m\u001b[0;34m.\u001b[0m\u001b[0m_jdf\u001b[0m\u001b[0;34m.\u001b[0m\u001b[0mfilter\u001b[0m\u001b[0;34m(\u001b[0m\u001b[0mcondition\u001b[0m\u001b[0;34m)\u001b[0m\u001b[0;34m\u001b[0m\u001b[0m\n\u001b[1;32m   1359\u001b[0m         \u001b[0;32melif\u001b[0m \u001b[0misinstance\u001b[0m\u001b[0;34m(\u001b[0m\u001b[0mcondition\u001b[0m\u001b[0;34m,\u001b[0m \u001b[0mColumn\u001b[0m\u001b[0;34m)\u001b[0m\u001b[0;34m:\u001b[0m\u001b[0;34m\u001b[0m\u001b[0m\n\u001b[0;32m-> 1360\u001b[0;31m             \u001b[0mjdf\u001b[0m \u001b[0;34m=\u001b[0m \u001b[0mself\u001b[0m\u001b[0;34m.\u001b[0m\u001b[0m_jdf\u001b[0m\u001b[0;34m.\u001b[0m\u001b[0mfilter\u001b[0m\u001b[0;34m(\u001b[0m\u001b[0mcondition\u001b[0m\u001b[0;34m.\u001b[0m\u001b[0m_jc\u001b[0m\u001b[0;34m)\u001b[0m\u001b[0;34m\u001b[0m\u001b[0m\n\u001b[0m\u001b[1;32m   1361\u001b[0m         \u001b[0;32melse\u001b[0m\u001b[0;34m:\u001b[0m\u001b[0;34m\u001b[0m\u001b[0m\n\u001b[1;32m   1362\u001b[0m             \u001b[0;32mraise\u001b[0m \u001b[0mTypeError\u001b[0m\u001b[0;34m(\u001b[0m\u001b[0;34m\"condition should be string or Column\"\u001b[0m\u001b[0;34m)\u001b[0m\u001b[0;34m\u001b[0m\u001b[0m\n",
      "\u001b[0;32m/opt/spark-2.4.3-bin-hadoop2.7/python/lib/py4j-0.10.7-src.zip/py4j/java_gateway.py\u001b[0m in \u001b[0;36m__call__\u001b[0;34m(self, *args)\u001b[0m\n\u001b[1;32m   1255\u001b[0m         \u001b[0manswer\u001b[0m \u001b[0;34m=\u001b[0m \u001b[0mself\u001b[0m\u001b[0;34m.\u001b[0m\u001b[0mgateway_client\u001b[0m\u001b[0;34m.\u001b[0m\u001b[0msend_command\u001b[0m\u001b[0;34m(\u001b[0m\u001b[0mcommand\u001b[0m\u001b[0;34m)\u001b[0m\u001b[0;34m\u001b[0m\u001b[0m\n\u001b[1;32m   1256\u001b[0m         return_value = get_return_value(\n\u001b[0;32m-> 1257\u001b[0;31m             answer, self.gateway_client, self.target_id, self.name)\n\u001b[0m\u001b[1;32m   1258\u001b[0m \u001b[0;34m\u001b[0m\u001b[0m\n\u001b[1;32m   1259\u001b[0m         \u001b[0;32mfor\u001b[0m \u001b[0mtemp_arg\u001b[0m \u001b[0;32min\u001b[0m \u001b[0mtemp_args\u001b[0m\u001b[0;34m:\u001b[0m\u001b[0;34m\u001b[0m\u001b[0m\n",
      "\u001b[0;32m/opt/spark-2.4.3-bin-hadoop2.7/python/pyspark/sql/utils.py\u001b[0m in \u001b[0;36mdeco\u001b[0;34m(*a, **kw)\u001b[0m\n\u001b[1;32m     67\u001b[0m                                              e.java_exception.getStackTrace()))\n\u001b[1;32m     68\u001b[0m             \u001b[0;32mif\u001b[0m \u001b[0ms\u001b[0m\u001b[0;34m.\u001b[0m\u001b[0mstartswith\u001b[0m\u001b[0;34m(\u001b[0m\u001b[0;34m'org.apache.spark.sql.AnalysisException: '\u001b[0m\u001b[0;34m)\u001b[0m\u001b[0;34m:\u001b[0m\u001b[0;34m\u001b[0m\u001b[0m\n\u001b[0;32m---> 69\u001b[0;31m                 \u001b[0;32mraise\u001b[0m \u001b[0mAnalysisException\u001b[0m\u001b[0;34m(\u001b[0m\u001b[0ms\u001b[0m\u001b[0;34m.\u001b[0m\u001b[0msplit\u001b[0m\u001b[0;34m(\u001b[0m\u001b[0;34m': '\u001b[0m\u001b[0;34m,\u001b[0m \u001b[0;36m1\u001b[0m\u001b[0;34m)\u001b[0m\u001b[0;34m[\u001b[0m\u001b[0;36m1\u001b[0m\u001b[0;34m]\u001b[0m\u001b[0;34m,\u001b[0m \u001b[0mstackTrace\u001b[0m\u001b[0;34m)\u001b[0m\u001b[0;34m\u001b[0m\u001b[0m\n\u001b[0m\u001b[1;32m     70\u001b[0m             \u001b[0;32mif\u001b[0m \u001b[0ms\u001b[0m\u001b[0;34m.\u001b[0m\u001b[0mstartswith\u001b[0m\u001b[0;34m(\u001b[0m\u001b[0;34m'org.apache.spark.sql.catalyst.analysis'\u001b[0m\u001b[0;34m)\u001b[0m\u001b[0;34m:\u001b[0m\u001b[0;34m\u001b[0m\u001b[0m\n\u001b[1;32m     71\u001b[0m                 \u001b[0;32mraise\u001b[0m \u001b[0mAnalysisException\u001b[0m\u001b[0;34m(\u001b[0m\u001b[0ms\u001b[0m\u001b[0;34m.\u001b[0m\u001b[0msplit\u001b[0m\u001b[0;34m(\u001b[0m\u001b[0;34m': '\u001b[0m\u001b[0;34m,\u001b[0m \u001b[0;36m1\u001b[0m\u001b[0;34m)\u001b[0m\u001b[0;34m[\u001b[0m\u001b[0;36m1\u001b[0m\u001b[0;34m]\u001b[0m\u001b[0;34m,\u001b[0m \u001b[0mstackTrace\u001b[0m\u001b[0;34m)\u001b[0m\u001b[0;34m\u001b[0m\u001b[0m\n",
      "\u001b[0;31mAnalysisException\u001b[0m: \"cannot resolve '`name`' given input columns: [municipalityL, port, municipalityE, nameE, type, state, iso_country, nameL, coordinates, iata_code, locality, country, code, territory, iso_region, ident, local_code, gps_code, continent, elevation_ft, province];;\\n'Filter ('name = )\\n+- Join Inner, (((locality#12 = municipalityE#148) && (province#609 = state#150)) && (territory#621 = country#149))\\n   :- Relation[ident#135,type#136,elevation_ft#137,continent#138,iso_country#139,iso_region#140,gps_code#141,iata_code#142,local_code#143,coordinates#144,nameL#145,municipalityL#146,nameE#147,municipalityE#148,country#149,state#150] csv\\n   +- ResolvedHint (broadcast)\\n      +- Project [code#10, port#11, locality#12, province#609, territory#621]\\n         +- Project [code#10, port#11, locality#12, country#14, province#609, country#14 AS territory#621]\\n            +- Project [code#10, port#11, locality#12, country#14, province#609]\\n               +- Project [code#10, port#11, locality#12, state#13, country#14, state#13 AS province#609]\\n                  +- Relation[code#10,port#11,locality#12,state#13,country#14] csv\\n\""
     ]
    }
   ],
   "source": [
    "df_merged.filter(F.col(\"name\")==\"\").limit(10).toPandas()"
   ]
  },
  {
   "cell_type": "code",
   "execution_count": 43,
   "metadata": {
    "editable": true
   },
   "outputs": [
    {
     "data": {
      "text/plain": [
       "21"
      ]
     },
     "execution_count": 43,
     "metadata": {},
     "output_type": "execute_result"
    }
   ],
   "source": [
    "df_merged.select(\"locality\",\"state\",\"country\").distinct().count()"
   ]
  },
  {
   "cell_type": "code",
   "execution_count": null,
   "metadata": {
    "editable": true
   },
   "outputs": [],
   "source": []
  }
 ],
 "metadata": {
  "kernelspec": {
   "display_name": "Python 3",
   "language": "python",
   "name": "python3"
  },
  "language_info": {
   "codemirror_mode": {
    "name": "ipython",
    "version": 3
   },
   "file_extension": ".py",
   "mimetype": "text/x-python",
   "name": "python",
   "nbconvert_exporter": "python",
   "pygments_lexer": "ipython3",
   "version": "3.6.3"
  }
 },
 "nbformat": 4,
 "nbformat_minor": 4
}

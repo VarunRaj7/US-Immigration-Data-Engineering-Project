{
 "cells": [
  {
   "cell_type": "markdown",
   "metadata": {
    "editable": true
   },
   "source": [
    "### Exploring and Cleaning the Airports Code data\n",
    "\n",
    "Source:  [Airports Code](https://datahub.io/core/airport-codes#data)\n"
   ]
  },
  {
   "cell_type": "code",
   "execution_count": 1,
   "metadata": {
    "editable": true
   },
   "outputs": [
    {
     "name": "stdout",
     "output_type": "stream",
     "text": [
      "Collecting unidecode\n",
      "  Downloading https://files.pythonhosted.org/packages/d0/42/d9edfed04228bacea2d824904cae367ee9efd05e6cce7ceaaedd0b0ad964/Unidecode-1.1.1-py2.py3-none-any.whl (238kB)\n",
      "Installing collected packages: unidecode\n",
      "Successfully installed unidecode-1.1.1\n",
      "Collecting pycountry\n",
      "  Downloading https://files.pythonhosted.org/packages/76/73/6f1a412f14f68c273feea29a6ea9b9f1e268177d32e0e69ad6790d306312/pycountry-20.7.3.tar.gz (10.1MB)\n",
      "Building wheels for collected packages: pycountry\n",
      "  Running setup.py bdist_wheel for pycountry: started\n",
      "  Running setup.py bdist_wheel for pycountry: finished with status 'done'\n",
      "  Stored in directory: /root/.cache/pip/wheels/33/4e/a6/be297e6b83567e537bed9df4a93f8590ec01c1acfbcd405348\n",
      "Successfully built pycountry\n",
      "Installing collected packages: pycountry\n",
      "Successfully installed pycountry-20.7.3\n"
     ]
    }
   ],
   "source": [
    "%%sh\n",
    "\n",
    "pip install unidecode\n",
    "pip install pycountry"
   ]
  },
  {
   "cell_type": "markdown",
   "metadata": {
    "editable": true
   },
   "source": [
    "### Handling the Latin letters\n",
    "\n",
    "- Use latin-1 encoding to properly encode and decode the given places in airport codes data\n",
    "    \n",
    "    `Reason: The given encoding is hard to read`\n",
    "\n",
    "- Use unidecode to convert the latin letters to english alphabets.\n",
    "    \n",
    "    `Reason: This is done inorder to match muncipalities with city/locality from airport codes data or demographics data which does not contain any latin letters.` \n",
    "\n",
    "This is shown with an example below:"
   ]
  },
  {
   "cell_type": "code",
   "execution_count": 2,
   "metadata": {
    "editable": true
   },
   "outputs": [
    {
     "data": {
      "text/plain": [
       "'Corazón de Jesús Airport'"
      ]
     },
     "execution_count": 2,
     "metadata": {},
     "output_type": "execute_result"
    }
   ],
   "source": [
    "s = \"CorazÃ³n de JesÃºs Airport\"\n",
    "s.encode(encoding='latin-1',errors='strict').decode()"
   ]
  },
  {
   "cell_type": "code",
   "execution_count": 3,
   "metadata": {
    "editable": true
   },
   "outputs": [
    {
     "data": {
      "text/plain": [
       "'Corazon de Jesus Airport'"
      ]
     },
     "execution_count": 3,
     "metadata": {},
     "output_type": "execute_result"
    }
   ],
   "source": [
    "from unidecode import unidecode\n",
    "\n",
    "unidecode(s.encode(encoding='latin-1',errors='strict').decode())"
   ]
  },
  {
   "cell_type": "markdown",
   "metadata": {
    "editable": true
   },
   "source": [
    "### Decoding the ISO_codes for the country and province\n",
    "\n",
    "- Using the pycountry package to decoding the iso_codes to Country and province/state/territory"
   ]
  },
  {
   "cell_type": "code",
   "execution_count": 4,
   "metadata": {
    "editable": true
   },
   "outputs": [],
   "source": [
    "import pycountry as pyc"
   ]
  },
  {
   "cell_type": "code",
   "execution_count": 5,
   "metadata": {
    "editable": true
   },
   "outputs": [
    {
     "name": "stdout",
     "output_type": "stream",
     "text": [
      "Subdivision(code='IT-62', country_code='IT', name='Lazio', parent_code=None, type='Region')\n"
     ]
    }
   ],
   "source": [
    "print(pyc.subdivisions.get(code='IT-62'))"
   ]
  },
  {
   "cell_type": "code",
   "execution_count": 6,
   "metadata": {
    "editable": true
   },
   "outputs": [
    {
     "data": {
      "text/plain": [
       "Country(alpha_2='GB', alpha_3='GBR', name='United Kingdom', numeric='826', official_name='United Kingdom of Great Britain and Northern Ireland')"
      ]
     },
     "execution_count": 6,
     "metadata": {},
     "output_type": "execute_result"
    }
   ],
   "source": [
    "pyc.countries.get(alpha_2='GB')"
   ]
  },
  {
   "cell_type": "code",
   "execution_count": 70,
   "metadata": {
    "editable": true
   },
   "outputs": [
    {
     "name": "stdout",
     "output_type": "stream",
     "text": [
      "None\n"
     ]
    }
   ],
   "source": [
    "print(pyc.subdivisions.get(code='GB-ENG'))"
   ]
  },
  {
   "cell_type": "code",
   "execution_count": 69,
   "metadata": {
    "editable": true
   },
   "outputs": [],
   "source": [
    "pyc.countries.get(alpha_3='MOS')"
   ]
  },
  {
   "cell_type": "code",
   "execution_count": 9,
   "metadata": {
    "editable": true
   },
   "outputs": [
    {
     "name": "stdout",
     "output_type": "stream",
     "text": [
      "Subdivision(code='MX-BCN', country_code='MX', name='Baja California', parent_code=None, type='State')\n"
     ]
    }
   ],
   "source": [
    "print(pyc.subdivisions.get(code='MX-BCN'))"
   ]
  },
  {
   "cell_type": "code",
   "execution_count": 10,
   "metadata": {
    "editable": true
   },
   "outputs": [
    {
     "name": "stdout",
     "output_type": "stream",
     "text": [
      "Subdivision(code='ZA-NL', country_code='ZA', name='Kwazulu-Natal', parent_code=None, type='Province')\n"
     ]
    }
   ],
   "source": [
    "print(pyc.subdivisions.get(code='ZA-NL'))"
   ]
  },
  {
   "cell_type": "code",
   "execution_count": 11,
   "metadata": {
    "editable": true
   },
   "outputs": [
    {
     "name": "stdout",
     "output_type": "stream",
     "text": [
      "Subdivision(code='PA-1', country_code='PA', name='Bocas del Toro', parent_code=None, type='Province')\n"
     ]
    }
   ],
   "source": [
    "print(pyc.subdivisions.get(code='PA-1'))"
   ]
  },
  {
   "cell_type": "code",
   "execution_count": 12,
   "metadata": {
    "editable": true
   },
   "outputs": [
    {
     "data": {
      "text/plain": [
       "Country(alpha_2='US', alpha_3='USA', name='United States', numeric='840', official_name='United States of America')"
      ]
     },
     "execution_count": 12,
     "metadata": {},
     "output_type": "execute_result"
    }
   ],
   "source": [
    "pyc.countries.get(alpha_2='US')"
   ]
  },
  {
   "cell_type": "code",
   "execution_count": 71,
   "metadata": {
    "editable": true
   },
   "outputs": [
    {
     "name": "stdout",
     "output_type": "stream",
     "text": [
      "Subdivision(code='US-DC', country_code='US', name='District of Columbia', parent_code=None, type='District')\n"
     ]
    }
   ],
   "source": [
    "print(pyc.subdivisions.get(code='US-DC'))"
   ]
  },
  {
   "cell_type": "code",
   "execution_count": 14,
   "metadata": {
    "editable": true
   },
   "outputs": [
    {
     "data": {
      "text/plain": [
       "Country(alpha_2='MP', alpha_3='MNP', name='Northern Mariana Islands', numeric='580', official_name='Commonwealth of the Northern Mariana Islands')"
      ]
     },
     "execution_count": 14,
     "metadata": {},
     "output_type": "execute_result"
    }
   ],
   "source": [
    "pyc.countries.get(alpha_2='MP')"
   ]
  },
  {
   "cell_type": "markdown",
   "metadata": {
    "editable": true
   },
   "source": [
    "### Exploring and Cleaning the port_codes data"
   ]
  },
  {
   "cell_type": "code",
   "execution_count": 15,
   "metadata": {
    "editable": true
   },
   "outputs": [],
   "source": [
    "from pyspark.sql import SparkSession\n",
    "from pyspark.sql.window import Window\n",
    "import pyspark.sql.functions as F\n",
    "import pyspark.sql.types as T\n",
    "from unidecode import unidecode\n",
    "import re"
   ]
  },
  {
   "cell_type": "code",
   "execution_count": 16,
   "metadata": {
    "editable": true
   },
   "outputs": [],
   "source": [
    "spark = SparkSession \\\n",
    "        .builder \\\n",
    "        .config(\"spark.jars.packages\", \"org.apache.hadoop:hadoop-aws:2.7.0\") \\\n",
    "        .getOrCreate()"
   ]
  },
  {
   "cell_type": "code",
   "execution_count": 17,
   "metadata": {
    "editable": true
   },
   "outputs": [],
   "source": [
    "#udf function to decode the Latin letters\n",
    "\n",
    "decodeL_udf = F.udf(lambda x: x.encode(encoding='latin-1',errors='strict').decode(encoding='UTF-8',errors='replace') if x else \"\",T.StringType())"
   ]
  },
  {
   "cell_type": "code",
   "execution_count": 18,
   "metadata": {
    "editable": true
   },
   "outputs": [],
   "source": [
    "#udf function to decode the Latin letters to English Letters\n",
    "\n",
    "decodeE_udf = F.udf(lambda x: unidecode(x) if x else \"\",T.StringType())"
   ]
  },
  {
   "cell_type": "code",
   "execution_count": 19,
   "metadata": {
    "editable": true
   },
   "outputs": [],
   "source": [
    "# .option(\"encoding\", \"ISO-8859-1\")\\\n",
    "df = spark.read.options(delimiter=\",\", header=\"true\")\\\n",
    "                .csv(\"../airport-codes_csv.csv\") "
   ]
  },
  {
   "cell_type": "code",
   "execution_count": 20,
   "metadata": {
    "editable": true
   },
   "outputs": [],
   "source": [
    "df = df.withColumn('nameL', decodeL_udf('name'))\n",
    "df = df.withColumn('municipalityL', decodeL_udf('municipality'))\n",
    "df = df.withColumn('nameE', decodeE_udf('nameL'))\n",
    "df = df.withColumn('municipalityE', decodeE_udf('municipalityL'))"
   ]
  },
  {
   "cell_type": "code",
   "execution_count": 21,
   "metadata": {
    "editable": true
   },
   "outputs": [
    {
     "data": {
      "text/html": [
       "<div>\n",
       "<style scoped>\n",
       "    .dataframe tbody tr th:only-of-type {\n",
       "        vertical-align: middle;\n",
       "    }\n",
       "\n",
       "    .dataframe tbody tr th {\n",
       "        vertical-align: top;\n",
       "    }\n",
       "\n",
       "    .dataframe thead th {\n",
       "        text-align: right;\n",
       "    }\n",
       "</style>\n",
       "<table border=\"1\" class=\"dataframe\">\n",
       "  <thead>\n",
       "    <tr style=\"text-align: right;\">\n",
       "      <th></th>\n",
       "      <th>ident</th>\n",
       "      <th>type</th>\n",
       "      <th>name</th>\n",
       "      <th>elevation_ft</th>\n",
       "      <th>continent</th>\n",
       "      <th>iso_country</th>\n",
       "      <th>iso_region</th>\n",
       "      <th>municipality</th>\n",
       "      <th>gps_code</th>\n",
       "      <th>iata_code</th>\n",
       "      <th>local_code</th>\n",
       "      <th>coordinates</th>\n",
       "      <th>nameL</th>\n",
       "      <th>municipalityL</th>\n",
       "      <th>nameE</th>\n",
       "      <th>municipalityE</th>\n",
       "    </tr>\n",
       "  </thead>\n",
       "  <tbody>\n",
       "    <tr>\n",
       "      <th>0</th>\n",
       "      <td>00A</td>\n",
       "      <td>heliport</td>\n",
       "      <td>Total Rf Heliport</td>\n",
       "      <td>11</td>\n",
       "      <td>NA</td>\n",
       "      <td>US</td>\n",
       "      <td>US-PA</td>\n",
       "      <td>Bensalem</td>\n",
       "      <td>00A</td>\n",
       "      <td>None</td>\n",
       "      <td>00A</td>\n",
       "      <td>-74.93360137939453, 40.07080078125</td>\n",
       "      <td>Total Rf Heliport</td>\n",
       "      <td>Bensalem</td>\n",
       "      <td>Total Rf Heliport</td>\n",
       "      <td>Bensalem</td>\n",
       "    </tr>\n",
       "    <tr>\n",
       "      <th>1</th>\n",
       "      <td>00AA</td>\n",
       "      <td>small_airport</td>\n",
       "      <td>Aero B Ranch Airport</td>\n",
       "      <td>3435</td>\n",
       "      <td>NA</td>\n",
       "      <td>US</td>\n",
       "      <td>US-KS</td>\n",
       "      <td>Leoti</td>\n",
       "      <td>00AA</td>\n",
       "      <td>None</td>\n",
       "      <td>00AA</td>\n",
       "      <td>-101.473911, 38.704022</td>\n",
       "      <td>Aero B Ranch Airport</td>\n",
       "      <td>Leoti</td>\n",
       "      <td>Aero B Ranch Airport</td>\n",
       "      <td>Leoti</td>\n",
       "    </tr>\n",
       "    <tr>\n",
       "      <th>2</th>\n",
       "      <td>00AK</td>\n",
       "      <td>small_airport</td>\n",
       "      <td>Lowell Field</td>\n",
       "      <td>450</td>\n",
       "      <td>NA</td>\n",
       "      <td>US</td>\n",
       "      <td>US-AK</td>\n",
       "      <td>Anchor Point</td>\n",
       "      <td>00AK</td>\n",
       "      <td>None</td>\n",
       "      <td>00AK</td>\n",
       "      <td>-151.695999146, 59.94919968</td>\n",
       "      <td>Lowell Field</td>\n",
       "      <td>Anchor Point</td>\n",
       "      <td>Lowell Field</td>\n",
       "      <td>Anchor Point</td>\n",
       "    </tr>\n",
       "    <tr>\n",
       "      <th>3</th>\n",
       "      <td>00AL</td>\n",
       "      <td>small_airport</td>\n",
       "      <td>Epps Airpark</td>\n",
       "      <td>820</td>\n",
       "      <td>NA</td>\n",
       "      <td>US</td>\n",
       "      <td>US-AL</td>\n",
       "      <td>Harvest</td>\n",
       "      <td>00AL</td>\n",
       "      <td>None</td>\n",
       "      <td>00AL</td>\n",
       "      <td>-86.77030181884766, 34.86479949951172</td>\n",
       "      <td>Epps Airpark</td>\n",
       "      <td>Harvest</td>\n",
       "      <td>Epps Airpark</td>\n",
       "      <td>Harvest</td>\n",
       "    </tr>\n",
       "    <tr>\n",
       "      <th>4</th>\n",
       "      <td>00AR</td>\n",
       "      <td>closed</td>\n",
       "      <td>Newport Hospital &amp; Clinic Heliport</td>\n",
       "      <td>237</td>\n",
       "      <td>NA</td>\n",
       "      <td>US</td>\n",
       "      <td>US-AR</td>\n",
       "      <td>Newport</td>\n",
       "      <td>None</td>\n",
       "      <td>None</td>\n",
       "      <td>None</td>\n",
       "      <td>-91.254898, 35.6087</td>\n",
       "      <td>Newport Hospital &amp; Clinic Heliport</td>\n",
       "      <td>Newport</td>\n",
       "      <td>Newport Hospital &amp; Clinic Heliport</td>\n",
       "      <td>Newport</td>\n",
       "    </tr>\n",
       "  </tbody>\n",
       "</table>\n",
       "</div>"
      ],
      "text/plain": [
       "  ident           type                                name elevation_ft  \\\n",
       "0   00A       heliport                   Total Rf Heliport           11   \n",
       "1  00AA  small_airport                Aero B Ranch Airport         3435   \n",
       "2  00AK  small_airport                        Lowell Field          450   \n",
       "3  00AL  small_airport                        Epps Airpark          820   \n",
       "4  00AR         closed  Newport Hospital & Clinic Heliport          237   \n",
       "\n",
       "  continent iso_country iso_region  municipality gps_code iata_code  \\\n",
       "0        NA          US      US-PA      Bensalem      00A      None   \n",
       "1        NA          US      US-KS         Leoti     00AA      None   \n",
       "2        NA          US      US-AK  Anchor Point     00AK      None   \n",
       "3        NA          US      US-AL       Harvest     00AL      None   \n",
       "4        NA          US      US-AR       Newport     None      None   \n",
       "\n",
       "  local_code                            coordinates  \\\n",
       "0        00A     -74.93360137939453, 40.07080078125   \n",
       "1       00AA                 -101.473911, 38.704022   \n",
       "2       00AK            -151.695999146, 59.94919968   \n",
       "3       00AL  -86.77030181884766, 34.86479949951172   \n",
       "4       None                    -91.254898, 35.6087   \n",
       "\n",
       "                                nameL municipalityL  \\\n",
       "0                   Total Rf Heliport      Bensalem   \n",
       "1                Aero B Ranch Airport         Leoti   \n",
       "2                        Lowell Field  Anchor Point   \n",
       "3                        Epps Airpark       Harvest   \n",
       "4  Newport Hospital & Clinic Heliport       Newport   \n",
       "\n",
       "                                nameE municipalityE  \n",
       "0                   Total Rf Heliport      Bensalem  \n",
       "1                Aero B Ranch Airport         Leoti  \n",
       "2                        Lowell Field  Anchor Point  \n",
       "3                        Epps Airpark       Harvest  \n",
       "4  Newport Hospital & Clinic Heliport       Newport  "
      ]
     },
     "execution_count": 21,
     "metadata": {},
     "output_type": "execute_result"
    }
   ],
   "source": [
    "df.limit(5).toPandas()"
   ]
  },
  {
   "cell_type": "code",
   "execution_count": 22,
   "metadata": {
    "editable": true
   },
   "outputs": [
    {
     "data": {
      "text/html": [
       "<div>\n",
       "<style scoped>\n",
       "    .dataframe tbody tr th:only-of-type {\n",
       "        vertical-align: middle;\n",
       "    }\n",
       "\n",
       "    .dataframe tbody tr th {\n",
       "        vertical-align: top;\n",
       "    }\n",
       "\n",
       "    .dataframe thead th {\n",
       "        text-align: right;\n",
       "    }\n",
       "</style>\n",
       "<table border=\"1\" class=\"dataframe\">\n",
       "  <thead>\n",
       "    <tr style=\"text-align: right;\">\n",
       "      <th></th>\n",
       "      <th>type</th>\n",
       "    </tr>\n",
       "  </thead>\n",
       "  <tbody>\n",
       "    <tr>\n",
       "      <th>0</th>\n",
       "      <td>large_airport</td>\n",
       "    </tr>\n",
       "    <tr>\n",
       "      <th>1</th>\n",
       "      <td>balloonport</td>\n",
       "    </tr>\n",
       "    <tr>\n",
       "      <th>2</th>\n",
       "      <td>seaplane_base</td>\n",
       "    </tr>\n",
       "    <tr>\n",
       "      <th>3</th>\n",
       "      <td>heliport</td>\n",
       "    </tr>\n",
       "    <tr>\n",
       "      <th>4</th>\n",
       "      <td>closed</td>\n",
       "    </tr>\n",
       "    <tr>\n",
       "      <th>5</th>\n",
       "      <td>medium_airport</td>\n",
       "    </tr>\n",
       "    <tr>\n",
       "      <th>6</th>\n",
       "      <td>small_airport</td>\n",
       "    </tr>\n",
       "  </tbody>\n",
       "</table>\n",
       "</div>"
      ],
      "text/plain": [
       "             type\n",
       "0   large_airport\n",
       "1     balloonport\n",
       "2   seaplane_base\n",
       "3        heliport\n",
       "4          closed\n",
       "5  medium_airport\n",
       "6   small_airport"
      ]
     },
     "execution_count": 22,
     "metadata": {},
     "output_type": "execute_result"
    }
   ],
   "source": [
    "df.select(\"type\").distinct().toPandas()"
   ]
  },
  {
   "cell_type": "code",
   "execution_count": 23,
   "metadata": {
    "editable": true
   },
   "outputs": [
    {
     "data": {
      "text/plain": [
       "0"
      ]
     },
     "execution_count": 23,
     "metadata": {},
     "output_type": "execute_result"
    }
   ],
   "source": [
    "df.filter((F.col(\"iata_code\") == \"LOS\") & (F.col(\"iso_country\")==\"US\")).count()"
   ]
  },
  {
   "cell_type": "code",
   "execution_count": 24,
   "metadata": {
    "editable": true
   },
   "outputs": [
    {
     "data": {
      "text/plain": [
       "55075"
      ]
     },
     "execution_count": 24,
     "metadata": {},
     "output_type": "execute_result"
    }
   ],
   "source": [
    "df.count()"
   ]
  },
  {
   "cell_type": "code",
   "execution_count": 25,
   "metadata": {
    "editable": true
   },
   "outputs": [
    {
     "data": {
      "text/plain": [
       "22757"
      ]
     },
     "execution_count": 25,
     "metadata": {},
     "output_type": "execute_result"
    }
   ],
   "source": [
    "df.filter((F.col(\"iso_country\")==\"US\")).count()"
   ]
  },
  {
   "cell_type": "code",
   "execution_count": 26,
   "metadata": {
    "editable": true
   },
   "outputs": [
    {
     "data": {
      "text/html": [
       "<div>\n",
       "<style scoped>\n",
       "    .dataframe tbody tr th:only-of-type {\n",
       "        vertical-align: middle;\n",
       "    }\n",
       "\n",
       "    .dataframe tbody tr th {\n",
       "        vertical-align: top;\n",
       "    }\n",
       "\n",
       "    .dataframe thead th {\n",
       "        text-align: right;\n",
       "    }\n",
       "</style>\n",
       "<table border=\"1\" class=\"dataframe\">\n",
       "  <thead>\n",
       "    <tr style=\"text-align: right;\">\n",
       "      <th></th>\n",
       "      <th>ident</th>\n",
       "      <th>type</th>\n",
       "      <th>name</th>\n",
       "      <th>elevation_ft</th>\n",
       "      <th>continent</th>\n",
       "      <th>iso_country</th>\n",
       "      <th>iso_region</th>\n",
       "      <th>municipality</th>\n",
       "      <th>gps_code</th>\n",
       "      <th>iata_code</th>\n",
       "      <th>local_code</th>\n",
       "      <th>coordinates</th>\n",
       "      <th>nameL</th>\n",
       "      <th>municipalityL</th>\n",
       "      <th>nameE</th>\n",
       "      <th>municipalityE</th>\n",
       "    </tr>\n",
       "  </thead>\n",
       "  <tbody>\n",
       "    <tr>\n",
       "      <th>0</th>\n",
       "      <td>BM-0001</td>\n",
       "      <td>closed</td>\n",
       "      <td>RNAS Boaz Island</td>\n",
       "      <td>None</td>\n",
       "      <td>NA</td>\n",
       "      <td>BM</td>\n",
       "      <td>BM-U-A</td>\n",
       "      <td>Boaz Island</td>\n",
       "      <td>None</td>\n",
       "      <td>None</td>\n",
       "      <td>None</td>\n",
       "      <td>-64.84110260009766, 32.32080078125</td>\n",
       "      <td>RNAS Boaz Island</td>\n",
       "      <td>Boaz Island</td>\n",
       "      <td>RNAS Boaz Island</td>\n",
       "      <td>Boaz Island</td>\n",
       "    </tr>\n",
       "    <tr>\n",
       "      <th>1</th>\n",
       "      <td>BM-0002</td>\n",
       "      <td>closed</td>\n",
       "      <td>Naval Air Station Bermuda Annex</td>\n",
       "      <td>None</td>\n",
       "      <td>NA</td>\n",
       "      <td>BM</td>\n",
       "      <td>BM-U-A</td>\n",
       "      <td>Morgan's Point</td>\n",
       "      <td>None</td>\n",
       "      <td>None</td>\n",
       "      <td>None</td>\n",
       "      <td>-64.85161590576172, 32.26987075805664</td>\n",
       "      <td>Naval Air Station Bermuda Annex</td>\n",
       "      <td>Morgan's Point</td>\n",
       "      <td>Naval Air Station Bermuda Annex</td>\n",
       "      <td>Morgan's Point</td>\n",
       "    </tr>\n",
       "    <tr>\n",
       "      <th>2</th>\n",
       "      <td>TXKF</td>\n",
       "      <td>medium_airport</td>\n",
       "      <td>L.F. Wade International International Airport</td>\n",
       "      <td>12</td>\n",
       "      <td>NA</td>\n",
       "      <td>BM</td>\n",
       "      <td>BM-U-A</td>\n",
       "      <td>Hamilton</td>\n",
       "      <td>TXKF</td>\n",
       "      <td>BDA</td>\n",
       "      <td>None</td>\n",
       "      <td>-64.67870330810547, 32.36399841308594</td>\n",
       "      <td>L.F. Wade International International Airport</td>\n",
       "      <td>Hamilton</td>\n",
       "      <td>L.F. Wade International International Airport</td>\n",
       "      <td>Hamilton</td>\n",
       "    </tr>\n",
       "  </tbody>\n",
       "</table>\n",
       "</div>"
      ],
      "text/plain": [
       "     ident            type                                           name  \\\n",
       "0  BM-0001          closed                               RNAS Boaz Island   \n",
       "1  BM-0002          closed                Naval Air Station Bermuda Annex   \n",
       "2     TXKF  medium_airport  L.F. Wade International International Airport   \n",
       "\n",
       "  elevation_ft continent iso_country iso_region    municipality gps_code  \\\n",
       "0         None        NA          BM     BM-U-A     Boaz Island     None   \n",
       "1         None        NA          BM     BM-U-A  Morgan's Point     None   \n",
       "2           12        NA          BM     BM-U-A        Hamilton     TXKF   \n",
       "\n",
       "  iata_code local_code                            coordinates  \\\n",
       "0      None       None     -64.84110260009766, 32.32080078125   \n",
       "1      None       None  -64.85161590576172, 32.26987075805664   \n",
       "2       BDA       None  -64.67870330810547, 32.36399841308594   \n",
       "\n",
       "                                           nameL   municipalityL  \\\n",
       "0                               RNAS Boaz Island     Boaz Island   \n",
       "1                Naval Air Station Bermuda Annex  Morgan's Point   \n",
       "2  L.F. Wade International International Airport        Hamilton   \n",
       "\n",
       "                                           nameE   municipalityE  \n",
       "0                               RNAS Boaz Island     Boaz Island  \n",
       "1                Naval Air Station Bermuda Annex  Morgan's Point  \n",
       "2  L.F. Wade International International Airport        Hamilton  "
      ]
     },
     "execution_count": 26,
     "metadata": {},
     "output_type": "execute_result"
    }
   ],
   "source": [
    "df.filter(F.col(\"iso_region\")==\"BM-U-A\").toPandas()"
   ]
  },
  {
   "cell_type": "code",
   "execution_count": 27,
   "metadata": {
    "editable": true
   },
   "outputs": [
    {
     "data": {
      "text/html": [
       "<div>\n",
       "<style scoped>\n",
       "    .dataframe tbody tr th:only-of-type {\n",
       "        vertical-align: middle;\n",
       "    }\n",
       "\n",
       "    .dataframe tbody tr th {\n",
       "        vertical-align: top;\n",
       "    }\n",
       "\n",
       "    .dataframe thead th {\n",
       "        text-align: right;\n",
       "    }\n",
       "</style>\n",
       "<table border=\"1\" class=\"dataframe\">\n",
       "  <thead>\n",
       "    <tr style=\"text-align: right;\">\n",
       "      <th></th>\n",
       "      <th>ident</th>\n",
       "      <th>type</th>\n",
       "      <th>name</th>\n",
       "      <th>elevation_ft</th>\n",
       "      <th>continent</th>\n",
       "      <th>iso_country</th>\n",
       "      <th>iso_region</th>\n",
       "      <th>municipality</th>\n",
       "      <th>gps_code</th>\n",
       "      <th>iata_code</th>\n",
       "      <th>local_code</th>\n",
       "      <th>coordinates</th>\n",
       "      <th>nameL</th>\n",
       "      <th>municipalityL</th>\n",
       "      <th>nameE</th>\n",
       "      <th>municipalityE</th>\n",
       "    </tr>\n",
       "  </thead>\n",
       "  <tbody>\n",
       "    <tr>\n",
       "      <th>0</th>\n",
       "      <td>0OR6</td>\n",
       "      <td>small_airport</td>\n",
       "      <td>Rome Service Airport</td>\n",
       "      <td>3387</td>\n",
       "      <td>NA</td>\n",
       "      <td>US</td>\n",
       "      <td>US-OR</td>\n",
       "      <td>Rome</td>\n",
       "      <td>0OR6</td>\n",
       "      <td>None</td>\n",
       "      <td>0OR6</td>\n",
       "      <td>-117.62899780273438, 42.83399963378906</td>\n",
       "      <td>Rome Service Airport</td>\n",
       "      <td>Rome</td>\n",
       "      <td>Rome Service Airport</td>\n",
       "      <td>Rome</td>\n",
       "    </tr>\n",
       "    <tr>\n",
       "      <th>1</th>\n",
       "      <td>5NY4</td>\n",
       "      <td>small_airport</td>\n",
       "      <td>Stanwix Heights Airport</td>\n",
       "      <td>610</td>\n",
       "      <td>NA</td>\n",
       "      <td>US</td>\n",
       "      <td>US-NY</td>\n",
       "      <td>Rome</td>\n",
       "      <td>5NY4</td>\n",
       "      <td>None</td>\n",
       "      <td>5NY4</td>\n",
       "      <td>-75.43070220947266, 43.15760040283203</td>\n",
       "      <td>Stanwix Heights Airport</td>\n",
       "      <td>Rome</td>\n",
       "      <td>Stanwix Heights Airport</td>\n",
       "      <td>Rome</td>\n",
       "    </tr>\n",
       "    <tr>\n",
       "      <th>2</th>\n",
       "      <td>GA77</td>\n",
       "      <td>closed</td>\n",
       "      <td>Wallace Field</td>\n",
       "      <td>810</td>\n",
       "      <td>NA</td>\n",
       "      <td>US</td>\n",
       "      <td>US-GA</td>\n",
       "      <td>Rome</td>\n",
       "      <td>None</td>\n",
       "      <td>None</td>\n",
       "      <td>None</td>\n",
       "      <td>-85.112197, 34.135798</td>\n",
       "      <td>Wallace Field</td>\n",
       "      <td>Rome</td>\n",
       "      <td>Wallace Field</td>\n",
       "      <td>Rome</td>\n",
       "    </tr>\n",
       "    <tr>\n",
       "      <th>3</th>\n",
       "      <td>IT-0061</td>\n",
       "      <td>heliport</td>\n",
       "      <td>Capitalia Heliport</td>\n",
       "      <td>116</td>\n",
       "      <td>EU</td>\n",
       "      <td>IT</td>\n",
       "      <td>IT-62</td>\n",
       "      <td>Rome</td>\n",
       "      <td>LIAD</td>\n",
       "      <td>None</td>\n",
       "      <td>None</td>\n",
       "      <td>12.381729, 41.824691</td>\n",
       "      <td>Capitalia Heliport</td>\n",
       "      <td>Rome</td>\n",
       "      <td>Capitalia Heliport</td>\n",
       "      <td>Rome</td>\n",
       "    </tr>\n",
       "    <tr>\n",
       "      <th>4</th>\n",
       "      <td>KK16</td>\n",
       "      <td>small_airport</td>\n",
       "      <td>Becks Grove Airport</td>\n",
       "      <td>450</td>\n",
       "      <td>NA</td>\n",
       "      <td>US</td>\n",
       "      <td>US-NY</td>\n",
       "      <td>Rome</td>\n",
       "      <td>KK16</td>\n",
       "      <td>None</td>\n",
       "      <td>K16</td>\n",
       "      <td>-75.60379791259766, 43.258399963378906</td>\n",
       "      <td>Becks Grove Airport</td>\n",
       "      <td>Rome</td>\n",
       "      <td>Becks Grove Airport</td>\n",
       "      <td>Rome</td>\n",
       "    </tr>\n",
       "    <tr>\n",
       "      <th>5</th>\n",
       "      <td>KREO</td>\n",
       "      <td>small_airport</td>\n",
       "      <td>Rome State Airport</td>\n",
       "      <td>4053</td>\n",
       "      <td>NA</td>\n",
       "      <td>US</td>\n",
       "      <td>US-OR</td>\n",
       "      <td>Rome</td>\n",
       "      <td>KREO</td>\n",
       "      <td>REO</td>\n",
       "      <td>REO</td>\n",
       "      <td>-117.885002136, 42.5777015686</td>\n",
       "      <td>Rome State Airport</td>\n",
       "      <td>Rome</td>\n",
       "      <td>Rome State Airport</td>\n",
       "      <td>Rome</td>\n",
       "    </tr>\n",
       "    <tr>\n",
       "      <th>6</th>\n",
       "      <td>KRME</td>\n",
       "      <td>medium_airport</td>\n",
       "      <td>Griffiss International Airport</td>\n",
       "      <td>504</td>\n",
       "      <td>NA</td>\n",
       "      <td>US</td>\n",
       "      <td>US-NY</td>\n",
       "      <td>Rome</td>\n",
       "      <td>KRME</td>\n",
       "      <td>RME</td>\n",
       "      <td>RME</td>\n",
       "      <td>-75.40699768, 43.23379898</td>\n",
       "      <td>Griffiss International Airport</td>\n",
       "      <td>Rome</td>\n",
       "      <td>Griffiss International Airport</td>\n",
       "      <td>Rome</td>\n",
       "    </tr>\n",
       "    <tr>\n",
       "      <th>7</th>\n",
       "      <td>KRMG</td>\n",
       "      <td>medium_airport</td>\n",
       "      <td>Richard B Russell Airport</td>\n",
       "      <td>644</td>\n",
       "      <td>NA</td>\n",
       "      <td>US</td>\n",
       "      <td>US-GA</td>\n",
       "      <td>Rome</td>\n",
       "      <td>KRMG</td>\n",
       "      <td>RMG</td>\n",
       "      <td>RMG</td>\n",
       "      <td>-85.15799713130001, 34.3506011963</td>\n",
       "      <td>Richard B Russell Airport</td>\n",
       "      <td>Rome</td>\n",
       "      <td>Richard B Russell Airport</td>\n",
       "      <td>Rome</td>\n",
       "    </tr>\n",
       "    <tr>\n",
       "      <th>8</th>\n",
       "      <td>LIRA</td>\n",
       "      <td>large_airport</td>\n",
       "      <td>CiampinoâG. B. Pastine International Airport</td>\n",
       "      <td>427</td>\n",
       "      <td>EU</td>\n",
       "      <td>IT</td>\n",
       "      <td>IT-62</td>\n",
       "      <td>Rome</td>\n",
       "      <td>LIRA</td>\n",
       "      <td>CIA</td>\n",
       "      <td>RM12</td>\n",
       "      <td>12.5949, 41.7994</td>\n",
       "      <td>Ciampino–G. B. Pastine International Airport</td>\n",
       "      <td>Rome</td>\n",
       "      <td>Ciampino-G. B. Pastine International Airport</td>\n",
       "      <td>Rome</td>\n",
       "    </tr>\n",
       "    <tr>\n",
       "      <th>9</th>\n",
       "      <td>LIRC</td>\n",
       "      <td>heliport</td>\n",
       "      <td>Centocelle Heliport</td>\n",
       "      <td>158</td>\n",
       "      <td>EU</td>\n",
       "      <td>IT</td>\n",
       "      <td>IT-62</td>\n",
       "      <td>Rome</td>\n",
       "      <td>LIRC</td>\n",
       "      <td>None</td>\n",
       "      <td>None</td>\n",
       "      <td>12.5637, 41.8729</td>\n",
       "      <td>Centocelle Heliport</td>\n",
       "      <td>Rome</td>\n",
       "      <td>Centocelle Heliport</td>\n",
       "      <td>Rome</td>\n",
       "    </tr>\n",
       "    <tr>\n",
       "      <th>10</th>\n",
       "      <td>LIRF</td>\n",
       "      <td>large_airport</td>\n",
       "      <td>Leonardo da VinciâFiumicino Airport</td>\n",
       "      <td>13</td>\n",
       "      <td>EU</td>\n",
       "      <td>IT</td>\n",
       "      <td>IT-62</td>\n",
       "      <td>Rome</td>\n",
       "      <td>LIRF</td>\n",
       "      <td>FCO</td>\n",
       "      <td>RM11</td>\n",
       "      <td>12.2388889, 41.8002778</td>\n",
       "      <td>Leonardo da Vinci–Fiumicino Airport</td>\n",
       "      <td>Rome</td>\n",
       "      <td>Leonardo da Vinci-Fiumicino Airport</td>\n",
       "      <td>Rome</td>\n",
       "    </tr>\n",
       "    <tr>\n",
       "      <th>11</th>\n",
       "      <td>US-0807</td>\n",
       "      <td>small_airport</td>\n",
       "      <td>M &amp; M Airfield</td>\n",
       "      <td>530</td>\n",
       "      <td>NA</td>\n",
       "      <td>US</td>\n",
       "      <td>US-NY</td>\n",
       "      <td>Rome</td>\n",
       "      <td>NY53</td>\n",
       "      <td>None</td>\n",
       "      <td>NY53</td>\n",
       "      <td>-75.401271, 43.183793</td>\n",
       "      <td>M &amp; M Airfield</td>\n",
       "      <td>Rome</td>\n",
       "      <td>M &amp; M Airfield</td>\n",
       "      <td>Rome</td>\n",
       "    </tr>\n",
       "    <tr>\n",
       "      <th>12</th>\n",
       "      <td>US-0958</td>\n",
       "      <td>heliport</td>\n",
       "      <td>Redmond Regional Medical Center Heliport</td>\n",
       "      <td>615</td>\n",
       "      <td>NA</td>\n",
       "      <td>US</td>\n",
       "      <td>US-GA</td>\n",
       "      <td>Rome</td>\n",
       "      <td>GA12</td>\n",
       "      <td>None</td>\n",
       "      <td>GA12</td>\n",
       "      <td>-85.193963, 34.277588</td>\n",
       "      <td>Redmond Regional Medical Center Heliport</td>\n",
       "      <td>Rome</td>\n",
       "      <td>Redmond Regional Medical Center Heliport</td>\n",
       "      <td>Rome</td>\n",
       "    </tr>\n",
       "  </tbody>\n",
       "</table>\n",
       "</div>"
      ],
      "text/plain": [
       "      ident            type                                            name  \\\n",
       "0      0OR6   small_airport                            Rome Service Airport   \n",
       "1      5NY4   small_airport                         Stanwix Heights Airport   \n",
       "2      GA77          closed                                   Wallace Field   \n",
       "3   IT-0061        heliport                              Capitalia Heliport   \n",
       "4      KK16   small_airport                             Becks Grove Airport   \n",
       "5      KREO   small_airport                              Rome State Airport   \n",
       "6      KRME  medium_airport                  Griffiss International Airport   \n",
       "7      KRMG  medium_airport                       Richard B Russell Airport   \n",
       "8      LIRA   large_airport  CiampinoâG. B. Pastine International Airport   \n",
       "9      LIRC        heliport                             Centocelle Heliport   \n",
       "10     LIRF   large_airport           Leonardo da VinciâFiumicino Airport   \n",
       "11  US-0807   small_airport                                  M & M Airfield   \n",
       "12  US-0958        heliport        Redmond Regional Medical Center Heliport   \n",
       "\n",
       "   elevation_ft continent iso_country iso_region municipality gps_code  \\\n",
       "0          3387        NA          US      US-OR         Rome     0OR6   \n",
       "1           610        NA          US      US-NY         Rome     5NY4   \n",
       "2           810        NA          US      US-GA         Rome     None   \n",
       "3           116        EU          IT      IT-62         Rome     LIAD   \n",
       "4           450        NA          US      US-NY         Rome     KK16   \n",
       "5          4053        NA          US      US-OR         Rome     KREO   \n",
       "6           504        NA          US      US-NY         Rome     KRME   \n",
       "7           644        NA          US      US-GA         Rome     KRMG   \n",
       "8           427        EU          IT      IT-62         Rome     LIRA   \n",
       "9           158        EU          IT      IT-62         Rome     LIRC   \n",
       "10           13        EU          IT      IT-62         Rome     LIRF   \n",
       "11          530        NA          US      US-NY         Rome     NY53   \n",
       "12          615        NA          US      US-GA         Rome     GA12   \n",
       "\n",
       "   iata_code local_code                             coordinates  \\\n",
       "0       None       0OR6  -117.62899780273438, 42.83399963378906   \n",
       "1       None       5NY4   -75.43070220947266, 43.15760040283203   \n",
       "2       None       None                   -85.112197, 34.135798   \n",
       "3       None       None                    12.381729, 41.824691   \n",
       "4       None        K16  -75.60379791259766, 43.258399963378906   \n",
       "5        REO        REO           -117.885002136, 42.5777015686   \n",
       "6        RME        RME               -75.40699768, 43.23379898   \n",
       "7        RMG        RMG       -85.15799713130001, 34.3506011963   \n",
       "8        CIA       RM12                        12.5949, 41.7994   \n",
       "9       None       None                        12.5637, 41.8729   \n",
       "10       FCO       RM11                  12.2388889, 41.8002778   \n",
       "11      None       NY53                   -75.401271, 43.183793   \n",
       "12      None       GA12                   -85.193963, 34.277588   \n",
       "\n",
       "                                           nameL municipalityL  \\\n",
       "0                           Rome Service Airport          Rome   \n",
       "1                        Stanwix Heights Airport          Rome   \n",
       "2                                  Wallace Field          Rome   \n",
       "3                             Capitalia Heliport          Rome   \n",
       "4                            Becks Grove Airport          Rome   \n",
       "5                             Rome State Airport          Rome   \n",
       "6                 Griffiss International Airport          Rome   \n",
       "7                      Richard B Russell Airport          Rome   \n",
       "8   Ciampino–G. B. Pastine International Airport          Rome   \n",
       "9                            Centocelle Heliport          Rome   \n",
       "10           Leonardo da Vinci–Fiumicino Airport          Rome   \n",
       "11                                M & M Airfield          Rome   \n",
       "12      Redmond Regional Medical Center Heliport          Rome   \n",
       "\n",
       "                                           nameE municipalityE  \n",
       "0                           Rome Service Airport          Rome  \n",
       "1                        Stanwix Heights Airport          Rome  \n",
       "2                                  Wallace Field          Rome  \n",
       "3                             Capitalia Heliport          Rome  \n",
       "4                            Becks Grove Airport          Rome  \n",
       "5                             Rome State Airport          Rome  \n",
       "6                 Griffiss International Airport          Rome  \n",
       "7                      Richard B Russell Airport          Rome  \n",
       "8   Ciampino-G. B. Pastine International Airport          Rome  \n",
       "9                            Centocelle Heliport          Rome  \n",
       "10           Leonardo da Vinci-Fiumicino Airport          Rome  \n",
       "11                                M & M Airfield          Rome  \n",
       "12      Redmond Regional Medical Center Heliport          Rome  "
      ]
     },
     "execution_count": 27,
     "metadata": {},
     "output_type": "execute_result"
    }
   ],
   "source": [
    "df.filter(F.col(\"municipality\")==\"Rome\").toPandas()"
   ]
  },
  {
   "cell_type": "markdown",
   "metadata": {
    "editable": true
   },
   "source": [
    "### Exploring the Latin letters and corresponding English letters\n",
    "\n",
    "Latin letters in: `nameL, municipalityL`\n",
    "\n",
    "Corresponding English letters in: `nameE, municipalityE`"
   ]
  },
  {
   "cell_type": "code",
   "execution_count": 28,
   "metadata": {
    "editable": true
   },
   "outputs": [
    {
     "data": {
      "text/html": [
       "<div>\n",
       "<style scoped>\n",
       "    .dataframe tbody tr th:only-of-type {\n",
       "        vertical-align: middle;\n",
       "    }\n",
       "\n",
       "    .dataframe tbody tr th {\n",
       "        vertical-align: top;\n",
       "    }\n",
       "\n",
       "    .dataframe thead th {\n",
       "        text-align: right;\n",
       "    }\n",
       "</style>\n",
       "<table border=\"1\" class=\"dataframe\">\n",
       "  <thead>\n",
       "    <tr style=\"text-align: right;\">\n",
       "      <th></th>\n",
       "      <th>ident</th>\n",
       "      <th>type</th>\n",
       "      <th>name</th>\n",
       "      <th>elevation_ft</th>\n",
       "      <th>continent</th>\n",
       "      <th>iso_country</th>\n",
       "      <th>iso_region</th>\n",
       "      <th>municipality</th>\n",
       "      <th>gps_code</th>\n",
       "      <th>iata_code</th>\n",
       "      <th>local_code</th>\n",
       "      <th>coordinates</th>\n",
       "      <th>nameL</th>\n",
       "      <th>municipalityL</th>\n",
       "      <th>nameE</th>\n",
       "      <th>municipalityE</th>\n",
       "    </tr>\n",
       "  </thead>\n",
       "  <tbody>\n",
       "    <tr>\n",
       "      <th>0</th>\n",
       "      <td>AMC</td>\n",
       "      <td>small_airport</td>\n",
       "      <td>Mar de CortÃ©s International Airport</td>\n",
       "      <td>71</td>\n",
       "      <td>NA</td>\n",
       "      <td>MX</td>\n",
       "      <td>MX-SON</td>\n",
       "      <td>Puerto PeÃ±asco</td>\n",
       "      <td>MMPE</td>\n",
       "      <td>PPE</td>\n",
       "      <td>83550</td>\n",
       "      <td>-113.305177, 31.351987</td>\n",
       "      <td>Mar de Cortés International Airport</td>\n",
       "      <td>Puerto Peñasco</td>\n",
       "      <td>Mar de Cortes International Airport</td>\n",
       "      <td>Puerto Penasco</td>\n",
       "    </tr>\n",
       "    <tr>\n",
       "      <th>1</th>\n",
       "      <td>BHL</td>\n",
       "      <td>small_airport</td>\n",
       "      <td>BahÃ­a de los Ãngeles Airport</td>\n",
       "      <td>34</td>\n",
       "      <td>NA</td>\n",
       "      <td>MX</td>\n",
       "      <td>MX-BCN</td>\n",
       "      <td>BahÃ­a de los Ãngeles</td>\n",
       "      <td>None</td>\n",
       "      <td>BHL</td>\n",
       "      <td>BAX</td>\n",
       "      <td>-113.560997, 28.9786</td>\n",
       "      <td>Bahía de los Ángeles Airport</td>\n",
       "      <td>Bahía de los Ángeles</td>\n",
       "      <td>Bahia de los Angeles Airport</td>\n",
       "      <td>Bahia de los Angeles</td>\n",
       "    </tr>\n",
       "    <tr>\n",
       "      <th>2</th>\n",
       "      <td>BLM</td>\n",
       "      <td>small_airport</td>\n",
       "      <td>Bahia De Los Angelos South</td>\n",
       "      <td>33</td>\n",
       "      <td>NA</td>\n",
       "      <td>MX</td>\n",
       "      <td>MX-BCN</td>\n",
       "      <td>None</td>\n",
       "      <td>None</td>\n",
       "      <td>None</td>\n",
       "      <td>BLM</td>\n",
       "      <td>-113.528723717, 28.891952244799995</td>\n",
       "      <td>Bahia De Los Angelos South</td>\n",
       "      <td></td>\n",
       "      <td>Bahia De Los Angelos South</td>\n",
       "      <td></td>\n",
       "    </tr>\n",
       "    <tr>\n",
       "      <th>3</th>\n",
       "      <td>CYD</td>\n",
       "      <td>small_airport</td>\n",
       "      <td>San Ignacio Downtown Airstrip</td>\n",
       "      <td>575</td>\n",
       "      <td>NA</td>\n",
       "      <td>MX</td>\n",
       "      <td>MX-BCS</td>\n",
       "      <td>MulegÃ©</td>\n",
       "      <td>None</td>\n",
       "      <td>None</td>\n",
       "      <td>None</td>\n",
       "      <td>-112.8851, 27.2906</td>\n",
       "      <td>San Ignacio Downtown Airstrip</td>\n",
       "      <td>Mulegé</td>\n",
       "      <td>San Ignacio Downtown Airstrip</td>\n",
       "      <td>Mulege</td>\n",
       "    </tr>\n",
       "    <tr>\n",
       "      <th>4</th>\n",
       "      <td>LOM</td>\n",
       "      <td>small_airport</td>\n",
       "      <td>Francisco Primo de Verdad y Ramos Airport</td>\n",
       "      <td>6227</td>\n",
       "      <td>NA</td>\n",
       "      <td>MX</td>\n",
       "      <td>MX-JAL</td>\n",
       "      <td>Lagos de Moreno</td>\n",
       "      <td>None</td>\n",
       "      <td>LOM</td>\n",
       "      <td>LMO</td>\n",
       "      <td>-101.9441, 21.2581</td>\n",
       "      <td>Francisco Primo de Verdad y Ramos Airport</td>\n",
       "      <td>Lagos de Moreno</td>\n",
       "      <td>Francisco Primo de Verdad y Ramos Airport</td>\n",
       "      <td>Lagos de Moreno</td>\n",
       "    </tr>\n",
       "  </tbody>\n",
       "</table>\n",
       "</div>"
      ],
      "text/plain": [
       "  ident           type                                       name  \\\n",
       "0   AMC  small_airport       Mar de CortÃ©s International Airport   \n",
       "1   BHL  small_airport             BahÃ­a de los Ãngeles Airport   \n",
       "2   BLM  small_airport                 Bahia De Los Angelos South   \n",
       "3   CYD  small_airport              San Ignacio Downtown Airstrip   \n",
       "4   LOM  small_airport  Francisco Primo de Verdad y Ramos Airport   \n",
       "\n",
       "  elevation_ft continent iso_country iso_region            municipality  \\\n",
       "0           71        NA          MX     MX-SON         Puerto PeÃ±asco   \n",
       "1           34        NA          MX     MX-BCN  BahÃ­a de los Ãngeles   \n",
       "2           33        NA          MX     MX-BCN                    None   \n",
       "3          575        NA          MX     MX-BCS                 MulegÃ©   \n",
       "4         6227        NA          MX     MX-JAL         Lagos de Moreno   \n",
       "\n",
       "  gps_code iata_code local_code                         coordinates  \\\n",
       "0     MMPE       PPE      83550              -113.305177, 31.351987   \n",
       "1     None       BHL        BAX                -113.560997, 28.9786   \n",
       "2     None      None        BLM  -113.528723717, 28.891952244799995   \n",
       "3     None      None       None                  -112.8851, 27.2906   \n",
       "4     None       LOM        LMO                  -101.9441, 21.2581   \n",
       "\n",
       "                                       nameL         municipalityL  \\\n",
       "0        Mar de Cortés International Airport        Puerto Peñasco   \n",
       "1               Bahía de los Ángeles Airport  Bahía de los Ángeles   \n",
       "2                 Bahia De Los Angelos South                         \n",
       "3              San Ignacio Downtown Airstrip                Mulegé   \n",
       "4  Francisco Primo de Verdad y Ramos Airport       Lagos de Moreno   \n",
       "\n",
       "                                       nameE         municipalityE  \n",
       "0        Mar de Cortes International Airport        Puerto Penasco  \n",
       "1               Bahia de los Angeles Airport  Bahia de los Angeles  \n",
       "2                 Bahia De Los Angelos South                        \n",
       "3              San Ignacio Downtown Airstrip                Mulege  \n",
       "4  Francisco Primo de Verdad y Ramos Airport       Lagos de Moreno  "
      ]
     },
     "execution_count": 28,
     "metadata": {},
     "output_type": "execute_result"
    }
   ],
   "source": [
    "df.filter(F.col(\"iso_country\")==\"MX\").limit(5).toPandas()"
   ]
  },
  {
   "cell_type": "markdown",
   "metadata": {
    "editable": true
   },
   "source": [
    "### Exploring for \"St\" Occurences in muncipality\n"
   ]
  },
  {
   "cell_type": "code",
   "execution_count": 31,
   "metadata": {
    "editable": true
   },
   "outputs": [],
   "source": [
    "filterSt = F.udf(lambda x: True if x and re.search(\"St \", x) else False,T.BooleanType()) # re.search(\"?\", x)"
   ]
  },
  {
   "cell_type": "code",
   "execution_count": 32,
   "metadata": {
    "editable": true
   },
   "outputs": [
    {
     "data": {
      "text/html": [
       "<div>\n",
       "<style scoped>\n",
       "    .dataframe tbody tr th:only-of-type {\n",
       "        vertical-align: middle;\n",
       "    }\n",
       "\n",
       "    .dataframe tbody tr th {\n",
       "        vertical-align: top;\n",
       "    }\n",
       "\n",
       "    .dataframe thead th {\n",
       "        text-align: right;\n",
       "    }\n",
       "</style>\n",
       "<table border=\"1\" class=\"dataframe\">\n",
       "  <thead>\n",
       "    <tr style=\"text-align: right;\">\n",
       "      <th></th>\n",
       "      <th>ident</th>\n",
       "      <th>type</th>\n",
       "      <th>name</th>\n",
       "      <th>elevation_ft</th>\n",
       "      <th>continent</th>\n",
       "      <th>iso_country</th>\n",
       "      <th>iso_region</th>\n",
       "      <th>municipality</th>\n",
       "      <th>gps_code</th>\n",
       "      <th>iata_code</th>\n",
       "      <th>local_code</th>\n",
       "      <th>coordinates</th>\n",
       "      <th>nameL</th>\n",
       "      <th>municipalityL</th>\n",
       "      <th>nameE</th>\n",
       "      <th>municipalityE</th>\n",
       "    </tr>\n",
       "  </thead>\n",
       "  <tbody>\n",
       "    <tr>\n",
       "      <th>0</th>\n",
       "      <td>02KS</td>\n",
       "      <td>small_airport</td>\n",
       "      <td>Jmj Landing Airport</td>\n",
       "      <td>1170</td>\n",
       "      <td>NA</td>\n",
       "      <td>US</td>\n",
       "      <td>US-KS</td>\n",
       "      <td>St Marys</td>\n",
       "      <td>02KS</td>\n",
       "      <td>None</td>\n",
       "      <td>02KS</td>\n",
       "      <td>-96.0552978515625, 39.222198486328125</td>\n",
       "      <td>Jmj Landing Airport</td>\n",
       "      <td>St Marys</td>\n",
       "      <td>Jmj Landing Airport</td>\n",
       "      <td>St Marys</td>\n",
       "    </tr>\n",
       "    <tr>\n",
       "      <th>1</th>\n",
       "      <td>06LS</td>\n",
       "      <td>heliport</td>\n",
       "      <td>Tembec Heliport</td>\n",
       "      <td>85</td>\n",
       "      <td>NA</td>\n",
       "      <td>US</td>\n",
       "      <td>US-LA</td>\n",
       "      <td>St Francisville</td>\n",
       "      <td>06LS</td>\n",
       "      <td>None</td>\n",
       "      <td>06LS</td>\n",
       "      <td>-91.32019805908203, 30.70789909362793</td>\n",
       "      <td>Tembec Heliport</td>\n",
       "      <td>St Francisville</td>\n",
       "      <td>Tembec Heliport</td>\n",
       "      <td>St Francisville</td>\n",
       "    </tr>\n",
       "    <tr>\n",
       "      <th>2</th>\n",
       "      <td>09AZ</td>\n",
       "      <td>small_airport</td>\n",
       "      <td>Stronghold Airport</td>\n",
       "      <td>4970</td>\n",
       "      <td>NA</td>\n",
       "      <td>US</td>\n",
       "      <td>US-AZ</td>\n",
       "      <td>St David</td>\n",
       "      <td>09AZ</td>\n",
       "      <td>None</td>\n",
       "      <td>09AZ</td>\n",
       "      <td>-110.03800201416016, 31.92530059814453</td>\n",
       "      <td>Stronghold Airport</td>\n",
       "      <td>St David</td>\n",
       "      <td>Stronghold Airport</td>\n",
       "      <td>St David</td>\n",
       "    </tr>\n",
       "    <tr>\n",
       "      <th>3</th>\n",
       "      <td>09LS</td>\n",
       "      <td>heliport</td>\n",
       "      <td>West Feliciana Sheriff's Office Heliport</td>\n",
       "      <td>181</td>\n",
       "      <td>NA</td>\n",
       "      <td>US</td>\n",
       "      <td>US-LA</td>\n",
       "      <td>St Francisville</td>\n",
       "      <td>09LS</td>\n",
       "      <td>None</td>\n",
       "      <td>09LS</td>\n",
       "      <td>-91.38459777832031, 30.824399948120117</td>\n",
       "      <td>West Feliciana Sheriff's Office Heliport</td>\n",
       "      <td>St Francisville</td>\n",
       "      <td>West Feliciana Sheriff's Office Heliport</td>\n",
       "      <td>St Francisville</td>\n",
       "    </tr>\n",
       "    <tr>\n",
       "      <th>4</th>\n",
       "      <td>0LL5</td>\n",
       "      <td>small_airport</td>\n",
       "      <td>Busboom RLA Restricted Landing Area</td>\n",
       "      <td>675</td>\n",
       "      <td>NA</td>\n",
       "      <td>US</td>\n",
       "      <td>US-IL</td>\n",
       "      <td>St Joseph</td>\n",
       "      <td>0LL5</td>\n",
       "      <td>None</td>\n",
       "      <td>0LL5</td>\n",
       "      <td>-88.07839965820001, 40.1100006104</td>\n",
       "      <td>Busboom RLA Restricted Landing Area</td>\n",
       "      <td>St Joseph</td>\n",
       "      <td>Busboom RLA Restricted Landing Area</td>\n",
       "      <td>St Joseph</td>\n",
       "    </tr>\n",
       "  </tbody>\n",
       "</table>\n",
       "</div>"
      ],
      "text/plain": [
       "  ident           type                                      name elevation_ft  \\\n",
       "0  02KS  small_airport                       Jmj Landing Airport         1170   \n",
       "1  06LS       heliport                           Tembec Heliport           85   \n",
       "2  09AZ  small_airport                        Stronghold Airport         4970   \n",
       "3  09LS       heliport  West Feliciana Sheriff's Office Heliport          181   \n",
       "4  0LL5  small_airport       Busboom RLA Restricted Landing Area          675   \n",
       "\n",
       "  continent iso_country iso_region     municipality gps_code iata_code  \\\n",
       "0        NA          US      US-KS         St Marys     02KS      None   \n",
       "1        NA          US      US-LA  St Francisville     06LS      None   \n",
       "2        NA          US      US-AZ         St David     09AZ      None   \n",
       "3        NA          US      US-LA  St Francisville     09LS      None   \n",
       "4        NA          US      US-IL        St Joseph     0LL5      None   \n",
       "\n",
       "  local_code                             coordinates  \\\n",
       "0       02KS   -96.0552978515625, 39.222198486328125   \n",
       "1       06LS   -91.32019805908203, 30.70789909362793   \n",
       "2       09AZ  -110.03800201416016, 31.92530059814453   \n",
       "3       09LS  -91.38459777832031, 30.824399948120117   \n",
       "4       0LL5       -88.07839965820001, 40.1100006104   \n",
       "\n",
       "                                      nameL    municipalityL  \\\n",
       "0                       Jmj Landing Airport         St Marys   \n",
       "1                           Tembec Heliport  St Francisville   \n",
       "2                        Stronghold Airport         St David   \n",
       "3  West Feliciana Sheriff's Office Heliport  St Francisville   \n",
       "4       Busboom RLA Restricted Landing Area        St Joseph   \n",
       "\n",
       "                                      nameE    municipalityE  \n",
       "0                       Jmj Landing Airport         St Marys  \n",
       "1                           Tembec Heliport  St Francisville  \n",
       "2                        Stronghold Airport         St David  \n",
       "3  West Feliciana Sheriff's Office Heliport  St Francisville  \n",
       "4       Busboom RLA Restricted Landing Area        St Joseph  "
      ]
     },
     "execution_count": 32,
     "metadata": {},
     "output_type": "execute_result"
    }
   ],
   "source": [
    "df.filter(filterSt(\"municipality\")).limit(5).toPandas()"
   ]
  },
  {
   "cell_type": "markdown",
   "metadata": {
    "editable": true
   },
   "source": [
    "### Verifying \"Ident\" column is unique"
   ]
  },
  {
   "cell_type": "code",
   "execution_count": 33,
   "metadata": {
    "editable": true
   },
   "outputs": [
    {
     "data": {
      "text/plain": [
       "55075"
      ]
     },
     "execution_count": 33,
     "metadata": {},
     "output_type": "execute_result"
    }
   ],
   "source": [
    "df.count()"
   ]
  },
  {
   "cell_type": "code",
   "execution_count": 34,
   "metadata": {
    "editable": true
   },
   "outputs": [
    {
     "data": {
      "text/plain": [
       "55075"
      ]
     },
     "execution_count": 34,
     "metadata": {},
     "output_type": "execute_result"
    }
   ],
   "source": [
    "df.select(\"ident\").distinct().count()"
   ]
  },
  {
   "cell_type": "markdown",
   "metadata": {
    "editable": true
   },
   "source": [
    "### Obtaining countries and states explansion from the iso_country and iso_code using pycountry package"
   ]
  },
  {
   "cell_type": "code",
   "execution_count": 35,
   "metadata": {
    "editable": true
   },
   "outputs": [],
   "source": [
    "country_udf = F.udf(lambda x: pyc.countries.get(alpha_2=x).name if pyc.countries.get(alpha_2=x)!=None else x,T.StringType())"
   ]
  },
  {
   "cell_type": "code",
   "execution_count": 36,
   "metadata": {
    "editable": true
   },
   "outputs": [],
   "source": [
    "state_udf = F.udf(lambda x: pyc.subdivisions.get(code=x).name if pyc.subdivisions.get(code=x)!=None else \"\",T.StringType())"
   ]
  },
  {
   "cell_type": "markdown",
   "metadata": {
    "editable": true
   },
   "source": [
    "#### Testing on small data"
   ]
  },
  {
   "cell_type": "code",
   "execution_count": 37,
   "metadata": {
    "editable": true
   },
   "outputs": [],
   "source": [
    "from pyspark.sql import Row\n",
    "l = [('Ankit','US', 'US-IL'),('Jalfaizy','MX', 'MX-JAL'),('saurabh','IT', 'IT-62'),('Bala','BM','BM-U-A')]\n",
    "rdd = spark.sparkContext.parallelize(l)\n",
    "people = rdd.map(lambda x: Row(name=x[0], iso_country=x[1], iso_code=x[2]))\n",
    "schemaPeople = spark.createDataFrame(people)"
   ]
  },
  {
   "cell_type": "code",
   "execution_count": 38,
   "metadata": {
    "editable": true
   },
   "outputs": [
    {
     "name": "stdout",
     "output_type": "stream",
     "text": [
      "+--------+-----------+--------+\n",
      "|iso_code|iso_country|    name|\n",
      "+--------+-----------+--------+\n",
      "|   US-IL|         US|   Ankit|\n",
      "|  MX-JAL|         MX|Jalfaizy|\n",
      "|   IT-62|         IT| saurabh|\n",
      "|  BM-U-A|         BM|    Bala|\n",
      "+--------+-----------+--------+\n",
      "\n"
     ]
    }
   ],
   "source": [
    "schemaPeople.show()"
   ]
  },
  {
   "cell_type": "code",
   "execution_count": 39,
   "metadata": {
    "editable": true
   },
   "outputs": [],
   "source": [
    "schemaPeople = schemaPeople.withColumn('state', state_udf('iso_code'))\n",
    "schemaPeople = schemaPeople.withColumn('country', country_udf('iso_country'))"
   ]
  },
  {
   "cell_type": "code",
   "execution_count": 40,
   "metadata": {
    "editable": true
   },
   "outputs": [
    {
     "name": "stdout",
     "output_type": "stream",
     "text": [
      "+--------+-----------+--------+--------+-------------+\n",
      "|iso_code|iso_country|    name|   state|      country|\n",
      "+--------+-----------+--------+--------+-------------+\n",
      "|   US-IL|         US|   Ankit|Illinois|United States|\n",
      "|  MX-JAL|         MX|Jalfaizy| Jalisco|       Mexico|\n",
      "|   IT-62|         IT| saurabh|   Lazio|        Italy|\n",
      "|  BM-U-A|         BM|    Bala|        |      Bermuda|\n",
      "+--------+-----------+--------+--------+-------------+\n",
      "\n"
     ]
    }
   ],
   "source": [
    "schemaPeople.show()"
   ]
  },
  {
   "cell_type": "markdown",
   "metadata": {
    "editable": true
   },
   "source": [
    "#### Implementing it on whole data"
   ]
  },
  {
   "cell_type": "code",
   "execution_count": 41,
   "metadata": {
    "editable": true
   },
   "outputs": [],
   "source": [
    "df = df.withColumn('country', country_udf('iso_country'))"
   ]
  },
  {
   "cell_type": "code",
   "execution_count": 42,
   "metadata": {
    "editable": true
   },
   "outputs": [
    {
     "data": {
      "text/html": [
       "<div>\n",
       "<style scoped>\n",
       "    .dataframe tbody tr th:only-of-type {\n",
       "        vertical-align: middle;\n",
       "    }\n",
       "\n",
       "    .dataframe tbody tr th {\n",
       "        vertical-align: top;\n",
       "    }\n",
       "\n",
       "    .dataframe thead th {\n",
       "        text-align: right;\n",
       "    }\n",
       "</style>\n",
       "<table border=\"1\" class=\"dataframe\">\n",
       "  <thead>\n",
       "    <tr style=\"text-align: right;\">\n",
       "      <th></th>\n",
       "      <th>ident</th>\n",
       "      <th>type</th>\n",
       "      <th>name</th>\n",
       "      <th>elevation_ft</th>\n",
       "      <th>continent</th>\n",
       "      <th>iso_country</th>\n",
       "      <th>iso_region</th>\n",
       "      <th>municipality</th>\n",
       "      <th>gps_code</th>\n",
       "      <th>iata_code</th>\n",
       "      <th>local_code</th>\n",
       "      <th>coordinates</th>\n",
       "      <th>nameL</th>\n",
       "      <th>municipalityL</th>\n",
       "      <th>nameE</th>\n",
       "      <th>municipalityE</th>\n",
       "      <th>country</th>\n",
       "    </tr>\n",
       "  </thead>\n",
       "  <tbody>\n",
       "    <tr>\n",
       "      <th>0</th>\n",
       "      <td>00A</td>\n",
       "      <td>heliport</td>\n",
       "      <td>Total Rf Heliport</td>\n",
       "      <td>11</td>\n",
       "      <td>NA</td>\n",
       "      <td>US</td>\n",
       "      <td>US-PA</td>\n",
       "      <td>Bensalem</td>\n",
       "      <td>00A</td>\n",
       "      <td>None</td>\n",
       "      <td>00A</td>\n",
       "      <td>-74.93360137939453, 40.07080078125</td>\n",
       "      <td>Total Rf Heliport</td>\n",
       "      <td>Bensalem</td>\n",
       "      <td>Total Rf Heliport</td>\n",
       "      <td>Bensalem</td>\n",
       "      <td>United States</td>\n",
       "    </tr>\n",
       "    <tr>\n",
       "      <th>1</th>\n",
       "      <td>00AA</td>\n",
       "      <td>small_airport</td>\n",
       "      <td>Aero B Ranch Airport</td>\n",
       "      <td>3435</td>\n",
       "      <td>NA</td>\n",
       "      <td>US</td>\n",
       "      <td>US-KS</td>\n",
       "      <td>Leoti</td>\n",
       "      <td>00AA</td>\n",
       "      <td>None</td>\n",
       "      <td>00AA</td>\n",
       "      <td>-101.473911, 38.704022</td>\n",
       "      <td>Aero B Ranch Airport</td>\n",
       "      <td>Leoti</td>\n",
       "      <td>Aero B Ranch Airport</td>\n",
       "      <td>Leoti</td>\n",
       "      <td>United States</td>\n",
       "    </tr>\n",
       "    <tr>\n",
       "      <th>2</th>\n",
       "      <td>00AK</td>\n",
       "      <td>small_airport</td>\n",
       "      <td>Lowell Field</td>\n",
       "      <td>450</td>\n",
       "      <td>NA</td>\n",
       "      <td>US</td>\n",
       "      <td>US-AK</td>\n",
       "      <td>Anchor Point</td>\n",
       "      <td>00AK</td>\n",
       "      <td>None</td>\n",
       "      <td>00AK</td>\n",
       "      <td>-151.695999146, 59.94919968</td>\n",
       "      <td>Lowell Field</td>\n",
       "      <td>Anchor Point</td>\n",
       "      <td>Lowell Field</td>\n",
       "      <td>Anchor Point</td>\n",
       "      <td>United States</td>\n",
       "    </tr>\n",
       "    <tr>\n",
       "      <th>3</th>\n",
       "      <td>00AL</td>\n",
       "      <td>small_airport</td>\n",
       "      <td>Epps Airpark</td>\n",
       "      <td>820</td>\n",
       "      <td>NA</td>\n",
       "      <td>US</td>\n",
       "      <td>US-AL</td>\n",
       "      <td>Harvest</td>\n",
       "      <td>00AL</td>\n",
       "      <td>None</td>\n",
       "      <td>00AL</td>\n",
       "      <td>-86.77030181884766, 34.86479949951172</td>\n",
       "      <td>Epps Airpark</td>\n",
       "      <td>Harvest</td>\n",
       "      <td>Epps Airpark</td>\n",
       "      <td>Harvest</td>\n",
       "      <td>United States</td>\n",
       "    </tr>\n",
       "    <tr>\n",
       "      <th>4</th>\n",
       "      <td>00AR</td>\n",
       "      <td>closed</td>\n",
       "      <td>Newport Hospital &amp; Clinic Heliport</td>\n",
       "      <td>237</td>\n",
       "      <td>NA</td>\n",
       "      <td>US</td>\n",
       "      <td>US-AR</td>\n",
       "      <td>Newport</td>\n",
       "      <td>None</td>\n",
       "      <td>None</td>\n",
       "      <td>None</td>\n",
       "      <td>-91.254898, 35.6087</td>\n",
       "      <td>Newport Hospital &amp; Clinic Heliport</td>\n",
       "      <td>Newport</td>\n",
       "      <td>Newport Hospital &amp; Clinic Heliport</td>\n",
       "      <td>Newport</td>\n",
       "      <td>United States</td>\n",
       "    </tr>\n",
       "  </tbody>\n",
       "</table>\n",
       "</div>"
      ],
      "text/plain": [
       "  ident           type                                name elevation_ft  \\\n",
       "0   00A       heliport                   Total Rf Heliport           11   \n",
       "1  00AA  small_airport                Aero B Ranch Airport         3435   \n",
       "2  00AK  small_airport                        Lowell Field          450   \n",
       "3  00AL  small_airport                        Epps Airpark          820   \n",
       "4  00AR         closed  Newport Hospital & Clinic Heliport          237   \n",
       "\n",
       "  continent iso_country iso_region  municipality gps_code iata_code  \\\n",
       "0        NA          US      US-PA      Bensalem      00A      None   \n",
       "1        NA          US      US-KS         Leoti     00AA      None   \n",
       "2        NA          US      US-AK  Anchor Point     00AK      None   \n",
       "3        NA          US      US-AL       Harvest     00AL      None   \n",
       "4        NA          US      US-AR       Newport     None      None   \n",
       "\n",
       "  local_code                            coordinates  \\\n",
       "0        00A     -74.93360137939453, 40.07080078125   \n",
       "1       00AA                 -101.473911, 38.704022   \n",
       "2       00AK            -151.695999146, 59.94919968   \n",
       "3       00AL  -86.77030181884766, 34.86479949951172   \n",
       "4       None                    -91.254898, 35.6087   \n",
       "\n",
       "                                nameL municipalityL  \\\n",
       "0                   Total Rf Heliport      Bensalem   \n",
       "1                Aero B Ranch Airport         Leoti   \n",
       "2                        Lowell Field  Anchor Point   \n",
       "3                        Epps Airpark       Harvest   \n",
       "4  Newport Hospital & Clinic Heliport       Newport   \n",
       "\n",
       "                                nameE municipalityE        country  \n",
       "0                   Total Rf Heliport      Bensalem  United States  \n",
       "1                Aero B Ranch Airport         Leoti  United States  \n",
       "2                        Lowell Field  Anchor Point  United States  \n",
       "3                        Epps Airpark       Harvest  United States  \n",
       "4  Newport Hospital & Clinic Heliport       Newport  United States  "
      ]
     },
     "execution_count": 42,
     "metadata": {},
     "output_type": "execute_result"
    }
   ],
   "source": [
    "df.limit(5).toPandas()"
   ]
  },
  {
   "cell_type": "code",
   "execution_count": 43,
   "metadata": {
    "editable": true
   },
   "outputs": [],
   "source": [
    "df = df.withColumn('state', state_udf('iso_region'))"
   ]
  },
  {
   "cell_type": "code",
   "execution_count": 44,
   "metadata": {
    "editable": true
   },
   "outputs": [
    {
     "data": {
      "text/html": [
       "<div>\n",
       "<style scoped>\n",
       "    .dataframe tbody tr th:only-of-type {\n",
       "        vertical-align: middle;\n",
       "    }\n",
       "\n",
       "    .dataframe tbody tr th {\n",
       "        vertical-align: top;\n",
       "    }\n",
       "\n",
       "    .dataframe thead th {\n",
       "        text-align: right;\n",
       "    }\n",
       "</style>\n",
       "<table border=\"1\" class=\"dataframe\">\n",
       "  <thead>\n",
       "    <tr style=\"text-align: right;\">\n",
       "      <th></th>\n",
       "      <th>ident</th>\n",
       "      <th>type</th>\n",
       "      <th>name</th>\n",
       "      <th>elevation_ft</th>\n",
       "      <th>continent</th>\n",
       "      <th>iso_country</th>\n",
       "      <th>iso_region</th>\n",
       "      <th>municipality</th>\n",
       "      <th>gps_code</th>\n",
       "      <th>iata_code</th>\n",
       "      <th>local_code</th>\n",
       "      <th>coordinates</th>\n",
       "      <th>nameL</th>\n",
       "      <th>municipalityL</th>\n",
       "      <th>nameE</th>\n",
       "      <th>municipalityE</th>\n",
       "      <th>country</th>\n",
       "      <th>state</th>\n",
       "    </tr>\n",
       "  </thead>\n",
       "  <tbody>\n",
       "    <tr>\n",
       "      <th>0</th>\n",
       "      <td>00A</td>\n",
       "      <td>heliport</td>\n",
       "      <td>Total Rf Heliport</td>\n",
       "      <td>11</td>\n",
       "      <td>NA</td>\n",
       "      <td>US</td>\n",
       "      <td>US-PA</td>\n",
       "      <td>Bensalem</td>\n",
       "      <td>00A</td>\n",
       "      <td>None</td>\n",
       "      <td>00A</td>\n",
       "      <td>-74.93360137939453, 40.07080078125</td>\n",
       "      <td>Total Rf Heliport</td>\n",
       "      <td>Bensalem</td>\n",
       "      <td>Total Rf Heliport</td>\n",
       "      <td>Bensalem</td>\n",
       "      <td>United States</td>\n",
       "      <td>Pennsylvania</td>\n",
       "    </tr>\n",
       "    <tr>\n",
       "      <th>1</th>\n",
       "      <td>00AA</td>\n",
       "      <td>small_airport</td>\n",
       "      <td>Aero B Ranch Airport</td>\n",
       "      <td>3435</td>\n",
       "      <td>NA</td>\n",
       "      <td>US</td>\n",
       "      <td>US-KS</td>\n",
       "      <td>Leoti</td>\n",
       "      <td>00AA</td>\n",
       "      <td>None</td>\n",
       "      <td>00AA</td>\n",
       "      <td>-101.473911, 38.704022</td>\n",
       "      <td>Aero B Ranch Airport</td>\n",
       "      <td>Leoti</td>\n",
       "      <td>Aero B Ranch Airport</td>\n",
       "      <td>Leoti</td>\n",
       "      <td>United States</td>\n",
       "      <td>Kansas</td>\n",
       "    </tr>\n",
       "    <tr>\n",
       "      <th>2</th>\n",
       "      <td>00AK</td>\n",
       "      <td>small_airport</td>\n",
       "      <td>Lowell Field</td>\n",
       "      <td>450</td>\n",
       "      <td>NA</td>\n",
       "      <td>US</td>\n",
       "      <td>US-AK</td>\n",
       "      <td>Anchor Point</td>\n",
       "      <td>00AK</td>\n",
       "      <td>None</td>\n",
       "      <td>00AK</td>\n",
       "      <td>-151.695999146, 59.94919968</td>\n",
       "      <td>Lowell Field</td>\n",
       "      <td>Anchor Point</td>\n",
       "      <td>Lowell Field</td>\n",
       "      <td>Anchor Point</td>\n",
       "      <td>United States</td>\n",
       "      <td>Alaska</td>\n",
       "    </tr>\n",
       "    <tr>\n",
       "      <th>3</th>\n",
       "      <td>00AL</td>\n",
       "      <td>small_airport</td>\n",
       "      <td>Epps Airpark</td>\n",
       "      <td>820</td>\n",
       "      <td>NA</td>\n",
       "      <td>US</td>\n",
       "      <td>US-AL</td>\n",
       "      <td>Harvest</td>\n",
       "      <td>00AL</td>\n",
       "      <td>None</td>\n",
       "      <td>00AL</td>\n",
       "      <td>-86.77030181884766, 34.86479949951172</td>\n",
       "      <td>Epps Airpark</td>\n",
       "      <td>Harvest</td>\n",
       "      <td>Epps Airpark</td>\n",
       "      <td>Harvest</td>\n",
       "      <td>United States</td>\n",
       "      <td>Alabama</td>\n",
       "    </tr>\n",
       "    <tr>\n",
       "      <th>4</th>\n",
       "      <td>00AR</td>\n",
       "      <td>closed</td>\n",
       "      <td>Newport Hospital &amp; Clinic Heliport</td>\n",
       "      <td>237</td>\n",
       "      <td>NA</td>\n",
       "      <td>US</td>\n",
       "      <td>US-AR</td>\n",
       "      <td>Newport</td>\n",
       "      <td>None</td>\n",
       "      <td>None</td>\n",
       "      <td>None</td>\n",
       "      <td>-91.254898, 35.6087</td>\n",
       "      <td>Newport Hospital &amp; Clinic Heliport</td>\n",
       "      <td>Newport</td>\n",
       "      <td>Newport Hospital &amp; Clinic Heliport</td>\n",
       "      <td>Newport</td>\n",
       "      <td>United States</td>\n",
       "      <td>Arkansas</td>\n",
       "    </tr>\n",
       "  </tbody>\n",
       "</table>\n",
       "</div>"
      ],
      "text/plain": [
       "  ident           type                                name elevation_ft  \\\n",
       "0   00A       heliport                   Total Rf Heliport           11   \n",
       "1  00AA  small_airport                Aero B Ranch Airport         3435   \n",
       "2  00AK  small_airport                        Lowell Field          450   \n",
       "3  00AL  small_airport                        Epps Airpark          820   \n",
       "4  00AR         closed  Newport Hospital & Clinic Heliport          237   \n",
       "\n",
       "  continent iso_country iso_region  municipality gps_code iata_code  \\\n",
       "0        NA          US      US-PA      Bensalem      00A      None   \n",
       "1        NA          US      US-KS         Leoti     00AA      None   \n",
       "2        NA          US      US-AK  Anchor Point     00AK      None   \n",
       "3        NA          US      US-AL       Harvest     00AL      None   \n",
       "4        NA          US      US-AR       Newport     None      None   \n",
       "\n",
       "  local_code                            coordinates  \\\n",
       "0        00A     -74.93360137939453, 40.07080078125   \n",
       "1       00AA                 -101.473911, 38.704022   \n",
       "2       00AK            -151.695999146, 59.94919968   \n",
       "3       00AL  -86.77030181884766, 34.86479949951172   \n",
       "4       None                    -91.254898, 35.6087   \n",
       "\n",
       "                                nameL municipalityL  \\\n",
       "0                   Total Rf Heliport      Bensalem   \n",
       "1                Aero B Ranch Airport         Leoti   \n",
       "2                        Lowell Field  Anchor Point   \n",
       "3                        Epps Airpark       Harvest   \n",
       "4  Newport Hospital & Clinic Heliport       Newport   \n",
       "\n",
       "                                nameE municipalityE        country  \\\n",
       "0                   Total Rf Heliport      Bensalem  United States   \n",
       "1                Aero B Ranch Airport         Leoti  United States   \n",
       "2                        Lowell Field  Anchor Point  United States   \n",
       "3                        Epps Airpark       Harvest  United States   \n",
       "4  Newport Hospital & Clinic Heliport       Newport  United States   \n",
       "\n",
       "          state  \n",
       "0  Pennsylvania  \n",
       "1        Kansas  \n",
       "2        Alaska  \n",
       "3       Alabama  \n",
       "4      Arkansas  "
      ]
     },
     "execution_count": 44,
     "metadata": {},
     "output_type": "execute_result"
    }
   ],
   "source": [
    "df.limit(5).toPandas()"
   ]
  },
  {
   "cell_type": "code",
   "execution_count": 45,
   "metadata": {
    "editable": true
   },
   "outputs": [
    {
     "data": {
      "text/plain": [
       "2442"
      ]
     },
     "execution_count": 45,
     "metadata": {},
     "output_type": "execute_result"
    }
   ],
   "source": [
    "df.select(\"state\").distinct().count()"
   ]
  },
  {
   "cell_type": "code",
   "execution_count": 146,
   "metadata": {
    "editable": true
   },
   "outputs": [],
   "source": [
    "#### Saving the dataframe as the parquet file\n",
    "#### Removing latin encoded columns\n",
    "# df = df.drop('nameL')\n",
    "# df = df.drop('municipalityL')"
   ]
  },
  {
   "cell_type": "code",
   "execution_count": 54,
   "metadata": {
    "editable": true
   },
   "outputs": [],
   "source": [
    "df = df.drop('name')\n",
    "df = df.drop('municipality')"
   ]
  },
  {
   "cell_type": "code",
   "execution_count": 55,
   "metadata": {
    "editable": true
   },
   "outputs": [
    {
     "name": "stdout",
     "output_type": "stream",
     "text": [
      "root\n",
      " |-- ident: string (nullable = true)\n",
      " |-- type: string (nullable = true)\n",
      " |-- elevation_ft: string (nullable = true)\n",
      " |-- continent: string (nullable = true)\n",
      " |-- iso_country: string (nullable = true)\n",
      " |-- iso_region: string (nullable = true)\n",
      " |-- gps_code: string (nullable = true)\n",
      " |-- iata_code: string (nullable = true)\n",
      " |-- local_code: string (nullable = true)\n",
      " |-- coordinates: string (nullable = true)\n",
      " |-- nameL: string (nullable = true)\n",
      " |-- municipalityL: string (nullable = true)\n",
      " |-- nameE: string (nullable = true)\n",
      " |-- municipalityE: string (nullable = true)\n",
      " |-- country: string (nullable = true)\n",
      " |-- state: string (nullable = true)\n",
      "\n"
     ]
    }
   ],
   "source": [
    "df.printSchema()"
   ]
  },
  {
   "cell_type": "code",
   "execution_count": 56,
   "metadata": {
    "editable": true
   },
   "outputs": [],
   "source": [
    "df.write\\\n",
    "    .option(\"encoding\", \"ISO-8859-1\")\\\n",
    "    .option(\"sep\",\"|\")\\\n",
    "    .option(\"header\", True)\\\n",
    "    .csv('../Cleaned Data/Airports_Data')"
   ]
  },
  {
   "cell_type": "markdown",
   "metadata": {
    "editable": true
   },
   "source": [
    "### Reading the saved file to Check how it is stored"
   ]
  },
  {
   "cell_type": "code",
   "execution_count": 57,
   "metadata": {
    "editable": true
   },
   "outputs": [],
   "source": [
    "df_r = spark.read.options(delimiter=\"|\", header=\"true\", encoding=\"ISO-8859-1\")\\\n",
    "                .csv(path=\"../Cleaned Data/Airports_Data/\")"
   ]
  },
  {
   "cell_type": "code",
   "execution_count": 58,
   "metadata": {
    "editable": true
   },
   "outputs": [
    {
     "data": {
      "text/html": [
       "<div>\n",
       "<style scoped>\n",
       "    .dataframe tbody tr th:only-of-type {\n",
       "        vertical-align: middle;\n",
       "    }\n",
       "\n",
       "    .dataframe tbody tr th {\n",
       "        vertical-align: top;\n",
       "    }\n",
       "\n",
       "    .dataframe thead th {\n",
       "        text-align: right;\n",
       "    }\n",
       "</style>\n",
       "<table border=\"1\" class=\"dataframe\">\n",
       "  <thead>\n",
       "    <tr style=\"text-align: right;\">\n",
       "      <th></th>\n",
       "      <th>ident</th>\n",
       "      <th>type</th>\n",
       "      <th>elevation_ft</th>\n",
       "      <th>continent</th>\n",
       "      <th>iso_country</th>\n",
       "      <th>iso_region</th>\n",
       "      <th>gps_code</th>\n",
       "      <th>iata_code</th>\n",
       "      <th>local_code</th>\n",
       "      <th>coordinates</th>\n",
       "      <th>nameL</th>\n",
       "      <th>municipalityL</th>\n",
       "      <th>nameE</th>\n",
       "      <th>municipalityE</th>\n",
       "      <th>country</th>\n",
       "      <th>state</th>\n",
       "    </tr>\n",
       "  </thead>\n",
       "  <tbody>\n",
       "    <tr>\n",
       "      <th>0</th>\n",
       "      <td>00A</td>\n",
       "      <td>heliport</td>\n",
       "      <td>11</td>\n",
       "      <td>NA</td>\n",
       "      <td>US</td>\n",
       "      <td>US-PA</td>\n",
       "      <td>00A</td>\n",
       "      <td>None</td>\n",
       "      <td>00A</td>\n",
       "      <td>-74.93360137939453, 40.07080078125</td>\n",
       "      <td>Total Rf Heliport</td>\n",
       "      <td>Bensalem</td>\n",
       "      <td>Total Rf Heliport</td>\n",
       "      <td>Bensalem</td>\n",
       "      <td>United States</td>\n",
       "      <td>Pennsylvania</td>\n",
       "    </tr>\n",
       "    <tr>\n",
       "      <th>1</th>\n",
       "      <td>00AA</td>\n",
       "      <td>small_airport</td>\n",
       "      <td>3435</td>\n",
       "      <td>NA</td>\n",
       "      <td>US</td>\n",
       "      <td>US-KS</td>\n",
       "      <td>00AA</td>\n",
       "      <td>None</td>\n",
       "      <td>00AA</td>\n",
       "      <td>-101.473911, 38.704022</td>\n",
       "      <td>Aero B Ranch Airport</td>\n",
       "      <td>Leoti</td>\n",
       "      <td>Aero B Ranch Airport</td>\n",
       "      <td>Leoti</td>\n",
       "      <td>United States</td>\n",
       "      <td>Kansas</td>\n",
       "    </tr>\n",
       "    <tr>\n",
       "      <th>2</th>\n",
       "      <td>00AK</td>\n",
       "      <td>small_airport</td>\n",
       "      <td>450</td>\n",
       "      <td>NA</td>\n",
       "      <td>US</td>\n",
       "      <td>US-AK</td>\n",
       "      <td>00AK</td>\n",
       "      <td>None</td>\n",
       "      <td>00AK</td>\n",
       "      <td>-151.695999146, 59.94919968</td>\n",
       "      <td>Lowell Field</td>\n",
       "      <td>Anchor Point</td>\n",
       "      <td>Lowell Field</td>\n",
       "      <td>Anchor Point</td>\n",
       "      <td>United States</td>\n",
       "      <td>Alaska</td>\n",
       "    </tr>\n",
       "    <tr>\n",
       "      <th>3</th>\n",
       "      <td>00AL</td>\n",
       "      <td>small_airport</td>\n",
       "      <td>820</td>\n",
       "      <td>NA</td>\n",
       "      <td>US</td>\n",
       "      <td>US-AL</td>\n",
       "      <td>00AL</td>\n",
       "      <td>None</td>\n",
       "      <td>00AL</td>\n",
       "      <td>-86.77030181884766, 34.86479949951172</td>\n",
       "      <td>Epps Airpark</td>\n",
       "      <td>Harvest</td>\n",
       "      <td>Epps Airpark</td>\n",
       "      <td>Harvest</td>\n",
       "      <td>United States</td>\n",
       "      <td>Alabama</td>\n",
       "    </tr>\n",
       "    <tr>\n",
       "      <th>4</th>\n",
       "      <td>00AR</td>\n",
       "      <td>closed</td>\n",
       "      <td>237</td>\n",
       "      <td>NA</td>\n",
       "      <td>US</td>\n",
       "      <td>US-AR</td>\n",
       "      <td>None</td>\n",
       "      <td>None</td>\n",
       "      <td>None</td>\n",
       "      <td>-91.254898, 35.6087</td>\n",
       "      <td>Newport Hospital &amp; Clinic Heliport</td>\n",
       "      <td>Newport</td>\n",
       "      <td>Newport Hospital &amp; Clinic Heliport</td>\n",
       "      <td>Newport</td>\n",
       "      <td>United States</td>\n",
       "      <td>Arkansas</td>\n",
       "    </tr>\n",
       "  </tbody>\n",
       "</table>\n",
       "</div>"
      ],
      "text/plain": [
       "  ident           type elevation_ft continent iso_country iso_region gps_code  \\\n",
       "0   00A       heliport           11        NA          US      US-PA      00A   \n",
       "1  00AA  small_airport         3435        NA          US      US-KS     00AA   \n",
       "2  00AK  small_airport          450        NA          US      US-AK     00AK   \n",
       "3  00AL  small_airport          820        NA          US      US-AL     00AL   \n",
       "4  00AR         closed          237        NA          US      US-AR     None   \n",
       "\n",
       "  iata_code local_code                            coordinates  \\\n",
       "0      None        00A     -74.93360137939453, 40.07080078125   \n",
       "1      None       00AA                 -101.473911, 38.704022   \n",
       "2      None       00AK            -151.695999146, 59.94919968   \n",
       "3      None       00AL  -86.77030181884766, 34.86479949951172   \n",
       "4      None       None                    -91.254898, 35.6087   \n",
       "\n",
       "                                nameL municipalityL  \\\n",
       "0                   Total Rf Heliport      Bensalem   \n",
       "1                Aero B Ranch Airport         Leoti   \n",
       "2                        Lowell Field  Anchor Point   \n",
       "3                        Epps Airpark       Harvest   \n",
       "4  Newport Hospital & Clinic Heliport       Newport   \n",
       "\n",
       "                                nameE municipalityE        country  \\\n",
       "0                   Total Rf Heliport      Bensalem  United States   \n",
       "1                Aero B Ranch Airport         Leoti  United States   \n",
       "2                        Lowell Field  Anchor Point  United States   \n",
       "3                        Epps Airpark       Harvest  United States   \n",
       "4  Newport Hospital & Clinic Heliport       Newport  United States   \n",
       "\n",
       "          state  \n",
       "0  Pennsylvania  \n",
       "1        Kansas  \n",
       "2        Alaska  \n",
       "3       Alabama  \n",
       "4      Arkansas  "
      ]
     },
     "execution_count": 58,
     "metadata": {},
     "output_type": "execute_result"
    }
   ],
   "source": [
    "df_r.limit(5).toPandas()"
   ]
  },
  {
   "cell_type": "code",
   "execution_count": 59,
   "metadata": {
    "editable": true
   },
   "outputs": [
    {
     "data": {
      "text/html": [
       "<div>\n",
       "<style scoped>\n",
       "    .dataframe tbody tr th:only-of-type {\n",
       "        vertical-align: middle;\n",
       "    }\n",
       "\n",
       "    .dataframe tbody tr th {\n",
       "        vertical-align: top;\n",
       "    }\n",
       "\n",
       "    .dataframe thead th {\n",
       "        text-align: right;\n",
       "    }\n",
       "</style>\n",
       "<table border=\"1\" class=\"dataframe\">\n",
       "  <thead>\n",
       "    <tr style=\"text-align: right;\">\n",
       "      <th></th>\n",
       "      <th>ident</th>\n",
       "      <th>type</th>\n",
       "      <th>elevation_ft</th>\n",
       "      <th>continent</th>\n",
       "      <th>iso_country</th>\n",
       "      <th>iso_region</th>\n",
       "      <th>gps_code</th>\n",
       "      <th>iata_code</th>\n",
       "      <th>local_code</th>\n",
       "      <th>coordinates</th>\n",
       "      <th>nameL</th>\n",
       "      <th>municipalityL</th>\n",
       "      <th>nameE</th>\n",
       "      <th>municipalityE</th>\n",
       "      <th>country</th>\n",
       "      <th>state</th>\n",
       "    </tr>\n",
       "  </thead>\n",
       "  <tbody>\n",
       "    <tr>\n",
       "      <th>0</th>\n",
       "      <td>AMC</td>\n",
       "      <td>small_airport</td>\n",
       "      <td>71</td>\n",
       "      <td>NA</td>\n",
       "      <td>MX</td>\n",
       "      <td>MX-SON</td>\n",
       "      <td>MMPE</td>\n",
       "      <td>PPE</td>\n",
       "      <td>83550</td>\n",
       "      <td>-113.305177, 31.351987</td>\n",
       "      <td>Mar de Cortés International Airport</td>\n",
       "      <td>Puerto Peñasco</td>\n",
       "      <td>Mar de Cortes International Airport</td>\n",
       "      <td>Puerto Penasco</td>\n",
       "      <td>Mexico</td>\n",
       "      <td>Sonora</td>\n",
       "    </tr>\n",
       "    <tr>\n",
       "      <th>1</th>\n",
       "      <td>BHL</td>\n",
       "      <td>small_airport</td>\n",
       "      <td>34</td>\n",
       "      <td>NA</td>\n",
       "      <td>MX</td>\n",
       "      <td>MX-BCN</td>\n",
       "      <td>None</td>\n",
       "      <td>BHL</td>\n",
       "      <td>BAX</td>\n",
       "      <td>-113.560997, 28.9786</td>\n",
       "      <td>Bahía de los Ángeles Airport</td>\n",
       "      <td>Bahía de los Ángeles</td>\n",
       "      <td>Bahia de los Angeles Airport</td>\n",
       "      <td>Bahia de los Angeles</td>\n",
       "      <td>Mexico</td>\n",
       "      <td>Baja California</td>\n",
       "    </tr>\n",
       "    <tr>\n",
       "      <th>2</th>\n",
       "      <td>BLM</td>\n",
       "      <td>small_airport</td>\n",
       "      <td>33</td>\n",
       "      <td>NA</td>\n",
       "      <td>MX</td>\n",
       "      <td>MX-BCN</td>\n",
       "      <td>None</td>\n",
       "      <td>None</td>\n",
       "      <td>BLM</td>\n",
       "      <td>-113.528723717, 28.891952244799995</td>\n",
       "      <td>Bahia De Los Angelos South</td>\n",
       "      <td>None</td>\n",
       "      <td>Bahia De Los Angelos South</td>\n",
       "      <td>None</td>\n",
       "      <td>Mexico</td>\n",
       "      <td>Baja California</td>\n",
       "    </tr>\n",
       "    <tr>\n",
       "      <th>3</th>\n",
       "      <td>CYD</td>\n",
       "      <td>small_airport</td>\n",
       "      <td>575</td>\n",
       "      <td>NA</td>\n",
       "      <td>MX</td>\n",
       "      <td>MX-BCS</td>\n",
       "      <td>None</td>\n",
       "      <td>None</td>\n",
       "      <td>None</td>\n",
       "      <td>-112.8851, 27.2906</td>\n",
       "      <td>San Ignacio Downtown Airstrip</td>\n",
       "      <td>Mulegé</td>\n",
       "      <td>San Ignacio Downtown Airstrip</td>\n",
       "      <td>Mulege</td>\n",
       "      <td>Mexico</td>\n",
       "      <td>Baja California Sur</td>\n",
       "    </tr>\n",
       "    <tr>\n",
       "      <th>4</th>\n",
       "      <td>LOM</td>\n",
       "      <td>small_airport</td>\n",
       "      <td>6227</td>\n",
       "      <td>NA</td>\n",
       "      <td>MX</td>\n",
       "      <td>MX-JAL</td>\n",
       "      <td>None</td>\n",
       "      <td>LOM</td>\n",
       "      <td>LMO</td>\n",
       "      <td>-101.9441, 21.2581</td>\n",
       "      <td>Francisco Primo de Verdad y Ramos Airport</td>\n",
       "      <td>Lagos de Moreno</td>\n",
       "      <td>Francisco Primo de Verdad y Ramos Airport</td>\n",
       "      <td>Lagos de Moreno</td>\n",
       "      <td>Mexico</td>\n",
       "      <td>Jalisco</td>\n",
       "    </tr>\n",
       "  </tbody>\n",
       "</table>\n",
       "</div>"
      ],
      "text/plain": [
       "  ident           type elevation_ft continent iso_country iso_region gps_code  \\\n",
       "0   AMC  small_airport           71        NA          MX     MX-SON     MMPE   \n",
       "1   BHL  small_airport           34        NA          MX     MX-BCN     None   \n",
       "2   BLM  small_airport           33        NA          MX     MX-BCN     None   \n",
       "3   CYD  small_airport          575        NA          MX     MX-BCS     None   \n",
       "4   LOM  small_airport         6227        NA          MX     MX-JAL     None   \n",
       "\n",
       "  iata_code local_code                         coordinates  \\\n",
       "0       PPE      83550              -113.305177, 31.351987   \n",
       "1       BHL        BAX                -113.560997, 28.9786   \n",
       "2      None        BLM  -113.528723717, 28.891952244799995   \n",
       "3      None       None                  -112.8851, 27.2906   \n",
       "4       LOM        LMO                  -101.9441, 21.2581   \n",
       "\n",
       "                                       nameL         municipalityL  \\\n",
       "0        Mar de Cortés International Airport        Puerto Peñasco   \n",
       "1               Bahía de los Ángeles Airport  Bahía de los Ángeles   \n",
       "2                 Bahia De Los Angelos South                  None   \n",
       "3              San Ignacio Downtown Airstrip                Mulegé   \n",
       "4  Francisco Primo de Verdad y Ramos Airport       Lagos de Moreno   \n",
       "\n",
       "                                       nameE         municipalityE country  \\\n",
       "0        Mar de Cortes International Airport        Puerto Penasco  Mexico   \n",
       "1               Bahia de los Angeles Airport  Bahia de los Angeles  Mexico   \n",
       "2                 Bahia De Los Angelos South                  None  Mexico   \n",
       "3              San Ignacio Downtown Airstrip                Mulege  Mexico   \n",
       "4  Francisco Primo de Verdad y Ramos Airport       Lagos de Moreno  Mexico   \n",
       "\n",
       "                 state  \n",
       "0               Sonora  \n",
       "1      Baja California  \n",
       "2      Baja California  \n",
       "3  Baja California Sur  \n",
       "4              Jalisco  "
      ]
     },
     "execution_count": 59,
     "metadata": {},
     "output_type": "execute_result"
    }
   ],
   "source": [
    "df_r.filter(F.col(\"iso_country\")==\"MX\").limit(5).toPandas()"
   ]
  }
 ],
 "metadata": {
  "kernelspec": {
   "display_name": "Python 3",
   "language": "python",
   "name": "python3"
  },
  "language_info": {
   "codemirror_mode": {
    "name": "ipython",
    "version": 3
   },
   "file_extension": ".py",
   "mimetype": "text/x-python",
   "name": "python",
   "nbconvert_exporter": "python",
   "pygments_lexer": "ipython3",
   "version": "3.6.3"
  }
 },
 "nbformat": 4,
 "nbformat_minor": 4
}

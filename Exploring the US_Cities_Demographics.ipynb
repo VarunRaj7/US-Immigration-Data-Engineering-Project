{
 "cells": [
  {
   "cell_type": "markdown",
   "metadata": {
    "editable": true
   },
   "source": [
    "### Exploring the US Cities Demographics\n",
    "\n",
    "Source: [Opensoft](https://public.opendatasoft.com/explore/dataset/us-cities-demographics/export/)\n",
    "\n",
    "File: us-cities-demographics.csv\n",
    "\n",
    "This data comes from OpenSoft.\n",
    "        "
   ]
  },
  {
   "cell_type": "code",
   "execution_count": 40,
   "metadata": {
    "editable": true
   },
   "outputs": [],
   "source": [
    "import pandas as pd\n",
    "import numpy as np\n",
    "\n",
    "pd.set_option(\"max_columns\", 500)"
   ]
  },
  {
   "cell_type": "code",
   "execution_count": 2,
   "metadata": {
    "editable": true
   },
   "outputs": [
    {
     "data": {
      "text/html": [
       "<div>\n",
       "<style scoped>\n",
       "    .dataframe tbody tr th:only-of-type {\n",
       "        vertical-align: middle;\n",
       "    }\n",
       "\n",
       "    .dataframe tbody tr th {\n",
       "        vertical-align: top;\n",
       "    }\n",
       "\n",
       "    .dataframe thead th {\n",
       "        text-align: right;\n",
       "    }\n",
       "</style>\n",
       "<table border=\"1\" class=\"dataframe\">\n",
       "  <thead>\n",
       "    <tr style=\"text-align: right;\">\n",
       "      <th></th>\n",
       "      <th>City</th>\n",
       "      <th>State</th>\n",
       "      <th>Median Age</th>\n",
       "      <th>Male Population</th>\n",
       "      <th>Female Population</th>\n",
       "      <th>Total Population</th>\n",
       "      <th>Number of Veterans</th>\n",
       "      <th>Foreign-born</th>\n",
       "      <th>Average Household Size</th>\n",
       "      <th>State Code</th>\n",
       "      <th>Race</th>\n",
       "      <th>Count</th>\n",
       "    </tr>\n",
       "  </thead>\n",
       "  <tbody>\n",
       "    <tr>\n",
       "      <th>0</th>\n",
       "      <td>Silver Spring</td>\n",
       "      <td>Maryland</td>\n",
       "      <td>33.8</td>\n",
       "      <td>40601.0</td>\n",
       "      <td>41862.0</td>\n",
       "      <td>82463</td>\n",
       "      <td>1562.0</td>\n",
       "      <td>30908.0</td>\n",
       "      <td>2.60</td>\n",
       "      <td>MD</td>\n",
       "      <td>Hispanic or Latino</td>\n",
       "      <td>25924</td>\n",
       "    </tr>\n",
       "    <tr>\n",
       "      <th>1</th>\n",
       "      <td>Quincy</td>\n",
       "      <td>Massachusetts</td>\n",
       "      <td>41.0</td>\n",
       "      <td>44129.0</td>\n",
       "      <td>49500.0</td>\n",
       "      <td>93629</td>\n",
       "      <td>4147.0</td>\n",
       "      <td>32935.0</td>\n",
       "      <td>2.39</td>\n",
       "      <td>MA</td>\n",
       "      <td>White</td>\n",
       "      <td>58723</td>\n",
       "    </tr>\n",
       "    <tr>\n",
       "      <th>2</th>\n",
       "      <td>Hoover</td>\n",
       "      <td>Alabama</td>\n",
       "      <td>38.5</td>\n",
       "      <td>38040.0</td>\n",
       "      <td>46799.0</td>\n",
       "      <td>84839</td>\n",
       "      <td>4819.0</td>\n",
       "      <td>8229.0</td>\n",
       "      <td>2.58</td>\n",
       "      <td>AL</td>\n",
       "      <td>Asian</td>\n",
       "      <td>4759</td>\n",
       "    </tr>\n",
       "    <tr>\n",
       "      <th>3</th>\n",
       "      <td>Rancho Cucamonga</td>\n",
       "      <td>California</td>\n",
       "      <td>34.5</td>\n",
       "      <td>88127.0</td>\n",
       "      <td>87105.0</td>\n",
       "      <td>175232</td>\n",
       "      <td>5821.0</td>\n",
       "      <td>33878.0</td>\n",
       "      <td>3.18</td>\n",
       "      <td>CA</td>\n",
       "      <td>Black or African-American</td>\n",
       "      <td>24437</td>\n",
       "    </tr>\n",
       "    <tr>\n",
       "      <th>4</th>\n",
       "      <td>Newark</td>\n",
       "      <td>New Jersey</td>\n",
       "      <td>34.6</td>\n",
       "      <td>138040.0</td>\n",
       "      <td>143873.0</td>\n",
       "      <td>281913</td>\n",
       "      <td>5829.0</td>\n",
       "      <td>86253.0</td>\n",
       "      <td>2.73</td>\n",
       "      <td>NJ</td>\n",
       "      <td>White</td>\n",
       "      <td>76402</td>\n",
       "    </tr>\n",
       "  </tbody>\n",
       "</table>\n",
       "</div>"
      ],
      "text/plain": [
       "               City          State  Median Age  Male Population  \\\n",
       "0     Silver Spring       Maryland        33.8          40601.0   \n",
       "1            Quincy  Massachusetts        41.0          44129.0   \n",
       "2            Hoover        Alabama        38.5          38040.0   \n",
       "3  Rancho Cucamonga     California        34.5          88127.0   \n",
       "4            Newark     New Jersey        34.6         138040.0   \n",
       "\n",
       "   Female Population  Total Population  Number of Veterans  Foreign-born  \\\n",
       "0            41862.0             82463              1562.0       30908.0   \n",
       "1            49500.0             93629              4147.0       32935.0   \n",
       "2            46799.0             84839              4819.0        8229.0   \n",
       "3            87105.0            175232              5821.0       33878.0   \n",
       "4           143873.0            281913              5829.0       86253.0   \n",
       "\n",
       "   Average Household Size State Code                       Race  Count  \n",
       "0                    2.60         MD         Hispanic or Latino  25924  \n",
       "1                    2.39         MA                      White  58723  \n",
       "2                    2.58         AL                      Asian   4759  \n",
       "3                    3.18         CA  Black or African-American  24437  \n",
       "4                    2.73         NJ                      White  76402  "
      ]
     },
     "execution_count": 2,
     "metadata": {},
     "output_type": "execute_result"
    }
   ],
   "source": [
    "fname = 'us-cities-demographics.csv'\n",
    "df = pd.read_csv(fname, sep=';')\n",
    "df.head()"
   ]
  },
  {
   "cell_type": "code",
   "execution_count": 3,
   "metadata": {
    "editable": true
   },
   "outputs": [
    {
     "data": {
      "text/plain": [
       "Hispanic or Latino                   596\n",
       "White                                589\n",
       "Black or African-American            584\n",
       "Asian                                583\n",
       "American Indian and Alaska Native    539\n",
       "Name: Race, dtype: int64"
      ]
     },
     "execution_count": 3,
     "metadata": {},
     "output_type": "execute_result"
    }
   ],
   "source": [
    "## Finding the unique races\n",
    "\n",
    "df.Race.value_counts()"
   ]
  },
  {
   "cell_type": "code",
   "execution_count": 4,
   "metadata": {
    "editable": true
   },
   "outputs": [
    {
     "data": {
      "text/plain": [
       "City                       object\n",
       "State                      object\n",
       "Median Age                float64\n",
       "Male Population           float64\n",
       "Female Population         float64\n",
       "Total Population            int64\n",
       "Number of Veterans        float64\n",
       "Foreign-born              float64\n",
       "Average Household Size    float64\n",
       "State Code                 object\n",
       "Race                       object\n",
       "Count                       int64\n",
       "dtype: object"
      ]
     },
     "execution_count": 4,
     "metadata": {},
     "output_type": "execute_result"
    }
   ],
   "source": [
    "df.dtypes"
   ]
  },
  {
   "cell_type": "code",
   "execution_count": 5,
   "metadata": {
    "editable": true
   },
   "outputs": [
    {
     "data": {
      "text/plain": [
       "2891"
      ]
     },
     "execution_count": 5,
     "metadata": {},
     "output_type": "execute_result"
    }
   ],
   "source": [
    "len(df)"
   ]
  },
  {
   "cell_type": "markdown",
   "metadata": {
    "editable": true
   },
   "source": [
    "#### Using Pyspark"
   ]
  },
  {
   "cell_type": "code",
   "execution_count": 6,
   "metadata": {
    "editable": true
   },
   "outputs": [],
   "source": [
    "from pyspark.sql import SparkSession\n",
    "from pyspark.sql.window import Window\n",
    "import pyspark.sql.functions as F"
   ]
  },
  {
   "cell_type": "code",
   "execution_count": 7,
   "metadata": {
    "editable": true
   },
   "outputs": [],
   "source": [
    "spark = SparkSession \\\n",
    "        .builder \\\n",
    "        .config(\"spark.jars.packages\", \"org.apache.hadoop:hadoop-aws:2.7.0\") \\\n",
    "        .getOrCreate()"
   ]
  },
  {
   "cell_type": "code",
   "execution_count": 86,
   "metadata": {
    "editable": true
   },
   "outputs": [],
   "source": [
    "df = spark.read.options(delimiter=\";\", header=\"true\", inferSchema='true')\\\n",
    "            .csv(\"us-cities-demographics.csv\")"
   ]
  },
  {
   "cell_type": "code",
   "execution_count": 87,
   "metadata": {
    "editable": true
   },
   "outputs": [
    {
     "data": {
      "text/html": [
       "<div>\n",
       "<style scoped>\n",
       "    .dataframe tbody tr th:only-of-type {\n",
       "        vertical-align: middle;\n",
       "    }\n",
       "\n",
       "    .dataframe tbody tr th {\n",
       "        vertical-align: top;\n",
       "    }\n",
       "\n",
       "    .dataframe thead th {\n",
       "        text-align: right;\n",
       "    }\n",
       "</style>\n",
       "<table border=\"1\" class=\"dataframe\">\n",
       "  <thead>\n",
       "    <tr style=\"text-align: right;\">\n",
       "      <th></th>\n",
       "      <th>City</th>\n",
       "      <th>State</th>\n",
       "      <th>Median Age</th>\n",
       "      <th>Male Population</th>\n",
       "      <th>Female Population</th>\n",
       "      <th>Total Population</th>\n",
       "      <th>Number of Veterans</th>\n",
       "      <th>Foreign-born</th>\n",
       "      <th>Average Household Size</th>\n",
       "      <th>State Code</th>\n",
       "      <th>Race</th>\n",
       "      <th>Count</th>\n",
       "    </tr>\n",
       "  </thead>\n",
       "  <tbody>\n",
       "    <tr>\n",
       "      <th>0</th>\n",
       "      <td>Silver Spring</td>\n",
       "      <td>Maryland</td>\n",
       "      <td>33.8</td>\n",
       "      <td>40601</td>\n",
       "      <td>41862</td>\n",
       "      <td>82463</td>\n",
       "      <td>1562</td>\n",
       "      <td>30908</td>\n",
       "      <td>2.60</td>\n",
       "      <td>MD</td>\n",
       "      <td>Hispanic or Latino</td>\n",
       "      <td>25924</td>\n",
       "    </tr>\n",
       "    <tr>\n",
       "      <th>1</th>\n",
       "      <td>Quincy</td>\n",
       "      <td>Massachusetts</td>\n",
       "      <td>41.0</td>\n",
       "      <td>44129</td>\n",
       "      <td>49500</td>\n",
       "      <td>93629</td>\n",
       "      <td>4147</td>\n",
       "      <td>32935</td>\n",
       "      <td>2.39</td>\n",
       "      <td>MA</td>\n",
       "      <td>White</td>\n",
       "      <td>58723</td>\n",
       "    </tr>\n",
       "    <tr>\n",
       "      <th>2</th>\n",
       "      <td>Hoover</td>\n",
       "      <td>Alabama</td>\n",
       "      <td>38.5</td>\n",
       "      <td>38040</td>\n",
       "      <td>46799</td>\n",
       "      <td>84839</td>\n",
       "      <td>4819</td>\n",
       "      <td>8229</td>\n",
       "      <td>2.58</td>\n",
       "      <td>AL</td>\n",
       "      <td>Asian</td>\n",
       "      <td>4759</td>\n",
       "    </tr>\n",
       "    <tr>\n",
       "      <th>3</th>\n",
       "      <td>Rancho Cucamonga</td>\n",
       "      <td>California</td>\n",
       "      <td>34.5</td>\n",
       "      <td>88127</td>\n",
       "      <td>87105</td>\n",
       "      <td>175232</td>\n",
       "      <td>5821</td>\n",
       "      <td>33878</td>\n",
       "      <td>3.18</td>\n",
       "      <td>CA</td>\n",
       "      <td>Black or African-American</td>\n",
       "      <td>24437</td>\n",
       "    </tr>\n",
       "    <tr>\n",
       "      <th>4</th>\n",
       "      <td>Newark</td>\n",
       "      <td>New Jersey</td>\n",
       "      <td>34.6</td>\n",
       "      <td>138040</td>\n",
       "      <td>143873</td>\n",
       "      <td>281913</td>\n",
       "      <td>5829</td>\n",
       "      <td>86253</td>\n",
       "      <td>2.73</td>\n",
       "      <td>NJ</td>\n",
       "      <td>White</td>\n",
       "      <td>76402</td>\n",
       "    </tr>\n",
       "  </tbody>\n",
       "</table>\n",
       "</div>"
      ],
      "text/plain": [
       "               City          State  Median Age  Male Population  \\\n",
       "0     Silver Spring       Maryland        33.8            40601   \n",
       "1            Quincy  Massachusetts        41.0            44129   \n",
       "2            Hoover        Alabama        38.5            38040   \n",
       "3  Rancho Cucamonga     California        34.5            88127   \n",
       "4            Newark     New Jersey        34.6           138040   \n",
       "\n",
       "   Female Population  Total Population  Number of Veterans  Foreign-born  \\\n",
       "0              41862             82463                1562         30908   \n",
       "1              49500             93629                4147         32935   \n",
       "2              46799             84839                4819          8229   \n",
       "3              87105            175232                5821         33878   \n",
       "4             143873            281913                5829         86253   \n",
       "\n",
       "   Average Household Size State Code                       Race  Count  \n",
       "0                    2.60         MD         Hispanic or Latino  25924  \n",
       "1                    2.39         MA                      White  58723  \n",
       "2                    2.58         AL                      Asian   4759  \n",
       "3                    3.18         CA  Black or African-American  24437  \n",
       "4                    2.73         NJ                      White  76402  "
      ]
     },
     "execution_count": 87,
     "metadata": {},
     "output_type": "execute_result"
    }
   ],
   "source": [
    "df.limit(5).toPandas()"
   ]
  },
  {
   "cell_type": "code",
   "execution_count": 88,
   "metadata": {
    "editable": true
   },
   "outputs": [],
   "source": [
    "df = df.drop(\"Race_percentage_by_city\")"
   ]
  },
  {
   "cell_type": "code",
   "execution_count": 89,
   "metadata": {
    "editable": true
   },
   "outputs": [],
   "source": [
    "df = df.withColumn(\"Race_percent_by_city\", F.col(\"Count\")*100/F.col(\"Total Population\"))"
   ]
  },
  {
   "cell_type": "code",
   "execution_count": 90,
   "metadata": {
    "editable": true
   },
   "outputs": [
    {
     "data": {
      "text/html": [
       "<div>\n",
       "<style scoped>\n",
       "    .dataframe tbody tr th:only-of-type {\n",
       "        vertical-align: middle;\n",
       "    }\n",
       "\n",
       "    .dataframe tbody tr th {\n",
       "        vertical-align: top;\n",
       "    }\n",
       "\n",
       "    .dataframe thead th {\n",
       "        text-align: right;\n",
       "    }\n",
       "</style>\n",
       "<table border=\"1\" class=\"dataframe\">\n",
       "  <thead>\n",
       "    <tr style=\"text-align: right;\">\n",
       "      <th></th>\n",
       "      <th>City</th>\n",
       "      <th>State</th>\n",
       "      <th>Median Age</th>\n",
       "      <th>Male Population</th>\n",
       "      <th>Female Population</th>\n",
       "      <th>Total Population</th>\n",
       "      <th>Number of Veterans</th>\n",
       "      <th>Foreign-born</th>\n",
       "      <th>Average Household Size</th>\n",
       "      <th>State Code</th>\n",
       "      <th>Race</th>\n",
       "      <th>Count</th>\n",
       "      <th>Race_percent_by_city</th>\n",
       "    </tr>\n",
       "  </thead>\n",
       "  <tbody>\n",
       "    <tr>\n",
       "      <th>0</th>\n",
       "      <td>Silver Spring</td>\n",
       "      <td>Maryland</td>\n",
       "      <td>33.8</td>\n",
       "      <td>40601</td>\n",
       "      <td>41862</td>\n",
       "      <td>82463</td>\n",
       "      <td>1562</td>\n",
       "      <td>30908</td>\n",
       "      <td>2.60</td>\n",
       "      <td>MD</td>\n",
       "      <td>Hispanic or Latino</td>\n",
       "      <td>25924</td>\n",
       "      <td>31.437129</td>\n",
       "    </tr>\n",
       "    <tr>\n",
       "      <th>1</th>\n",
       "      <td>Quincy</td>\n",
       "      <td>Massachusetts</td>\n",
       "      <td>41.0</td>\n",
       "      <td>44129</td>\n",
       "      <td>49500</td>\n",
       "      <td>93629</td>\n",
       "      <td>4147</td>\n",
       "      <td>32935</td>\n",
       "      <td>2.39</td>\n",
       "      <td>MA</td>\n",
       "      <td>White</td>\n",
       "      <td>58723</td>\n",
       "      <td>62.718816</td>\n",
       "    </tr>\n",
       "    <tr>\n",
       "      <th>2</th>\n",
       "      <td>Hoover</td>\n",
       "      <td>Alabama</td>\n",
       "      <td>38.5</td>\n",
       "      <td>38040</td>\n",
       "      <td>46799</td>\n",
       "      <td>84839</td>\n",
       "      <td>4819</td>\n",
       "      <td>8229</td>\n",
       "      <td>2.58</td>\n",
       "      <td>AL</td>\n",
       "      <td>Asian</td>\n",
       "      <td>4759</td>\n",
       "      <td>5.609448</td>\n",
       "    </tr>\n",
       "    <tr>\n",
       "      <th>3</th>\n",
       "      <td>Rancho Cucamonga</td>\n",
       "      <td>California</td>\n",
       "      <td>34.5</td>\n",
       "      <td>88127</td>\n",
       "      <td>87105</td>\n",
       "      <td>175232</td>\n",
       "      <td>5821</td>\n",
       "      <td>33878</td>\n",
       "      <td>3.18</td>\n",
       "      <td>CA</td>\n",
       "      <td>Black or African-American</td>\n",
       "      <td>24437</td>\n",
       "      <td>13.945512</td>\n",
       "    </tr>\n",
       "    <tr>\n",
       "      <th>4</th>\n",
       "      <td>Newark</td>\n",
       "      <td>New Jersey</td>\n",
       "      <td>34.6</td>\n",
       "      <td>138040</td>\n",
       "      <td>143873</td>\n",
       "      <td>281913</td>\n",
       "      <td>5829</td>\n",
       "      <td>86253</td>\n",
       "      <td>2.73</td>\n",
       "      <td>NJ</td>\n",
       "      <td>White</td>\n",
       "      <td>76402</td>\n",
       "      <td>27.101269</td>\n",
       "    </tr>\n",
       "  </tbody>\n",
       "</table>\n",
       "</div>"
      ],
      "text/plain": [
       "               City          State  Median Age  Male Population  \\\n",
       "0     Silver Spring       Maryland        33.8            40601   \n",
       "1            Quincy  Massachusetts        41.0            44129   \n",
       "2            Hoover        Alabama        38.5            38040   \n",
       "3  Rancho Cucamonga     California        34.5            88127   \n",
       "4            Newark     New Jersey        34.6           138040   \n",
       "\n",
       "   Female Population  Total Population  Number of Veterans  Foreign-born  \\\n",
       "0              41862             82463                1562         30908   \n",
       "1              49500             93629                4147         32935   \n",
       "2              46799             84839                4819          8229   \n",
       "3              87105            175232                5821         33878   \n",
       "4             143873            281913                5829         86253   \n",
       "\n",
       "   Average Household Size State Code                       Race  Count  \\\n",
       "0                    2.60         MD         Hispanic or Latino  25924   \n",
       "1                    2.39         MA                      White  58723   \n",
       "2                    2.58         AL                      Asian   4759   \n",
       "3                    3.18         CA  Black or African-American  24437   \n",
       "4                    2.73         NJ                      White  76402   \n",
       "\n",
       "   Race_percent_by_city  \n",
       "0             31.437129  \n",
       "1             62.718816  \n",
       "2              5.609448  \n",
       "3             13.945512  \n",
       "4             27.101269  "
      ]
     },
     "execution_count": 90,
     "metadata": {},
     "output_type": "execute_result"
    }
   ],
   "source": [
    "df.limit(5).toPandas()"
   ]
  },
  {
   "cell_type": "code",
   "execution_count": 91,
   "metadata": {
    "editable": true
   },
   "outputs": [],
   "source": [
    "df =  df.withColumn(\"Race_rank_by_city\", \\\n",
    "                    F.dense_rank().over(Window.partitionBy(\"Race\").orderBy(F.desc(\"Race_percent_by_city\"))))"
   ]
  },
  {
   "cell_type": "code",
   "execution_count": 92,
   "metadata": {
    "editable": true
   },
   "outputs": [
    {
     "data": {
      "text/html": [
       "<div>\n",
       "<style scoped>\n",
       "    .dataframe tbody tr th:only-of-type {\n",
       "        vertical-align: middle;\n",
       "    }\n",
       "\n",
       "    .dataframe tbody tr th {\n",
       "        vertical-align: top;\n",
       "    }\n",
       "\n",
       "    .dataframe thead th {\n",
       "        text-align: right;\n",
       "    }\n",
       "</style>\n",
       "<table border=\"1\" class=\"dataframe\">\n",
       "  <thead>\n",
       "    <tr style=\"text-align: right;\">\n",
       "      <th></th>\n",
       "      <th>City</th>\n",
       "      <th>State</th>\n",
       "      <th>Median Age</th>\n",
       "      <th>Male Population</th>\n",
       "      <th>Female Population</th>\n",
       "      <th>Total Population</th>\n",
       "      <th>Number of Veterans</th>\n",
       "      <th>Foreign-born</th>\n",
       "      <th>Average Household Size</th>\n",
       "      <th>State Code</th>\n",
       "      <th>Race</th>\n",
       "      <th>Count</th>\n",
       "      <th>Race_percent_by_city</th>\n",
       "      <th>Race_rank_by_city</th>\n",
       "    </tr>\n",
       "  </thead>\n",
       "  <tbody>\n",
       "    <tr>\n",
       "      <th>0</th>\n",
       "      <td>East Orange</td>\n",
       "      <td>New Jersey</td>\n",
       "      <td>35.5</td>\n",
       "      <td>29995</td>\n",
       "      <td>34967</td>\n",
       "      <td>64962</td>\n",
       "      <td>1870</td>\n",
       "      <td>15164</td>\n",
       "      <td>2.85</td>\n",
       "      <td>NJ</td>\n",
       "      <td>Black or African-American</td>\n",
       "      <td>57859</td>\n",
       "      <td>89.065915</td>\n",
       "      <td>1</td>\n",
       "    </tr>\n",
       "    <tr>\n",
       "      <th>1</th>\n",
       "      <td>Jackson</td>\n",
       "      <td>Mississippi</td>\n",
       "      <td>31.7</td>\n",
       "      <td>79039</td>\n",
       "      <td>91772</td>\n",
       "      <td>170811</td>\n",
       "      <td>8146</td>\n",
       "      <td>1789</td>\n",
       "      <td>2.65</td>\n",
       "      <td>MS</td>\n",
       "      <td>Black or African-American</td>\n",
       "      <td>139567</td>\n",
       "      <td>81.708438</td>\n",
       "      <td>2</td>\n",
       "    </tr>\n",
       "    <tr>\n",
       "      <th>2</th>\n",
       "      <td>Detroit</td>\n",
       "      <td>Michigan</td>\n",
       "      <td>34.8</td>\n",
       "      <td>319265</td>\n",
       "      <td>357859</td>\n",
       "      <td>677124</td>\n",
       "      <td>29511</td>\n",
       "      <td>39861</td>\n",
       "      <td>2.60</td>\n",
       "      <td>MI</td>\n",
       "      <td>Black or African-American</td>\n",
       "      <td>545988</td>\n",
       "      <td>80.633385</td>\n",
       "      <td>3</td>\n",
       "    </tr>\n",
       "    <tr>\n",
       "      <th>3</th>\n",
       "      <td>Lauderhill</td>\n",
       "      <td>Florida</td>\n",
       "      <td>35.7</td>\n",
       "      <td>32813</td>\n",
       "      <td>38761</td>\n",
       "      <td>71574</td>\n",
       "      <td>1965</td>\n",
       "      <td>25471</td>\n",
       "      <td>3.02</td>\n",
       "      <td>FL</td>\n",
       "      <td>Black or African-American</td>\n",
       "      <td>56948</td>\n",
       "      <td>79.565205</td>\n",
       "      <td>4</td>\n",
       "    </tr>\n",
       "    <tr>\n",
       "      <th>4</th>\n",
       "      <td>Gary</td>\n",
       "      <td>Indiana</td>\n",
       "      <td>38.1</td>\n",
       "      <td>35876</td>\n",
       "      <td>41478</td>\n",
       "      <td>77354</td>\n",
       "      <td>3952</td>\n",
       "      <td>1884</td>\n",
       "      <td>2.35</td>\n",
       "      <td>IN</td>\n",
       "      <td>Black or African-American</td>\n",
       "      <td>61416</td>\n",
       "      <td>79.396023</td>\n",
       "      <td>5</td>\n",
       "    </tr>\n",
       "    <tr>\n",
       "      <th>5</th>\n",
       "      <td>Miami Gardens</td>\n",
       "      <td>Florida</td>\n",
       "      <td>34.9</td>\n",
       "      <td>50719</td>\n",
       "      <td>62480</td>\n",
       "      <td>113199</td>\n",
       "      <td>2327</td>\n",
       "      <td>33394</td>\n",
       "      <td>3.75</td>\n",
       "      <td>FL</td>\n",
       "      <td>Black or African-American</td>\n",
       "      <td>85300</td>\n",
       "      <td>75.354023</td>\n",
       "      <td>6</td>\n",
       "    </tr>\n",
       "    <tr>\n",
       "      <th>6</th>\n",
       "      <td>Albany</td>\n",
       "      <td>Georgia</td>\n",
       "      <td>33.3</td>\n",
       "      <td>31695</td>\n",
       "      <td>39414</td>\n",
       "      <td>71109</td>\n",
       "      <td>5409</td>\n",
       "      <td>861</td>\n",
       "      <td>2.38</td>\n",
       "      <td>GA</td>\n",
       "      <td>Black or African-American</td>\n",
       "      <td>53440</td>\n",
       "      <td>75.152231</td>\n",
       "      <td>7</td>\n",
       "    </tr>\n",
       "    <tr>\n",
       "      <th>7</th>\n",
       "      <td>Pine Hills</td>\n",
       "      <td>Florida</td>\n",
       "      <td>29.2</td>\n",
       "      <td>35344</td>\n",
       "      <td>40737</td>\n",
       "      <td>76081</td>\n",
       "      <td>2594</td>\n",
       "      <td>20735</td>\n",
       "      <td>3.30</td>\n",
       "      <td>FL</td>\n",
       "      <td>Black or African-American</td>\n",
       "      <td>57089</td>\n",
       "      <td>75.037131</td>\n",
       "      <td>8</td>\n",
       "    </tr>\n",
       "    <tr>\n",
       "      <th>8</th>\n",
       "      <td>Southfield</td>\n",
       "      <td>Michigan</td>\n",
       "      <td>41.6</td>\n",
       "      <td>31369</td>\n",
       "      <td>41808</td>\n",
       "      <td>73177</td>\n",
       "      <td>4035</td>\n",
       "      <td>4011</td>\n",
       "      <td>2.27</td>\n",
       "      <td>MI</td>\n",
       "      <td>Black or African-American</td>\n",
       "      <td>54200</td>\n",
       "      <td>74.066988</td>\n",
       "      <td>9</td>\n",
       "    </tr>\n",
       "    <tr>\n",
       "      <th>9</th>\n",
       "      <td>Birmingham</td>\n",
       "      <td>Alabama</td>\n",
       "      <td>35.6</td>\n",
       "      <td>102122</td>\n",
       "      <td>112789</td>\n",
       "      <td>214911</td>\n",
       "      <td>13212</td>\n",
       "      <td>8258</td>\n",
       "      <td>2.21</td>\n",
       "      <td>AL</td>\n",
       "      <td>Black or African-American</td>\n",
       "      <td>157985</td>\n",
       "      <td>73.511826</td>\n",
       "      <td>10</td>\n",
       "    </tr>\n",
       "  </tbody>\n",
       "</table>\n",
       "</div>"
      ],
      "text/plain": [
       "            City        State  Median Age  Male Population  Female Population  \\\n",
       "0    East Orange   New Jersey        35.5            29995              34967   \n",
       "1        Jackson  Mississippi        31.7            79039              91772   \n",
       "2        Detroit     Michigan        34.8           319265             357859   \n",
       "3     Lauderhill      Florida        35.7            32813              38761   \n",
       "4           Gary      Indiana        38.1            35876              41478   \n",
       "5  Miami Gardens      Florida        34.9            50719              62480   \n",
       "6         Albany      Georgia        33.3            31695              39414   \n",
       "7     Pine Hills      Florida        29.2            35344              40737   \n",
       "8     Southfield     Michigan        41.6            31369              41808   \n",
       "9     Birmingham      Alabama        35.6           102122             112789   \n",
       "\n",
       "   Total Population  Number of Veterans  Foreign-born  Average Household Size  \\\n",
       "0             64962                1870         15164                    2.85   \n",
       "1            170811                8146          1789                    2.65   \n",
       "2            677124               29511         39861                    2.60   \n",
       "3             71574                1965         25471                    3.02   \n",
       "4             77354                3952          1884                    2.35   \n",
       "5            113199                2327         33394                    3.75   \n",
       "6             71109                5409           861                    2.38   \n",
       "7             76081                2594         20735                    3.30   \n",
       "8             73177                4035          4011                    2.27   \n",
       "9            214911               13212          8258                    2.21   \n",
       "\n",
       "  State Code                       Race   Count  Race_percent_by_city  \\\n",
       "0         NJ  Black or African-American   57859             89.065915   \n",
       "1         MS  Black or African-American  139567             81.708438   \n",
       "2         MI  Black or African-American  545988             80.633385   \n",
       "3         FL  Black or African-American   56948             79.565205   \n",
       "4         IN  Black or African-American   61416             79.396023   \n",
       "5         FL  Black or African-American   85300             75.354023   \n",
       "6         GA  Black or African-American   53440             75.152231   \n",
       "7         FL  Black or African-American   57089             75.037131   \n",
       "8         MI  Black or African-American   54200             74.066988   \n",
       "9         AL  Black or African-American  157985             73.511826   \n",
       "\n",
       "   Race_rank_by_city  \n",
       "0                  1  \n",
       "1                  2  \n",
       "2                  3  \n",
       "3                  4  \n",
       "4                  5  \n",
       "5                  6  \n",
       "6                  7  \n",
       "7                  8  \n",
       "8                  9  \n",
       "9                 10  "
      ]
     },
     "execution_count": 92,
     "metadata": {},
     "output_type": "execute_result"
    }
   ],
   "source": [
    "df.limit(10).toPandas()"
   ]
  },
  {
   "cell_type": "code",
   "execution_count": 93,
   "metadata": {
    "editable": true
   },
   "outputs": [
    {
     "name": "stdout",
     "output_type": "stream",
     "text": [
      "root\n",
      " |-- City: string (nullable = true)\n",
      " |-- State: string (nullable = true)\n",
      " |-- Median Age: double (nullable = true)\n",
      " |-- Male Population: integer (nullable = true)\n",
      " |-- Female Population: integer (nullable = true)\n",
      " |-- Total Population: integer (nullable = true)\n",
      " |-- Number of Veterans: integer (nullable = true)\n",
      " |-- Foreign-born: integer (nullable = true)\n",
      " |-- Average Household Size: double (nullable = true)\n",
      " |-- State Code: string (nullable = true)\n",
      " |-- Race: string (nullable = true)\n",
      " |-- Count: integer (nullable = true)\n",
      " |-- Race_percent_by_city: double (nullable = true)\n",
      " |-- Race_rank_by_city: integer (nullable = true)\n",
      "\n"
     ]
    }
   ],
   "source": [
    "df.printSchema()"
   ]
  },
  {
   "cell_type": "code",
   "execution_count": 94,
   "metadata": {
    "editable": true
   },
   "outputs": [],
   "source": [
    "# df.write.parquet('CitiesDemog',partitionBy=['state'])"
   ]
  },
  {
   "cell_type": "code",
   "execution_count": 95,
   "metadata": {
    "editable": true
   },
   "outputs": [],
   "source": [
    "cities = df.select([\"City\", \"State\"]).distinct().toPandas()"
   ]
  },
  {
   "cell_type": "code",
   "execution_count": 96,
   "metadata": {
    "editable": true
   },
   "outputs": [
    {
     "data": {
      "text/plain": [
       "596"
      ]
     },
     "execution_count": 96,
     "metadata": {},
     "output_type": "execute_result"
    }
   ],
   "source": [
    "len(cities)"
   ]
  },
  {
   "cell_type": "code",
   "execution_count": 97,
   "metadata": {
    "editable": true
   },
   "outputs": [
    {
     "data": {
      "text/html": [
       "<div>\n",
       "<style scoped>\n",
       "    .dataframe tbody tr th:only-of-type {\n",
       "        vertical-align: middle;\n",
       "    }\n",
       "\n",
       "    .dataframe tbody tr th {\n",
       "        vertical-align: top;\n",
       "    }\n",
       "\n",
       "    .dataframe thead th {\n",
       "        text-align: right;\n",
       "    }\n",
       "</style>\n",
       "<table border=\"1\" class=\"dataframe\">\n",
       "  <thead>\n",
       "    <tr style=\"text-align: right;\">\n",
       "      <th></th>\n",
       "      <th>City</th>\n",
       "      <th>State</th>\n",
       "    </tr>\n",
       "  </thead>\n",
       "  <tbody>\n",
       "    <tr>\n",
       "      <th>0</th>\n",
       "      <td>Lynchburg</td>\n",
       "      <td>Virginia</td>\n",
       "    </tr>\n",
       "    <tr>\n",
       "      <th>1</th>\n",
       "      <td>Cincinnati</td>\n",
       "      <td>Ohio</td>\n",
       "    </tr>\n",
       "    <tr>\n",
       "      <th>2</th>\n",
       "      <td>Kansas City</td>\n",
       "      <td>Kansas</td>\n",
       "    </tr>\n",
       "    <tr>\n",
       "      <th>3</th>\n",
       "      <td>Dayton</td>\n",
       "      <td>Ohio</td>\n",
       "    </tr>\n",
       "    <tr>\n",
       "      <th>4</th>\n",
       "      <td>Auburn</td>\n",
       "      <td>Washington</td>\n",
       "    </tr>\n",
       "  </tbody>\n",
       "</table>\n",
       "</div>"
      ],
      "text/plain": [
       "          City       State\n",
       "0    Lynchburg    Virginia\n",
       "1   Cincinnati        Ohio\n",
       "2  Kansas City      Kansas\n",
       "3       Dayton        Ohio\n",
       "4       Auburn  Washington"
      ]
     },
     "execution_count": 97,
     "metadata": {},
     "output_type": "execute_result"
    }
   ],
   "source": [
    "cities.head()"
   ]
  },
  {
   "cell_type": "code",
   "execution_count": 98,
   "metadata": {
    "editable": true
   },
   "outputs": [],
   "source": [
    "cities.to_csv(\"Cities_in_demog.csv\",index=False)"
   ]
  },
  {
   "cell_type": "code",
   "execution_count": 99,
   "metadata": {
    "editable": true
   },
   "outputs": [
    {
     "name": "stdout",
     "output_type": "stream",
     "text": [
      "+--------------------+--------+\n",
      "|                Race|count(1)|\n",
      "+--------------------+--------+\n",
      "|Black or African-...|     584|\n",
      "|  Hispanic or Latino|     596|\n",
      "|               White|     589|\n",
      "|               Asian|     583|\n",
      "|American Indian a...|     539|\n",
      "+--------------------+--------+\n",
      "\n"
     ]
    }
   ],
   "source": [
    "df.groupby(\"Race\").agg({\"*\":\"count\"}).show()"
   ]
  },
  {
   "cell_type": "code",
   "execution_count": 100,
   "metadata": {
    "editable": true
   },
   "outputs": [
    {
     "name": "stdout",
     "output_type": "stream",
     "text": [
      "+----+----------+----+--------+\n",
      "|City|State code|Race|count(1)|\n",
      "+----+----------+----+--------+\n",
      "+----+----------+----+--------+\n",
      "\n"
     ]
    }
   ],
   "source": [
    "df.groupby([\"City\",\"State code\", \"Race\"]).agg({\"*\":\"count\"}).filter(F.col(\"count(1)\")>1).show()"
   ]
  },
  {
   "cell_type": "code",
   "execution_count": 101,
   "metadata": {
    "editable": true
   },
   "outputs": [
    {
     "name": "stdout",
     "output_type": "stream",
     "text": [
      "+-----------+-------------+----------+---------------+-----------------+----------------+------------------+------------+----------------------+----------+--------------------+------+--------------------+-----------------+\n",
      "|       City|        State|Median Age|Male Population|Female Population|Total Population|Number of Veterans|Foreign-born|Average Household Size|State Code|                Race| Count|Race_percent_by_city|Race_rank_by_city|\n",
      "+-----------+-------------+----------+---------------+-----------------+----------------+------------------+------------+----------------------+----------+--------------------+------+--------------------+-----------------+\n",
      "|Springfield|Massachusetts|      31.8|          74744|            79592|          154336|              5723|       16226|                  2.81|        MA|Black or African-...| 35284|   22.86180800331744|              154|\n",
      "|Springfield|     Illinois|      38.8|          55639|            62170|          117809|              7525|        4264|                  2.22|        IL|Black or African-...| 25327|  21.498357510886265|              170|\n",
      "|Springfield|     Missouri|      34.1|          81057|            85741|          166798|             12291|        7765|                  2.12|        MO|Black or African-...| 10026|  6.0108634396095875|              398|\n",
      "|Springfield|Massachusetts|      31.8|          74744|            79592|          154336|              5723|       16226|                  2.81|        MA|  Hispanic or Latino| 69209|   44.84306966618287|               92|\n",
      "|Springfield|     Missouri|      34.1|          81057|            85741|          166798|             12291|        7765|                  2.12|        MO|  Hispanic or Latino|  7100|   4.256645763138647|              536|\n",
      "|Springfield|     Illinois|      38.8|          55639|            62170|          117809|              7525|        4264|                  2.22|        IL|  Hispanic or Latino|  2738|  2.3241008751453625|              586|\n",
      "|Springfield|     Missouri|      34.1|          81057|            85741|          166798|             12291|        7765|                  2.12|        MO|               White|151686|   90.93993932780968|               39|\n",
      "|Springfield|     Illinois|      38.8|          55639|            62170|          117809|              7525|        4264|                  2.22|        IL|               White| 90935|    77.1885000297091|              225|\n",
      "|Springfield|Massachusetts|      31.8|          74744|            79592|          154336|              5723|       16226|                  2.81|        MA|               White| 97171|  62.960683184739786|              395|\n",
      "|Springfield|Massachusetts|      31.8|          74744|            79592|          154336|              5723|       16226|                  2.81|        MA|               Asian|  5606|  3.6323346464855897|              402|\n",
      "|Springfield|     Missouri|      34.1|          81057|            85741|          166798|             12291|        7765|                  2.12|        MO|               Asian|  5725|  3.4322953512632046|              412|\n",
      "|Springfield|     Illinois|      38.8|          55639|            62170|          117809|              7525|        4264|                  2.22|        IL|               Asian|  3871|  3.2858270590532133|              421|\n",
      "|Springfield|     Missouri|      34.1|          81057|            85741|          166798|             12291|        7765|                  2.12|        MO|American Indian a...|  2777|  1.6648880682022567|              180|\n",
      "|Springfield|     Illinois|      38.8|          55639|            62170|          117809|              7525|        4264|                  2.22|        IL|American Indian a...|  1602|   1.359828196487535|              242|\n",
      "|Springfield|Massachusetts|      31.8|          74744|            79592|          154336|              5723|       16226|                  2.81|        MA|American Indian a...|  2087|   1.352244453659548|              247|\n",
      "+-----------+-------------+----------+---------------+-----------------+----------------+------------------+------------+----------------------+----------+--------------------+------+--------------------+-----------------+\n",
      "\n"
     ]
    }
   ],
   "source": [
    "df.where(F.col(\"City\")==\"Springfield\").show()"
   ]
  },
  {
   "cell_type": "markdown",
   "metadata": {
    "editable": true
   },
   "source": [
    "### Decisions:\n",
    "\n",
    "All the cities of a state are not available hence the computation of the % of race in a state is not done."
   ]
  },
  {
   "cell_type": "code",
   "execution_count": 102,
   "metadata": {
    "editable": true
   },
   "outputs": [],
   "source": [
    "# df = df.withColumn(\"Race_percent_by_state\", \\\n",
    "#                    F.sum(\"Count\").over(Window.partitionBy([\"State Code\", \"Race\"]))*100/F.sum(\"Count\").over(Window.partitionBy(\"State Code\")))"
   ]
  },
  {
   "cell_type": "code",
   "execution_count": 103,
   "metadata": {
    "editable": true
   },
   "outputs": [],
   "source": [
    "# df.limit(20).toPandas()"
   ]
  },
  {
   "cell_type": "code",
   "execution_count": 104,
   "metadata": {
    "editable": true
   },
   "outputs": [],
   "source": [
    "# df =  df.withColumn(\"Race_rank_by_state\", \\\n",
    "#                     F.dense_rank().over(Window.partitionBy(\"Race\").orderBy(F.desc(\"Race_percent_by_state\"))))"
   ]
  },
  {
   "cell_type": "code",
   "execution_count": null,
   "metadata": {
    "editable": true
   },
   "outputs": [],
   "source": []
  },
  {
   "cell_type": "markdown",
   "metadata": {
    "editable": true
   },
   "source": [
    "#### Loading the Airport codes data"
   ]
  },
  {
   "cell_type": "code",
   "execution_count": 118,
   "metadata": {
    "editable": true
   },
   "outputs": [],
   "source": [
    "df_apc =  spark.read.options(delimiter=\",\", header=True) \\\n",
    "                    .csv(\"Cleaned Data/I94_ports.csv\")"
   ]
  },
  {
   "cell_type": "code",
   "execution_count": 119,
   "metadata": {
    "editable": true
   },
   "outputs": [
    {
     "data": {
      "text/html": [
       "<div>\n",
       "<style scoped>\n",
       "    .dataframe tbody tr th:only-of-type {\n",
       "        vertical-align: middle;\n",
       "    }\n",
       "\n",
       "    .dataframe tbody tr th {\n",
       "        vertical-align: top;\n",
       "    }\n",
       "\n",
       "    .dataframe thead th {\n",
       "        text-align: right;\n",
       "    }\n",
       "</style>\n",
       "<table border=\"1\" class=\"dataframe\">\n",
       "  <thead>\n",
       "    <tr style=\"text-align: right;\">\n",
       "      <th></th>\n",
       "      <th>code</th>\n",
       "      <th>port</th>\n",
       "      <th>locality</th>\n",
       "      <th>province</th>\n",
       "      <th>territory</th>\n",
       "    </tr>\n",
       "  </thead>\n",
       "  <tbody>\n",
       "    <tr>\n",
       "      <th>0</th>\n",
       "      <td>CLG</td>\n",
       "      <td>None</td>\n",
       "      <td>Calgary</td>\n",
       "      <td>Alberta</td>\n",
       "      <td>Canada</td>\n",
       "    </tr>\n",
       "    <tr>\n",
       "      <th>1</th>\n",
       "      <td>EDA</td>\n",
       "      <td>None</td>\n",
       "      <td>Edmonton</td>\n",
       "      <td>Alberta</td>\n",
       "      <td>Canada</td>\n",
       "    </tr>\n",
       "    <tr>\n",
       "      <th>2</th>\n",
       "      <td>YHC</td>\n",
       "      <td>None</td>\n",
       "      <td>Hakai pass</td>\n",
       "      <td>British Columbia</td>\n",
       "      <td>Canada</td>\n",
       "    </tr>\n",
       "    <tr>\n",
       "      <th>3</th>\n",
       "      <td>HAL</td>\n",
       "      <td>None</td>\n",
       "      <td>Halifax</td>\n",
       "      <td>Nova Scotia</td>\n",
       "      <td>Canada</td>\n",
       "    </tr>\n",
       "    <tr>\n",
       "      <th>4</th>\n",
       "      <td>MON</td>\n",
       "      <td>None</td>\n",
       "      <td>Montreal</td>\n",
       "      <td>Quebec</td>\n",
       "      <td>Canada</td>\n",
       "    </tr>\n",
       "  </tbody>\n",
       "</table>\n",
       "</div>"
      ],
      "text/plain": [
       "  code  port    locality          province territory\n",
       "0  CLG  None     Calgary           Alberta    Canada\n",
       "1  EDA  None    Edmonton           Alberta    Canada\n",
       "2  YHC  None  Hakai pass  British Columbia    Canada\n",
       "3  HAL  None     Halifax       Nova Scotia    Canada\n",
       "4  MON  None    Montreal            Quebec    Canada"
      ]
     },
     "execution_count": 119,
     "metadata": {},
     "output_type": "execute_result"
    }
   ],
   "source": [
    "df_apc.limit(5).toPandas()"
   ]
  },
  {
   "cell_type": "markdown",
   "metadata": {
    "editable": true
   },
   "source": [
    "    Merging both the dataframes by the city. state, and country"
   ]
  },
  {
   "cell_type": "code",
   "execution_count": 120,
   "metadata": {
    "editable": true
   },
   "outputs": [],
   "source": [
    "cond = [df.City==df_apc.locality, df.State==df_apc.province]\n",
    "df_merged = df.join(F.broadcast(df_apc), cond, \"inner\")"
   ]
  },
  {
   "cell_type": "code",
   "execution_count": 121,
   "metadata": {
    "editable": true
   },
   "outputs": [
    {
     "data": {
      "text/html": [
       "<div>\n",
       "<style scoped>\n",
       "    .dataframe tbody tr th:only-of-type {\n",
       "        vertical-align: middle;\n",
       "    }\n",
       "\n",
       "    .dataframe tbody tr th {\n",
       "        vertical-align: top;\n",
       "    }\n",
       "\n",
       "    .dataframe thead th {\n",
       "        text-align: right;\n",
       "    }\n",
       "</style>\n",
       "<table border=\"1\" class=\"dataframe\">\n",
       "  <thead>\n",
       "    <tr style=\"text-align: right;\">\n",
       "      <th></th>\n",
       "      <th>City</th>\n",
       "      <th>State</th>\n",
       "      <th>Median Age</th>\n",
       "      <th>Male Population</th>\n",
       "      <th>Female Population</th>\n",
       "      <th>Total Population</th>\n",
       "      <th>Number of Veterans</th>\n",
       "      <th>Foreign-born</th>\n",
       "      <th>Average Household Size</th>\n",
       "      <th>State Code</th>\n",
       "      <th>Race</th>\n",
       "      <th>Count</th>\n",
       "      <th>Race_percent_by_city</th>\n",
       "      <th>Race_rank_by_city</th>\n",
       "      <th>code</th>\n",
       "      <th>port</th>\n",
       "      <th>locality</th>\n",
       "      <th>province</th>\n",
       "      <th>territory</th>\n",
       "    </tr>\n",
       "  </thead>\n",
       "  <tbody>\n",
       "    <tr>\n",
       "      <th>0</th>\n",
       "      <td>Jackson</td>\n",
       "      <td>Mississippi</td>\n",
       "      <td>31.7</td>\n",
       "      <td>79039</td>\n",
       "      <td>91772</td>\n",
       "      <td>170811</td>\n",
       "      <td>8146</td>\n",
       "      <td>1789</td>\n",
       "      <td>2.65</td>\n",
       "      <td>MS</td>\n",
       "      <td>Black or African-American</td>\n",
       "      <td>139567</td>\n",
       "      <td>81.708438</td>\n",
       "      <td>2</td>\n",
       "      <td>JAN</td>\n",
       "      <td>Thompson Field - Jackson Airport</td>\n",
       "      <td>Jackson</td>\n",
       "      <td>Mississippi</td>\n",
       "      <td>Unites States</td>\n",
       "    </tr>\n",
       "    <tr>\n",
       "      <th>1</th>\n",
       "      <td>Detroit</td>\n",
       "      <td>Michigan</td>\n",
       "      <td>34.8</td>\n",
       "      <td>319265</td>\n",
       "      <td>357859</td>\n",
       "      <td>677124</td>\n",
       "      <td>29511</td>\n",
       "      <td>39861</td>\n",
       "      <td>2.60</td>\n",
       "      <td>MI</td>\n",
       "      <td>Black or African-American</td>\n",
       "      <td>545988</td>\n",
       "      <td>80.633385</td>\n",
       "      <td>3</td>\n",
       "      <td>DET</td>\n",
       "      <td>None</td>\n",
       "      <td>Detroit</td>\n",
       "      <td>Michigan</td>\n",
       "      <td>Unites States</td>\n",
       "    </tr>\n",
       "    <tr>\n",
       "      <th>2</th>\n",
       "      <td>Gary</td>\n",
       "      <td>Indiana</td>\n",
       "      <td>38.1</td>\n",
       "      <td>35876</td>\n",
       "      <td>41478</td>\n",
       "      <td>77354</td>\n",
       "      <td>3952</td>\n",
       "      <td>1884</td>\n",
       "      <td>2.35</td>\n",
       "      <td>IN</td>\n",
       "      <td>Black or African-American</td>\n",
       "      <td>61416</td>\n",
       "      <td>79.396023</td>\n",
       "      <td>5</td>\n",
       "      <td>GAR</td>\n",
       "      <td>None</td>\n",
       "      <td>Gary</td>\n",
       "      <td>Indiana</td>\n",
       "      <td>Unites States</td>\n",
       "    </tr>\n",
       "    <tr>\n",
       "      <th>3</th>\n",
       "      <td>Birmingham</td>\n",
       "      <td>Alabama</td>\n",
       "      <td>35.6</td>\n",
       "      <td>102122</td>\n",
       "      <td>112789</td>\n",
       "      <td>214911</td>\n",
       "      <td>13212</td>\n",
       "      <td>8258</td>\n",
       "      <td>2.21</td>\n",
       "      <td>AL</td>\n",
       "      <td>Black or African-American</td>\n",
       "      <td>157985</td>\n",
       "      <td>73.511826</td>\n",
       "      <td>10</td>\n",
       "      <td>BHX</td>\n",
       "      <td>None</td>\n",
       "      <td>Birmingham</td>\n",
       "      <td>Alabama</td>\n",
       "      <td>Unites States</td>\n",
       "    </tr>\n",
       "    <tr>\n",
       "      <th>4</th>\n",
       "      <td>Memphis</td>\n",
       "      <td>Tennessee</td>\n",
       "      <td>34.1</td>\n",
       "      <td>312237</td>\n",
       "      <td>343523</td>\n",
       "      <td>655760</td>\n",
       "      <td>31189</td>\n",
       "      <td>43318</td>\n",
       "      <td>2.55</td>\n",
       "      <td>TN</td>\n",
       "      <td>Black or African-American</td>\n",
       "      <td>420983</td>\n",
       "      <td>64.197725</td>\n",
       "      <td>12</td>\n",
       "      <td>MEM</td>\n",
       "      <td>None</td>\n",
       "      <td>Memphis</td>\n",
       "      <td>Tennessee</td>\n",
       "      <td>Unites States</td>\n",
       "    </tr>\n",
       "  </tbody>\n",
       "</table>\n",
       "</div>"
      ],
      "text/plain": [
       "         City        State  Median Age  Male Population  Female Population  \\\n",
       "0     Jackson  Mississippi        31.7            79039              91772   \n",
       "1     Detroit     Michigan        34.8           319265             357859   \n",
       "2        Gary      Indiana        38.1            35876              41478   \n",
       "3  Birmingham      Alabama        35.6           102122             112789   \n",
       "4     Memphis    Tennessee        34.1           312237             343523   \n",
       "\n",
       "   Total Population  Number of Veterans  Foreign-born  Average Household Size  \\\n",
       "0            170811                8146          1789                    2.65   \n",
       "1            677124               29511         39861                    2.60   \n",
       "2             77354                3952          1884                    2.35   \n",
       "3            214911               13212          8258                    2.21   \n",
       "4            655760               31189         43318                    2.55   \n",
       "\n",
       "  State Code                       Race   Count  Race_percent_by_city  \\\n",
       "0         MS  Black or African-American  139567             81.708438   \n",
       "1         MI  Black or African-American  545988             80.633385   \n",
       "2         IN  Black or African-American   61416             79.396023   \n",
       "3         AL  Black or African-American  157985             73.511826   \n",
       "4         TN  Black or African-American  420983             64.197725   \n",
       "\n",
       "   Race_rank_by_city code                              port    locality  \\\n",
       "0                  2  JAN  Thompson Field - Jackson Airport     Jackson   \n",
       "1                  3  DET                              None     Detroit   \n",
       "2                  5  GAR                              None        Gary   \n",
       "3                 10  BHX                              None  Birmingham   \n",
       "4                 12  MEM                              None     Memphis   \n",
       "\n",
       "      province      territory  \n",
       "0  Mississippi  Unites States  \n",
       "1     Michigan  Unites States  \n",
       "2      Indiana  Unites States  \n",
       "3      Alabama  Unites States  \n",
       "4    Tennessee  Unites States  "
      ]
     },
     "execution_count": 121,
     "metadata": {},
     "output_type": "execute_result"
    }
   ],
   "source": [
    "df_merged.limit(5).toPandas()"
   ]
  },
  {
   "cell_type": "code",
   "execution_count": 122,
   "metadata": {
    "editable": true
   },
   "outputs": [
    {
     "data": {
      "text/plain": [
       "749"
      ]
     },
     "execution_count": 122,
     "metadata": {},
     "output_type": "execute_result"
    }
   ],
   "source": [
    "df_merged.count()"
   ]
  },
  {
   "cell_type": "code",
   "execution_count": 123,
   "metadata": {
    "editable": true
   },
   "outputs": [
    {
     "data": {
      "text/plain": [
       "2891"
      ]
     },
     "execution_count": 123,
     "metadata": {},
     "output_type": "execute_result"
    }
   ],
   "source": [
    "df.count()"
   ]
  },
  {
   "cell_type": "code",
   "execution_count": 124,
   "metadata": {
    "editable": true
   },
   "outputs": [
    {
     "data": {
      "text/plain": [
       "['City',\n",
       " 'State',\n",
       " 'Median Age',\n",
       " 'Male Population',\n",
       " 'Female Population',\n",
       " 'Total Population',\n",
       " 'Number of Veterans',\n",
       " 'Foreign-born',\n",
       " 'Average Household Size',\n",
       " 'State Code',\n",
       " 'Race',\n",
       " 'Count',\n",
       " 'Race_percent_by_city',\n",
       " 'Race_rank_by_city',\n",
       " 'code',\n",
       " 'port',\n",
       " 'locality',\n",
       " 'province',\n",
       " 'territory']"
      ]
     },
     "execution_count": 124,
     "metadata": {},
     "output_type": "execute_result"
    }
   ],
   "source": [
    "df_merged.columns"
   ]
  },
  {
   "cell_type": "code",
   "execution_count": 127,
   "metadata": {
    "editable": true
   },
   "outputs": [
    {
     "data": {
      "text/plain": [
       "DataFrame[City: string, State: string, territory: string, Median Age: double, Male Population: int, Female Population: int, Total Population: int, Number of Veterans: int, Foreign-born: int, Average Household Size: double, Race: string, Count: int, Race_percent_by_city: double, Race_rank_by_city: int, code: string]"
      ]
     },
     "execution_count": 127,
     "metadata": {},
     "output_type": "execute_result"
    }
   ],
   "source": [
    "df_merged.select(\"City\", \"State\", \"territory\", \"Median Age\", \"Male Population\", \"Female Population\", \"Total Population\", \\\n",
    "         \"Number of Veterans\", \"Foreign-born\", \"Average Household Size\", \"Race\", \"Count\", \"Race_percent_by_city\",\\\n",
    "          \"Race_rank_by_city\", \"code\")"
   ]
  },
  {
   "cell_type": "code",
   "execution_count": 128,
   "metadata": {
    "editable": true
   },
   "outputs": [
    {
     "data": {
      "text/html": [
       "<div>\n",
       "<style scoped>\n",
       "    .dataframe tbody tr th:only-of-type {\n",
       "        vertical-align: middle;\n",
       "    }\n",
       "\n",
       "    .dataframe tbody tr th {\n",
       "        vertical-align: top;\n",
       "    }\n",
       "\n",
       "    .dataframe thead th {\n",
       "        text-align: right;\n",
       "    }\n",
       "</style>\n",
       "<table border=\"1\" class=\"dataframe\">\n",
       "  <thead>\n",
       "    <tr style=\"text-align: right;\">\n",
       "      <th></th>\n",
       "      <th>City</th>\n",
       "      <th>State</th>\n",
       "      <th>Median Age</th>\n",
       "      <th>Male Population</th>\n",
       "      <th>Female Population</th>\n",
       "      <th>Total Population</th>\n",
       "      <th>Number of Veterans</th>\n",
       "      <th>Foreign-born</th>\n",
       "      <th>Average Household Size</th>\n",
       "      <th>State Code</th>\n",
       "      <th>Race</th>\n",
       "      <th>Count</th>\n",
       "      <th>Race_percent_by_city</th>\n",
       "      <th>Race_rank_by_city</th>\n",
       "      <th>code</th>\n",
       "      <th>port</th>\n",
       "      <th>locality</th>\n",
       "      <th>province</th>\n",
       "      <th>territory</th>\n",
       "    </tr>\n",
       "  </thead>\n",
       "  <tbody>\n",
       "    <tr>\n",
       "      <th>0</th>\n",
       "      <td>Jackson</td>\n",
       "      <td>Mississippi</td>\n",
       "      <td>31.7</td>\n",
       "      <td>79039</td>\n",
       "      <td>91772</td>\n",
       "      <td>170811</td>\n",
       "      <td>8146</td>\n",
       "      <td>1789</td>\n",
       "      <td>2.65</td>\n",
       "      <td>MS</td>\n",
       "      <td>Black or African-American</td>\n",
       "      <td>139567</td>\n",
       "      <td>81.708438</td>\n",
       "      <td>2</td>\n",
       "      <td>JAN</td>\n",
       "      <td>Thompson Field - Jackson Airport</td>\n",
       "      <td>Jackson</td>\n",
       "      <td>Mississippi</td>\n",
       "      <td>Unites States</td>\n",
       "    </tr>\n",
       "    <tr>\n",
       "      <th>1</th>\n",
       "      <td>Detroit</td>\n",
       "      <td>Michigan</td>\n",
       "      <td>34.8</td>\n",
       "      <td>319265</td>\n",
       "      <td>357859</td>\n",
       "      <td>677124</td>\n",
       "      <td>29511</td>\n",
       "      <td>39861</td>\n",
       "      <td>2.60</td>\n",
       "      <td>MI</td>\n",
       "      <td>Black or African-American</td>\n",
       "      <td>545988</td>\n",
       "      <td>80.633385</td>\n",
       "      <td>3</td>\n",
       "      <td>DET</td>\n",
       "      <td>None</td>\n",
       "      <td>Detroit</td>\n",
       "      <td>Michigan</td>\n",
       "      <td>Unites States</td>\n",
       "    </tr>\n",
       "    <tr>\n",
       "      <th>2</th>\n",
       "      <td>Gary</td>\n",
       "      <td>Indiana</td>\n",
       "      <td>38.1</td>\n",
       "      <td>35876</td>\n",
       "      <td>41478</td>\n",
       "      <td>77354</td>\n",
       "      <td>3952</td>\n",
       "      <td>1884</td>\n",
       "      <td>2.35</td>\n",
       "      <td>IN</td>\n",
       "      <td>Black or African-American</td>\n",
       "      <td>61416</td>\n",
       "      <td>79.396023</td>\n",
       "      <td>5</td>\n",
       "      <td>GAR</td>\n",
       "      <td>None</td>\n",
       "      <td>Gary</td>\n",
       "      <td>Indiana</td>\n",
       "      <td>Unites States</td>\n",
       "    </tr>\n",
       "    <tr>\n",
       "      <th>3</th>\n",
       "      <td>Birmingham</td>\n",
       "      <td>Alabama</td>\n",
       "      <td>35.6</td>\n",
       "      <td>102122</td>\n",
       "      <td>112789</td>\n",
       "      <td>214911</td>\n",
       "      <td>13212</td>\n",
       "      <td>8258</td>\n",
       "      <td>2.21</td>\n",
       "      <td>AL</td>\n",
       "      <td>Black or African-American</td>\n",
       "      <td>157985</td>\n",
       "      <td>73.511826</td>\n",
       "      <td>10</td>\n",
       "      <td>BHX</td>\n",
       "      <td>None</td>\n",
       "      <td>Birmingham</td>\n",
       "      <td>Alabama</td>\n",
       "      <td>Unites States</td>\n",
       "    </tr>\n",
       "    <tr>\n",
       "      <th>4</th>\n",
       "      <td>Memphis</td>\n",
       "      <td>Tennessee</td>\n",
       "      <td>34.1</td>\n",
       "      <td>312237</td>\n",
       "      <td>343523</td>\n",
       "      <td>655760</td>\n",
       "      <td>31189</td>\n",
       "      <td>43318</td>\n",
       "      <td>2.55</td>\n",
       "      <td>TN</td>\n",
       "      <td>Black or African-American</td>\n",
       "      <td>420983</td>\n",
       "      <td>64.197725</td>\n",
       "      <td>12</td>\n",
       "      <td>MEM</td>\n",
       "      <td>None</td>\n",
       "      <td>Memphis</td>\n",
       "      <td>Tennessee</td>\n",
       "      <td>Unites States</td>\n",
       "    </tr>\n",
       "  </tbody>\n",
       "</table>\n",
       "</div>"
      ],
      "text/plain": [
       "         City        State  Median Age  Male Population  Female Population  \\\n",
       "0     Jackson  Mississippi        31.7            79039              91772   \n",
       "1     Detroit     Michigan        34.8           319265             357859   \n",
       "2        Gary      Indiana        38.1            35876              41478   \n",
       "3  Birmingham      Alabama        35.6           102122             112789   \n",
       "4     Memphis    Tennessee        34.1           312237             343523   \n",
       "\n",
       "   Total Population  Number of Veterans  Foreign-born  Average Household Size  \\\n",
       "0            170811                8146          1789                    2.65   \n",
       "1            677124               29511         39861                    2.60   \n",
       "2             77354                3952          1884                    2.35   \n",
       "3            214911               13212          8258                    2.21   \n",
       "4            655760               31189         43318                    2.55   \n",
       "\n",
       "  State Code                       Race   Count  Race_percent_by_city  \\\n",
       "0         MS  Black or African-American  139567             81.708438   \n",
       "1         MI  Black or African-American  545988             80.633385   \n",
       "2         IN  Black or African-American   61416             79.396023   \n",
       "3         AL  Black or African-American  157985             73.511826   \n",
       "4         TN  Black or African-American  420983             64.197725   \n",
       "\n",
       "   Race_rank_by_city code                              port    locality  \\\n",
       "0                  2  JAN  Thompson Field - Jackson Airport     Jackson   \n",
       "1                  3  DET                              None     Detroit   \n",
       "2                  5  GAR                              None        Gary   \n",
       "3                 10  BHX                              None  Birmingham   \n",
       "4                 12  MEM                              None     Memphis   \n",
       "\n",
       "      province      territory  \n",
       "0  Mississippi  Unites States  \n",
       "1     Michigan  Unites States  \n",
       "2      Indiana  Unites States  \n",
       "3      Alabama  Unites States  \n",
       "4    Tennessee  Unites States  "
      ]
     },
     "execution_count": 128,
     "metadata": {},
     "output_type": "execute_result"
    }
   ],
   "source": [
    "df_merged.limit(5).toPandas()"
   ]
  },
  {
   "cell_type": "code",
   "execution_count": null,
   "metadata": {
    "editable": true
   },
   "outputs": [],
   "source": []
  }
 ],
 "metadata": {
  "kernelspec": {
   "display_name": "Python 3",
   "language": "python",
   "name": "python3"
  },
  "language_info": {
   "codemirror_mode": {
    "name": "ipython",
    "version": 3
   },
   "file_extension": ".py",
   "mimetype": "text/x-python",
   "name": "python",
   "nbconvert_exporter": "python",
   "pygments_lexer": "ipython3",
   "version": "3.6.3"
  }
 },
 "nbformat": 4,
 "nbformat_minor": 4
}
